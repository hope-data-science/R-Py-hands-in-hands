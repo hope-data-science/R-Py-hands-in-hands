{
 "cells": [
  {
   "cell_type": "markdown",
   "metadata": {},
   "source": [
    "## R"
   ]
  },
  {
   "cell_type": "markdown",
   "metadata": {},
   "source": [
    "在R中，上述操作要如何进行呢？我们看一下。"
   ]
  },
  {
   "cell_type": "code",
   "execution_count": 1,
   "metadata": {},
   "outputs": [
    {
     "name": "stderr",
     "output_type": "stream",
     "text": [
      "-- Attaching packages --------------------------------------- tidyverse 1.2.1 --\n",
      "√ ggplot2 3.0.0     √ purrr   0.2.5\n",
      "√ tibble  1.4.2     √ dplyr   0.7.6\n",
      "√ tidyr   0.8.1     √ stringr 1.3.1\n",
      "√ readr   1.1.1     √ forcats 0.3.0\n",
      "-- Conflicts ------------------------------------------ tidyverse_conflicts() --\n",
      "x dplyr::filter() masks stats::filter()\n",
      "x dplyr::lag()    masks stats::lag()\n",
      "Parsed with column specification:\n",
      "cols(\n",
      "  TIME = col_integer(),\n",
      "  GEO = col_character(),\n",
      "  INDIC_ED = col_character(),\n",
      "  Value = col_double(),\n",
      "  `Flag and Footnotes` = col_character()\n",
      ")\n"
     ]
    }
   ],
   "source": [
    "#加载包与数据读取\n",
    "\n",
    "library(tidyverse)\n",
    "\n",
    "edu = read_csv('G:/Py/introduction-datascience-python-book-master/files/ch02/educ_figdp_1_Data.csv', na=\":\") %>%                   \n",
    " select(TIME,GEO,Value)\n"
   ]
  },
  {
   "cell_type": "markdown",
   "metadata": {},
   "source": [
    "### 行列选择"
   ]
  },
  {
   "cell_type": "code",
   "execution_count": 2,
   "metadata": {},
   "outputs": [
    {
     "data": {
      "text/html": [
       "<table>\n",
       "<thead><tr><th scope=col>Value</th></tr></thead>\n",
       "<tbody>\n",
       "\t<tr><td>  NA</td></tr>\n",
       "\t<tr><td>  NA</td></tr>\n",
       "\t<tr><td>5.00</td></tr>\n",
       "\t<tr><td>5.03</td></tr>\n",
       "\t<tr><td>4.95</td></tr>\n",
       "\t<tr><td>4.92</td></tr>\n",
       "</tbody>\n",
       "</table>\n"
      ],
      "text/latex": [
       "\\begin{tabular}{r|l}\n",
       " Value\\\\\n",
       "\\hline\n",
       "\t   NA\\\\\n",
       "\t   NA\\\\\n",
       "\t 5.00\\\\\n",
       "\t 5.03\\\\\n",
       "\t 4.95\\\\\n",
       "\t 4.92\\\\\n",
       "\\end{tabular}\n"
      ],
      "text/markdown": [
       "\n",
       "Value | \n",
       "|---|---|---|---|---|---|\n",
       "|   NA | \n",
       "|   NA | \n",
       "| 5.00 | \n",
       "| 5.03 | \n",
       "| 4.95 | \n",
       "| 4.92 | \n",
       "\n",
       "\n"
      ],
      "text/plain": [
       "  Value\n",
       "1   NA \n",
       "2   NA \n",
       "3 5.00 \n",
       "4 5.03 \n",
       "5 4.95 \n",
       "6 4.92 "
      ]
     },
     "metadata": {},
     "output_type": "display_data"
    }
   ],
   "source": [
    "edu %>% select(Value) %>% head"
   ]
  },
  {
   "cell_type": "code",
   "execution_count": 4,
   "metadata": {},
   "outputs": [
    {
     "data": {
      "text/html": [
       "<table>\n",
       "<thead><tr><th scope=col>TIME</th><th scope=col>GEO</th><th scope=col>Value</th></tr></thead>\n",
       "<tbody>\n",
       "\t<tr><td>2009                         </td><td>European Union (28 countries)</td><td>5.38                         </td></tr>\n",
       "\t<tr><td>2010                         </td><td>European Union (28 countries)</td><td>5.41                         </td></tr>\n",
       "\t<tr><td>2011                         </td><td>European Union (28 countries)</td><td>5.25                         </td></tr>\n",
       "\t<tr><td>2000                         </td><td>European Union (27 countries)</td><td>4.91                         </td></tr>\n",
       "</tbody>\n",
       "</table>\n"
      ],
      "text/latex": [
       "\\begin{tabular}{r|lll}\n",
       " TIME & GEO & Value\\\\\n",
       "\\hline\n",
       "\t 2009                          & European Union (28 countries) & 5.38                         \\\\\n",
       "\t 2010                          & European Union (28 countries) & 5.41                         \\\\\n",
       "\t 2011                          & European Union (28 countries) & 5.25                         \\\\\n",
       "\t 2000                          & European Union (27 countries) & 4.91                         \\\\\n",
       "\\end{tabular}\n"
      ],
      "text/markdown": [
       "\n",
       "TIME | GEO | Value | \n",
       "|---|---|---|---|\n",
       "| 2009                          | European Union (28 countries) | 5.38                          | \n",
       "| 2010                          | European Union (28 countries) | 5.41                          | \n",
       "| 2011                          | European Union (28 countries) | 5.25                          | \n",
       "| 2000                          | European Union (27 countries) | 4.91                          | \n",
       "\n",
       "\n"
      ],
      "text/plain": [
       "  TIME GEO                           Value\n",
       "1 2009 European Union (28 countries) 5.38 \n",
       "2 2010 European Union (28 countries) 5.41 \n",
       "3 2011 European Union (28 countries) 5.25 \n",
       "4 2000 European Union (27 countries) 4.91 "
      ]
     },
     "metadata": {},
     "output_type": "display_data"
    }
   ],
   "source": [
    "edu %>% slice(10:13)"
   ]
  },
  {
   "cell_type": "code",
   "execution_count": 5,
   "metadata": {},
   "outputs": [
    {
     "data": {
      "text/html": [
       "<table>\n",
       "<thead><tr><th scope=col>TIME</th><th scope=col>GEO</th><th scope=col>Value</th></tr></thead>\n",
       "<tbody>\n",
       "\t<tr><td>2005   </td><td>Malta  </td><td>6.58   </td></tr>\n",
       "\t<tr><td>2010   </td><td>Malta  </td><td>6.74   </td></tr>\n",
       "\t<tr><td>2011   </td><td>Malta  </td><td>7.96   </td></tr>\n",
       "\t<tr><td>2009   </td><td>Finland</td><td>6.81   </td></tr>\n",
       "\t<tr><td>2010   </td><td>Finland</td><td>6.85   </td></tr>\n",
       "\t<tr><td>2011   </td><td>Finland</td><td>6.76   </td></tr>\n",
       "</tbody>\n",
       "</table>\n"
      ],
      "text/latex": [
       "\\begin{tabular}{r|lll}\n",
       " TIME & GEO & Value\\\\\n",
       "\\hline\n",
       "\t 2005    & Malta   & 6.58   \\\\\n",
       "\t 2010    & Malta   & 6.74   \\\\\n",
       "\t 2011    & Malta   & 7.96   \\\\\n",
       "\t 2009    & Finland & 6.81   \\\\\n",
       "\t 2010    & Finland & 6.85   \\\\\n",
       "\t 2011    & Finland & 6.76   \\\\\n",
       "\\end{tabular}\n"
      ],
      "text/markdown": [
       "\n",
       "TIME | GEO | Value | \n",
       "|---|---|---|---|---|---|\n",
       "| 2005    | Malta   | 6.58    | \n",
       "| 2010    | Malta   | 6.74    | \n",
       "| 2011    | Malta   | 7.96    | \n",
       "| 2009    | Finland | 6.81    | \n",
       "| 2010    | Finland | 6.85    | \n",
       "| 2011    | Finland | 6.76    | \n",
       "\n",
       "\n"
      ],
      "text/plain": [
       "  TIME GEO     Value\n",
       "1 2005 Malta   6.58 \n",
       "2 2010 Malta   6.74 \n",
       "3 2011 Malta   7.96 \n",
       "4 2009 Finland 6.81 \n",
       "5 2010 Finland 6.85 \n",
       "6 2011 Finland 6.76 "
      ]
     },
     "metadata": {},
     "output_type": "display_data"
    }
   ],
   "source": [
    "edu %>% filter(Value > 6.5) %>% tail"
   ]
  },
  {
   "cell_type": "code",
   "execution_count": 7,
   "metadata": {},
   "outputs": [
    {
     "data": {
      "text/html": [
       "<table>\n",
       "<thead><tr><th scope=col>TIME</th><th scope=col>GEO</th><th scope=col>Value</th></tr></thead>\n",
       "<tbody>\n",
       "\t<tr><td>2000                         </td><td>European Union (28 countries)</td><td>NA                           </td></tr>\n",
       "\t<tr><td>2001                         </td><td>European Union (28 countries)</td><td>NA                           </td></tr>\n",
       "\t<tr><td>2000                         </td><td>Euro area (18 countries)     </td><td>NA                           </td></tr>\n",
       "\t<tr><td>2001                         </td><td>Euro area (18 countries)     </td><td>NA                           </td></tr>\n",
       "\t<tr><td>2000                         </td><td>Euro area (17 countries)     </td><td>NA                           </td></tr>\n",
       "\t<tr><td>2001                         </td><td>Euro area (17 countries)     </td><td>NA                           </td></tr>\n",
       "</tbody>\n",
       "</table>\n"
      ],
      "text/latex": [
       "\\begin{tabular}{r|lll}\n",
       " TIME & GEO & Value\\\\\n",
       "\\hline\n",
       "\t 2000                          & European Union (28 countries) & NA                           \\\\\n",
       "\t 2001                          & European Union (28 countries) & NA                           \\\\\n",
       "\t 2000                          & Euro area (18 countries)      & NA                           \\\\\n",
       "\t 2001                          & Euro area (18 countries)      & NA                           \\\\\n",
       "\t 2000                          & Euro area (17 countries)      & NA                           \\\\\n",
       "\t 2001                          & Euro area (17 countries)      & NA                           \\\\\n",
       "\\end{tabular}\n"
      ],
      "text/markdown": [
       "\n",
       "TIME | GEO | Value | \n",
       "|---|---|---|---|---|---|\n",
       "| 2000                          | European Union (28 countries) | NA                            | \n",
       "| 2001                          | European Union (28 countries) | NA                            | \n",
       "| 2000                          | Euro area (18 countries)      | NA                            | \n",
       "| 2001                          | Euro area (18 countries)      | NA                            | \n",
       "| 2000                          | Euro area (17 countries)      | NA                            | \n",
       "| 2001                          | Euro area (17 countries)      | NA                            | \n",
       "\n",
       "\n"
      ],
      "text/plain": [
       "  TIME GEO                           Value\n",
       "1 2000 European Union (28 countries) NA   \n",
       "2 2001 European Union (28 countries) NA   \n",
       "3 2000 Euro area (18 countries)      NA   \n",
       "4 2001 Euro area (18 countries)      NA   \n",
       "5 2000 Euro area (17 countries)      NA   \n",
       "6 2001 Euro area (17 countries)      NA   "
      ]
     },
     "metadata": {},
     "output_type": "display_data"
    }
   ],
   "source": [
    "edu %>% filter(is.na(Value)) %>% head"
   ]
  },
  {
   "cell_type": "code",
   "execution_count": 14,
   "metadata": {},
   "outputs": [
    {
     "data": {
      "text/html": [
       "<table>\n",
       "<thead><tr><th scope=col>TIME</th><th scope=col>GEO</th><th scope=col>Value</th></tr></thead>\n",
       "<tbody>\n",
       "\t<tr><td>2011 </td><td>Spain</td><td>8.81 </td></tr>\n",
       "</tbody>\n",
       "</table>\n"
      ],
      "text/latex": [
       "\\begin{tabular}{r|lll}\n",
       " TIME & GEO & Value\\\\\n",
       "\\hline\n",
       "\t 2011  & Spain & 8.81 \\\\\n",
       "\\end{tabular}\n"
      ],
      "text/markdown": [
       "\n",
       "TIME | GEO | Value | \n",
       "|---|\n",
       "| 2011  | Spain | 8.81  | \n",
       "\n",
       "\n"
      ],
      "text/plain": [
       "  TIME GEO   Value\n",
       "1 2011 Spain 8.81 "
      ]
     },
     "metadata": {},
     "output_type": "display_data"
    }
   ],
   "source": [
    "edu %>% summarize_all(funs(max(.,na.rm=T)))"
   ]
  },
  {
   "cell_type": "code",
   "execution_count": 16,
   "metadata": {},
   "outputs": [
    {
     "data": {
      "text/html": [
       "<table>\n",
       "<thead><tr><th scope=col>s</th></tr></thead>\n",
       "<tbody>\n",
       "\t<tr><td>    NA</td></tr>\n",
       "\t<tr><td>    NA</td></tr>\n",
       "\t<tr><td>0.0500</td></tr>\n",
       "\t<tr><td>0.0503</td></tr>\n",
       "\t<tr><td>0.0495</td></tr>\n",
       "\t<tr><td>0.0492</td></tr>\n",
       "</tbody>\n",
       "</table>\n"
      ],
      "text/latex": [
       "\\begin{tabular}{r|l}\n",
       " s\\\\\n",
       "\\hline\n",
       "\t     NA\\\\\n",
       "\t     NA\\\\\n",
       "\t 0.0500\\\\\n",
       "\t 0.0503\\\\\n",
       "\t 0.0495\\\\\n",
       "\t 0.0492\\\\\n",
       "\\end{tabular}\n"
      ],
      "text/markdown": [
       "\n",
       "s | \n",
       "|---|---|---|---|---|---|\n",
       "|     NA | \n",
       "|     NA | \n",
       "| 0.0500 | \n",
       "| 0.0503 | \n",
       "| 0.0495 | \n",
       "| 0.0492 | \n",
       "\n",
       "\n"
      ],
      "text/plain": [
       "  s     \n",
       "1     NA\n",
       "2     NA\n",
       "3 0.0500\n",
       "4 0.0503\n",
       "5 0.0495\n",
       "6 0.0492"
      ]
     },
     "metadata": {},
     "output_type": "display_data"
    }
   ],
   "source": [
    "edu %>% transmute(s = Value/100) %>% head"
   ]
  },
  {
   "cell_type": "code",
   "execution_count": 31,
   "metadata": {},
   "outputs": [
    {
     "data": {
      "text/html": [
       "<table>\n",
       "<thead><tr><th scope=col>TIME</th><th scope=col>GEO</th><th scope=col>Value</th><th scope=col>ValueNorm</th></tr></thead>\n",
       "<tbody>\n",
       "\t<tr><td>2000                         </td><td>European Union (28 countries)</td><td>  NA                         </td><td>       NA                    </td></tr>\n",
       "\t<tr><td>2001                         </td><td>European Union (28 countries)</td><td>  NA                         </td><td>       NA                    </td></tr>\n",
       "\t<tr><td>2002                         </td><td>European Union (28 countries)</td><td>5.00                         </td><td>0.5675369                    </td></tr>\n",
       "\t<tr><td>2003                         </td><td>European Union (28 countries)</td><td>5.03                         </td><td>0.5709421                    </td></tr>\n",
       "\t<tr><td>2004                         </td><td>European Union (28 countries)</td><td>4.95                         </td><td>0.5618615                    </td></tr>\n",
       "\t<tr><td>2005                         </td><td>European Union (28 countries)</td><td>4.92                         </td><td>0.5584563                    </td></tr>\n",
       "</tbody>\n",
       "</table>\n"
      ],
      "text/latex": [
       "\\begin{tabular}{r|llll}\n",
       " TIME & GEO & Value & ValueNorm\\\\\n",
       "\\hline\n",
       "\t 2000                          & European Union (28 countries) &   NA                          &        NA                    \\\\\n",
       "\t 2001                          & European Union (28 countries) &   NA                          &        NA                    \\\\\n",
       "\t 2002                          & European Union (28 countries) & 5.00                          & 0.5675369                    \\\\\n",
       "\t 2003                          & European Union (28 countries) & 5.03                          & 0.5709421                    \\\\\n",
       "\t 2004                          & European Union (28 countries) & 4.95                          & 0.5618615                    \\\\\n",
       "\t 2005                          & European Union (28 countries) & 4.92                          & 0.5584563                    \\\\\n",
       "\\end{tabular}\n"
      ],
      "text/markdown": [
       "\n",
       "TIME | GEO | Value | ValueNorm | \n",
       "|---|---|---|---|---|---|\n",
       "| 2000                          | European Union (28 countries) |   NA                          |        NA                     | \n",
       "| 2001                          | European Union (28 countries) |   NA                          |        NA                     | \n",
       "| 2002                          | European Union (28 countries) | 5.00                          | 0.5675369                     | \n",
       "| 2003                          | European Union (28 countries) | 5.03                          | 0.5709421                     | \n",
       "| 2004                          | European Union (28 countries) | 4.95                          | 0.5618615                     | \n",
       "| 2005                          | European Union (28 countries) | 4.92                          | 0.5584563                     | \n",
       "\n",
       "\n"
      ],
      "text/plain": [
       "  TIME GEO                           Value ValueNorm\n",
       "1 2000 European Union (28 countries)   NA         NA\n",
       "2 2001 European Union (28 countries)   NA         NA\n",
       "3 2002 European Union (28 countries) 5.00  0.5675369\n",
       "4 2003 European Union (28 countries) 5.03  0.5709421\n",
       "5 2004 European Union (28 countries) 4.95  0.5618615\n",
       "6 2005 European Union (28 countries) 4.92  0.5584563"
      ]
     },
     "metadata": {},
     "output_type": "display_data"
    }
   ],
   "source": [
    "edu %>% mutate(ValueNorm = Value/max(Value,na.rm=T)) -> edu\n",
    "edu %>% head"
   ]
  },
  {
   "cell_type": "code",
   "execution_count": 32,
   "metadata": {},
   "outputs": [
    {
     "data": {
      "text/html": [
       "<table>\n",
       "<thead><tr><th scope=col>sqrt(Value)</th></tr></thead>\n",
       "<tbody>\n",
       "\t<tr><td>      NA</td></tr>\n",
       "\t<tr><td>      NA</td></tr>\n",
       "\t<tr><td>2.236068</td></tr>\n",
       "\t<tr><td>2.242766</td></tr>\n",
       "\t<tr><td>2.224860</td></tr>\n",
       "\t<tr><td>2.218107</td></tr>\n",
       "</tbody>\n",
       "</table>\n"
      ],
      "text/latex": [
       "\\begin{tabular}{r|l}\n",
       " sqrt(Value)\\\\\n",
       "\\hline\n",
       "\t       NA\\\\\n",
       "\t       NA\\\\\n",
       "\t 2.236068\\\\\n",
       "\t 2.242766\\\\\n",
       "\t 2.224860\\\\\n",
       "\t 2.218107\\\\\n",
       "\\end{tabular}\n"
      ],
      "text/markdown": [
       "\n",
       "sqrt(Value) | \n",
       "|---|---|---|---|---|---|\n",
       "|       NA | \n",
       "|       NA | \n",
       "| 2.236068 | \n",
       "| 2.242766 | \n",
       "| 2.224860 | \n",
       "| 2.218107 | \n",
       "\n",
       "\n"
      ],
      "text/plain": [
       "  sqrt(Value)\n",
       "1       NA   \n",
       "2       NA   \n",
       "3 2.236068   \n",
       "4 2.242766   \n",
       "5 2.224860   \n",
       "6 2.218107   "
      ]
     },
     "metadata": {},
     "output_type": "display_data"
    }
   ],
   "source": [
    "edu %>% transmute(sqrt(Value)) %>% head"
   ]
  },
  {
   "cell_type": "code",
   "execution_count": 33,
   "metadata": {},
   "outputs": [
    {
     "data": {
      "text/html": [
       "<table>\n",
       "<thead><tr><th scope=col>Value^2</th></tr></thead>\n",
       "<tbody>\n",
       "\t<tr><td>     NA</td></tr>\n",
       "\t<tr><td>     NA</td></tr>\n",
       "\t<tr><td>25.0000</td></tr>\n",
       "\t<tr><td>25.3009</td></tr>\n",
       "\t<tr><td>24.5025</td></tr>\n",
       "\t<tr><td>24.2064</td></tr>\n",
       "</tbody>\n",
       "</table>\n"
      ],
      "text/latex": [
       "\\begin{tabular}{r|l}\n",
       " Value\\textasciicircum{}2\\\\\n",
       "\\hline\n",
       "\t      NA\\\\\n",
       "\t      NA\\\\\n",
       "\t 25.0000\\\\\n",
       "\t 25.3009\\\\\n",
       "\t 24.5025\\\\\n",
       "\t 24.2064\\\\\n",
       "\\end{tabular}\n"
      ],
      "text/markdown": [
       "\n",
       "Value^2 | \n",
       "|---|---|---|---|---|---|\n",
       "|      NA | \n",
       "|      NA | \n",
       "| 25.0000 | \n",
       "| 25.3009 | \n",
       "| 24.5025 | \n",
       "| 24.2064 | \n",
       "\n",
       "\n"
      ],
      "text/plain": [
       "  Value^2\n",
       "1      NA\n",
       "2      NA\n",
       "3 25.0000\n",
       "4 25.3009\n",
       "5 24.5025\n",
       "6 24.2064"
      ]
     },
     "metadata": {},
     "output_type": "display_data"
    }
   ],
   "source": [
    "edu %>% transmute(Value**2) %>% head"
   ]
  },
  {
   "cell_type": "code",
   "execution_count": 34,
   "metadata": {},
   "outputs": [
    {
     "data": {
      "text/html": [
       "<table>\n",
       "<thead><tr><th scope=col>TIME</th><th scope=col>GEO</th><th scope=col>Value</th></tr></thead>\n",
       "<tbody>\n",
       "\t<tr><td>2000                         </td><td>European Union (28 countries)</td><td>  NA                         </td></tr>\n",
       "\t<tr><td>2001                         </td><td>European Union (28 countries)</td><td>  NA                         </td></tr>\n",
       "\t<tr><td>2002                         </td><td>European Union (28 countries)</td><td>5.00                         </td></tr>\n",
       "\t<tr><td>2003                         </td><td>European Union (28 countries)</td><td>5.03                         </td></tr>\n",
       "\t<tr><td>2004                         </td><td>European Union (28 countries)</td><td>4.95                         </td></tr>\n",
       "\t<tr><td>2005                         </td><td>European Union (28 countries)</td><td>4.92                         </td></tr>\n",
       "</tbody>\n",
       "</table>\n"
      ],
      "text/latex": [
       "\\begin{tabular}{r|lll}\n",
       " TIME & GEO & Value\\\\\n",
       "\\hline\n",
       "\t 2000                          & European Union (28 countries) &   NA                         \\\\\n",
       "\t 2001                          & European Union (28 countries) &   NA                         \\\\\n",
       "\t 2002                          & European Union (28 countries) & 5.00                         \\\\\n",
       "\t 2003                          & European Union (28 countries) & 5.03                         \\\\\n",
       "\t 2004                          & European Union (28 countries) & 4.95                         \\\\\n",
       "\t 2005                          & European Union (28 countries) & 4.92                         \\\\\n",
       "\\end{tabular}\n"
      ],
      "text/markdown": [
       "\n",
       "TIME | GEO | Value | \n",
       "|---|---|---|---|---|---|\n",
       "| 2000                          | European Union (28 countries) |   NA                          | \n",
       "| 2001                          | European Union (28 countries) |   NA                          | \n",
       "| 2002                          | European Union (28 countries) | 5.00                          | \n",
       "| 2003                          | European Union (28 countries) | 5.03                          | \n",
       "| 2004                          | European Union (28 countries) | 4.95                          | \n",
       "| 2005                          | European Union (28 countries) | 4.92                          | \n",
       "\n",
       "\n"
      ],
      "text/plain": [
       "  TIME GEO                           Value\n",
       "1 2000 European Union (28 countries)   NA \n",
       "2 2001 European Union (28 countries)   NA \n",
       "3 2002 European Union (28 countries) 5.00 \n",
       "4 2003 European Union (28 countries) 5.03 \n",
       "5 2004 European Union (28 countries) 4.95 \n",
       "6 2005 European Union (28 countries) 4.92 "
      ]
     },
     "metadata": {},
     "output_type": "display_data"
    }
   ],
   "source": [
    "edu %>% select(-ValueNorm) -> edu\n",
    "edu %>% head"
   ]
  },
  {
   "cell_type": "code",
   "execution_count": 47,
   "metadata": {},
   "outputs": [
    {
     "data": {
      "text/html": [
       "<table>\n",
       "<thead><tr><th scope=col>TIME</th><th scope=col>GEO</th><th scope=col>Value</th></tr></thead>\n",
       "<tbody>\n",
       "\t<tr><td>2007   </td><td>Finland</td><td>5.9    </td></tr>\n",
       "\t<tr><td>2008   </td><td>Finland</td><td>6.1    </td></tr>\n",
       "\t<tr><td>2009   </td><td>Finland</td><td>6.81   </td></tr>\n",
       "\t<tr><td>2010   </td><td>Finland</td><td>6.85   </td></tr>\n",
       "\t<tr><td>2011   </td><td>Finland</td><td>6.76   </td></tr>\n",
       "\t<tr><td>2000   </td><td>5      </td><td>a      </td></tr>\n",
       "</tbody>\n",
       "</table>\n"
      ],
      "text/latex": [
       "\\begin{tabular}{r|lll}\n",
       " TIME & GEO & Value\\\\\n",
       "\\hline\n",
       "\t 2007    & Finland & 5.9    \\\\\n",
       "\t 2008    & Finland & 6.1    \\\\\n",
       "\t 2009    & Finland & 6.81   \\\\\n",
       "\t 2010    & Finland & 6.85   \\\\\n",
       "\t 2011    & Finland & 6.76   \\\\\n",
       "\t 2000    & 5       & a      \\\\\n",
       "\\end{tabular}\n"
      ],
      "text/markdown": [
       "\n",
       "TIME | GEO | Value | \n",
       "|---|---|---|---|---|---|\n",
       "| 2007    | Finland | 5.9     | \n",
       "| 2008    | Finland | 6.1     | \n",
       "| 2009    | Finland | 6.81    | \n",
       "| 2010    | Finland | 6.85    | \n",
       "| 2011    | Finland | 6.76    | \n",
       "| 2000    | 5       | a       | \n",
       "\n",
       "\n"
      ],
      "text/plain": [
       "  TIME GEO     Value\n",
       "1 2007 Finland 5.9  \n",
       "2 2008 Finland 6.1  \n",
       "3 2009 Finland 6.81 \n",
       "4 2010 Finland 6.85 \n",
       "5 2011 Finland 6.76 \n",
       "6 2000 5       a    "
      ]
     },
     "metadata": {},
     "output_type": "display_data"
    }
   ],
   "source": [
    "edu %>%\n",
    " add_row(TIME=2000,GEO=5,Value='a') -> edu\n",
    "edu %>%\n",
    " tail"
   ]
  },
  {
   "cell_type": "code",
   "execution_count": 48,
   "metadata": {},
   "outputs": [
    {
     "data": {
      "text/html": [
       "<table>\n",
       "<thead><tr><th scope=col>TIME</th><th scope=col>GEO</th><th scope=col>Value</th></tr></thead>\n",
       "<tbody>\n",
       "\t<tr><td>2006   </td><td>Finland</td><td>6.18   </td></tr>\n",
       "\t<tr><td>2007   </td><td>Finland</td><td>5.9    </td></tr>\n",
       "\t<tr><td>2008   </td><td>Finland</td><td>6.1    </td></tr>\n",
       "\t<tr><td>2009   </td><td>Finland</td><td>6.81   </td></tr>\n",
       "\t<tr><td>2010   </td><td>Finland</td><td>6.85   </td></tr>\n",
       "\t<tr><td>2011   </td><td>Finland</td><td>6.76   </td></tr>\n",
       "</tbody>\n",
       "</table>\n"
      ],
      "text/latex": [
       "\\begin{tabular}{r|lll}\n",
       " TIME & GEO & Value\\\\\n",
       "\\hline\n",
       "\t 2006    & Finland & 6.18   \\\\\n",
       "\t 2007    & Finland & 5.9    \\\\\n",
       "\t 2008    & Finland & 6.1    \\\\\n",
       "\t 2009    & Finland & 6.81   \\\\\n",
       "\t 2010    & Finland & 6.85   \\\\\n",
       "\t 2011    & Finland & 6.76   \\\\\n",
       "\\end{tabular}\n"
      ],
      "text/markdown": [
       "\n",
       "TIME | GEO | Value | \n",
       "|---|---|---|---|---|---|\n",
       "| 2006    | Finland | 6.18    | \n",
       "| 2007    | Finland | 5.9     | \n",
       "| 2008    | Finland | 6.1     | \n",
       "| 2009    | Finland | 6.81    | \n",
       "| 2010    | Finland | 6.85    | \n",
       "| 2011    | Finland | 6.76    | \n",
       "\n",
       "\n"
      ],
      "text/plain": [
       "  TIME GEO     Value\n",
       "1 2006 Finland 6.18 \n",
       "2 2007 Finland 5.9  \n",
       "3 2008 Finland 6.1  \n",
       "4 2009 Finland 6.81 \n",
       "5 2010 Finland 6.85 \n",
       "6 2011 Finland 6.76 "
      ]
     },
     "metadata": {},
     "output_type": "display_data"
    }
   ],
   "source": [
    "edu %>% head(-1) -> edu\n",
    "edu %>% tail"
   ]
  },
  {
   "cell_type": "code",
   "execution_count": 49,
   "metadata": {},
   "outputs": [
    {
     "data": {
      "text/html": [
       "<table>\n",
       "<thead><tr><th scope=col>TIME</th><th scope=col>GEO</th><th scope=col>Value</th></tr></thead>\n",
       "<tbody>\n",
       "\t<tr><td>2002                         </td><td>European Union (28 countries)</td><td>5                            </td></tr>\n",
       "\t<tr><td>2003                         </td><td>European Union (28 countries)</td><td>5.03                         </td></tr>\n",
       "\t<tr><td>2004                         </td><td>European Union (28 countries)</td><td>4.95                         </td></tr>\n",
       "\t<tr><td>2005                         </td><td>European Union (28 countries)</td><td>4.92                         </td></tr>\n",
       "\t<tr><td>2006                         </td><td>European Union (28 countries)</td><td>4.91                         </td></tr>\n",
       "\t<tr><td>2007                         </td><td>European Union (28 countries)</td><td>4.92                         </td></tr>\n",
       "</tbody>\n",
       "</table>\n"
      ],
      "text/latex": [
       "\\begin{tabular}{r|lll}\n",
       " TIME & GEO & Value\\\\\n",
       "\\hline\n",
       "\t 2002                          & European Union (28 countries) & 5                            \\\\\n",
       "\t 2003                          & European Union (28 countries) & 5.03                         \\\\\n",
       "\t 2004                          & European Union (28 countries) & 4.95                         \\\\\n",
       "\t 2005                          & European Union (28 countries) & 4.92                         \\\\\n",
       "\t 2006                          & European Union (28 countries) & 4.91                         \\\\\n",
       "\t 2007                          & European Union (28 countries) & 4.92                         \\\\\n",
       "\\end{tabular}\n"
      ],
      "text/markdown": [
       "\n",
       "TIME | GEO | Value | \n",
       "|---|---|---|---|---|---|\n",
       "| 2002                          | European Union (28 countries) | 5                             | \n",
       "| 2003                          | European Union (28 countries) | 5.03                          | \n",
       "| 2004                          | European Union (28 countries) | 4.95                          | \n",
       "| 2005                          | European Union (28 countries) | 4.92                          | \n",
       "| 2006                          | European Union (28 countries) | 4.91                          | \n",
       "| 2007                          | European Union (28 countries) | 4.92                          | \n",
       "\n",
       "\n"
      ],
      "text/plain": [
       "  TIME GEO                           Value\n",
       "1 2002 European Union (28 countries) 5    \n",
       "2 2003 European Union (28 countries) 5.03 \n",
       "3 2004 European Union (28 countries) 4.95 \n",
       "4 2005 European Union (28 countries) 4.92 \n",
       "5 2006 European Union (28 countries) 4.91 \n",
       "6 2007 European Union (28 countries) 4.92 "
      ]
     },
     "metadata": {},
     "output_type": "display_data"
    }
   ],
   "source": [
    "edu %>% drop_na(Value) %>% head"
   ]
  },
  {
   "cell_type": "code",
   "execution_count": 50,
   "metadata": {},
   "outputs": [
    {
     "data": {
      "text/html": [
       "<table>\n",
       "<thead><tr><th scope=col>TIME</th><th scope=col>GEO</th><th scope=col>Value</th></tr></thead>\n",
       "<tbody>\n",
       "\t<tr><td>2000                         </td><td>European Union (28 countries)</td><td>0                            </td></tr>\n",
       "\t<tr><td>2001                         </td><td>European Union (28 countries)</td><td>0                            </td></tr>\n",
       "\t<tr><td>2002                         </td><td>European Union (28 countries)</td><td>5                            </td></tr>\n",
       "\t<tr><td>2003                         </td><td>European Union (28 countries)</td><td>5.03                         </td></tr>\n",
       "\t<tr><td>2004                         </td><td>European Union (28 countries)</td><td>4.95                         </td></tr>\n",
       "\t<tr><td>2005                         </td><td>European Union (28 countries)</td><td>4.92                         </td></tr>\n",
       "</tbody>\n",
       "</table>\n"
      ],
      "text/latex": [
       "\\begin{tabular}{r|lll}\n",
       " TIME & GEO & Value\\\\\n",
       "\\hline\n",
       "\t 2000                          & European Union (28 countries) & 0                            \\\\\n",
       "\t 2001                          & European Union (28 countries) & 0                            \\\\\n",
       "\t 2002                          & European Union (28 countries) & 5                            \\\\\n",
       "\t 2003                          & European Union (28 countries) & 5.03                         \\\\\n",
       "\t 2004                          & European Union (28 countries) & 4.95                         \\\\\n",
       "\t 2005                          & European Union (28 countries) & 4.92                         \\\\\n",
       "\\end{tabular}\n"
      ],
      "text/markdown": [
       "\n",
       "TIME | GEO | Value | \n",
       "|---|---|---|---|---|---|\n",
       "| 2000                          | European Union (28 countries) | 0                             | \n",
       "| 2001                          | European Union (28 countries) | 0                             | \n",
       "| 2002                          | European Union (28 countries) | 5                             | \n",
       "| 2003                          | European Union (28 countries) | 5.03                          | \n",
       "| 2004                          | European Union (28 countries) | 4.95                          | \n",
       "| 2005                          | European Union (28 countries) | 4.92                          | \n",
       "\n",
       "\n"
      ],
      "text/plain": [
       "  TIME GEO                           Value\n",
       "1 2000 European Union (28 countries) 0    \n",
       "2 2001 European Union (28 countries) 0    \n",
       "3 2002 European Union (28 countries) 5    \n",
       "4 2003 European Union (28 countries) 5.03 \n",
       "5 2004 European Union (28 countries) 4.95 \n",
       "6 2005 European Union (28 countries) 4.92 "
      ]
     },
     "metadata": {},
     "output_type": "display_data"
    }
   ],
   "source": [
    "edu %>% replace_na(replace=list(Value=0)) %>% head"
   ]
  },
  {
   "cell_type": "markdown",
   "metadata": {},
   "source": [
    "## 分析"
   ]
  },
  {
   "cell_type": "markdown",
   "metadata": {},
   "source": [
    "大家还是要记得，python的行是从0开始计算的，所以在python里面edu\\[10:14\\]其实取的是10-13行。另外，python中习惯用axis=0处理行问题，axis=1处理列问题；dplyr中，则用filter处理行，select处理列。python的inplace参数可以直接在原始数据中更改，有利有弊，能够方便一点节省时间，但是如果操作不当的时候则不是很安全，很容易无法恢复原始数据。"
   ]
  }
 ],
 "metadata": {
  "kernelspec": {
   "display_name": "R",
   "language": "R",
   "name": "ir"
  },
  "language_info": {
   "codemirror_mode": "r",
   "file_extension": ".r",
   "mimetype": "text/x-r-source",
   "name": "R",
   "pygments_lexer": "r",
   "version": "3.5.1"
  }
 },
 "nbformat": 4,
 "nbformat_minor": 2
}
