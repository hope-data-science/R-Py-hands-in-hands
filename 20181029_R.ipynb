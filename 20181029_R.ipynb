{
 "cells": [
  {
   "cell_type": "markdown",
   "metadata": {},
   "source": [
    "## R"
   ]
  },
  {
   "cell_type": "markdown",
   "metadata": {},
   "source": [
    "下面看看R语言中实现相同操作的步骤："
   ]
  },
  {
   "cell_type": "code",
   "execution_count": 1,
   "metadata": {},
   "outputs": [
    {
     "name": "stderr",
     "output_type": "stream",
     "text": [
      "-- Attaching packages --------------------------------------- tidyverse 1.2.1 --\n",
      "√ ggplot2 3.0.0     √ purrr   0.2.5\n",
      "√ tibble  1.4.2     √ dplyr   0.7.6\n",
      "√ tidyr   0.8.1     √ stringr 1.3.1\n",
      "√ readr   1.1.1     √ forcats 0.3.0\n",
      "-- Conflicts ------------------------------------------ tidyverse_conflicts() --\n",
      "x dplyr::filter() masks stats::filter()\n",
      "x dplyr::lag()    masks stats::lag()\n",
      "Parsed with column specification:\n",
      "cols(\n",
      "  TIME = col_integer(),\n",
      "  GEO = col_character(),\n",
      "  INDIC_ED = col_character(),\n",
      "  Value = col_double(),\n",
      "  `Flag and Footnotes` = col_character()\n",
      ")\n"
     ]
    }
   ],
   "source": [
    "#加载包与数据读取\n",
    "\n",
    "library(tidyverse)\n",
    "\n",
    "edu = read_csv('G:/Py/introduction-datascience-python-book-master/files/ch02/educ_figdp_1_Data.csv', na=\":\") %>%                   \n",
    " select(TIME,GEO,Value)\n"
   ]
  },
  {
   "cell_type": "markdown",
   "metadata": {},
   "source": [
    "### 排序"
   ]
  },
  {
   "cell_type": "code",
   "execution_count": 4,
   "metadata": {},
   "outputs": [
    {
     "data": {
      "text/html": [
       "<table>\n",
       "<thead><tr><th scope=col>TIME</th><th scope=col>GEO</th><th scope=col>Value</th></tr></thead>\n",
       "<tbody>\n",
       "\t<tr><td>2010   </td><td>Denmark</td><td>8.81   </td></tr>\n",
       "\t<tr><td>2011   </td><td>Denmark</td><td>8.75   </td></tr>\n",
       "\t<tr><td>2009   </td><td>Denmark</td><td>8.74   </td></tr>\n",
       "\t<tr><td>2001   </td><td>Denmark</td><td>8.44   </td></tr>\n",
       "\t<tr><td>2002   </td><td>Denmark</td><td>8.44   </td></tr>\n",
       "\t<tr><td>2004   </td><td>Denmark</td><td>8.43   </td></tr>\n",
       "</tbody>\n",
       "</table>\n"
      ],
      "text/latex": [
       "\\begin{tabular}{r|lll}\n",
       " TIME & GEO & Value\\\\\n",
       "\\hline\n",
       "\t 2010    & Denmark & 8.81   \\\\\n",
       "\t 2011    & Denmark & 8.75   \\\\\n",
       "\t 2009    & Denmark & 8.74   \\\\\n",
       "\t 2001    & Denmark & 8.44   \\\\\n",
       "\t 2002    & Denmark & 8.44   \\\\\n",
       "\t 2004    & Denmark & 8.43   \\\\\n",
       "\\end{tabular}\n"
      ],
      "text/markdown": [
       "\n",
       "TIME | GEO | Value | \n",
       "|---|---|---|---|---|---|\n",
       "| 2010    | Denmark | 8.81    | \n",
       "| 2011    | Denmark | 8.75    | \n",
       "| 2009    | Denmark | 8.74    | \n",
       "| 2001    | Denmark | 8.44    | \n",
       "| 2002    | Denmark | 8.44    | \n",
       "| 2004    | Denmark | 8.43    | \n",
       "\n",
       "\n"
      ],
      "text/plain": [
       "  TIME GEO     Value\n",
       "1 2010 Denmark 8.81 \n",
       "2 2011 Denmark 8.75 \n",
       "3 2009 Denmark 8.74 \n",
       "4 2001 Denmark 8.44 \n",
       "5 2002 Denmark 8.44 \n",
       "6 2004 Denmark 8.43 "
      ]
     },
     "metadata": {},
     "output_type": "display_data"
    }
   ],
   "source": [
    "edu %>% \n",
    " arrange(desc(Value)) %>% \n",
    " head"
   ]
  },
  {
   "cell_type": "markdown",
   "metadata": {},
   "source": [
    "首先，要知道desc()加在Value前，就会变为降序排列，否则默认为升序。\n",
    "这里，如果需要在原始数据中变更，赋值给本身即可，其实在原始数据中改数据是极其危险的，不推荐，应该总是用copy来操作，如果出错了随时回到原始备份再次copy。"
   ]
  },
  {
   "cell_type": "markdown",
   "metadata": {},
   "source": [
    "### 分组"
   ]
  },
  {
   "cell_type": "code",
   "execution_count": 7,
   "metadata": {},
   "outputs": [
    {
     "data": {
      "text/html": [
       "<table>\n",
       "<thead><tr><th scope=col>GEO</th><th scope=col>Value</th></tr></thead>\n",
       "<tbody>\n",
       "\t<tr><td>Austria       </td><td>5.618333      </td></tr>\n",
       "\t<tr><td>Belgium       </td><td>6.189091      </td></tr>\n",
       "\t<tr><td>Bulgaria      </td><td>4.093333      </td></tr>\n",
       "\t<tr><td>Cyprus        </td><td>7.023333      </td></tr>\n",
       "\t<tr><td>Czech Republic</td><td>4.168333      </td></tr>\n",
       "\t<tr><td>Denmark       </td><td>8.331667      </td></tr>\n",
       "</tbody>\n",
       "</table>\n"
      ],
      "text/latex": [
       "\\begin{tabular}{r|ll}\n",
       " GEO & Value\\\\\n",
       "\\hline\n",
       "\t Austria        & 5.618333      \\\\\n",
       "\t Belgium        & 6.189091      \\\\\n",
       "\t Bulgaria       & 4.093333      \\\\\n",
       "\t Cyprus         & 7.023333      \\\\\n",
       "\t Czech Republic & 4.168333      \\\\\n",
       "\t Denmark        & 8.331667      \\\\\n",
       "\\end{tabular}\n"
      ],
      "text/markdown": [
       "\n",
       "GEO | Value | \n",
       "|---|---|---|---|---|---|\n",
       "| Austria        | 5.618333       | \n",
       "| Belgium        | 6.189091       | \n",
       "| Bulgaria       | 4.093333       | \n",
       "| Cyprus         | 7.023333       | \n",
       "| Czech Republic | 4.168333       | \n",
       "| Denmark        | 8.331667       | \n",
       "\n",
       "\n"
      ],
      "text/plain": [
       "  GEO            Value   \n",
       "1 Austria        5.618333\n",
       "2 Belgium        6.189091\n",
       "3 Bulgaria       4.093333\n",
       "4 Cyprus         7.023333\n",
       "5 Czech Republic 4.168333\n",
       "6 Denmark        8.331667"
      ]
     },
     "metadata": {},
     "output_type": "display_data"
    }
   ],
   "source": [
    "edu %>% \n",
    " select(GEO,Value) %>%                           #选择指定列\n",
    " group_by(GEO) %>%                               #按照GEO分组\n",
    " summarize (Value = mean(Value,na.rm = T)) %>%   #按照分组计算Value的均值，忽略缺失值\n",
    " head()                                          #取前几行进行展示"
   ]
  },
  {
   "cell_type": "markdown",
   "metadata": {},
   "source": [
    "### 整合"
   ]
  },
  {
   "cell_type": "code",
   "execution_count": 12,
   "metadata": {},
   "outputs": [
    {
     "data": {
      "text/html": [
       "<table>\n",
       "<thead><tr><th scope=col>GEO</th><th scope=col>2006</th><th scope=col>2007</th><th scope=col>2008</th><th scope=col>2009</th><th scope=col>2010</th><th scope=col>2011</th></tr></thead>\n",
       "<tbody>\n",
       "\t<tr><td>Austria       </td><td>5.40          </td><td>5.33          </td><td>5.47          </td><td>5.98          </td><td>5.91          </td><td>5.80          </td></tr>\n",
       "\t<tr><td>Belgium       </td><td>5.98          </td><td>6.00          </td><td>6.43          </td><td>6.57          </td><td>6.58          </td><td>6.55          </td></tr>\n",
       "\t<tr><td>Bulgaria      </td><td>4.04          </td><td>3.88          </td><td>4.44          </td><td>4.58          </td><td>4.10          </td><td>3.82          </td></tr>\n",
       "\t<tr><td>Cyprus        </td><td>7.02          </td><td>6.95          </td><td>7.45          </td><td>7.98          </td><td>7.92          </td><td>7.87          </td></tr>\n",
       "\t<tr><td>Czech Republic</td><td>4.42          </td><td>4.05          </td><td>3.92          </td><td>4.36          </td><td>4.25          </td><td>4.51          </td></tr>\n",
       "\t<tr><td>Denmark       </td><td>7.97          </td><td>7.81          </td><td>7.68          </td><td>8.74          </td><td>8.81          </td><td>8.75          </td></tr>\n",
       "</tbody>\n",
       "</table>\n"
      ],
      "text/latex": [
       "\\begin{tabular}{r|lllllll}\n",
       " GEO & 2006 & 2007 & 2008 & 2009 & 2010 & 2011\\\\\n",
       "\\hline\n",
       "\t Austria        & 5.40           & 5.33           & 5.47           & 5.98           & 5.91           & 5.80          \\\\\n",
       "\t Belgium        & 5.98           & 6.00           & 6.43           & 6.57           & 6.58           & 6.55          \\\\\n",
       "\t Bulgaria       & 4.04           & 3.88           & 4.44           & 4.58           & 4.10           & 3.82          \\\\\n",
       "\t Cyprus         & 7.02           & 6.95           & 7.45           & 7.98           & 7.92           & 7.87          \\\\\n",
       "\t Czech Republic & 4.42           & 4.05           & 3.92           & 4.36           & 4.25           & 4.51          \\\\\n",
       "\t Denmark        & 7.97           & 7.81           & 7.68           & 8.74           & 8.81           & 8.75          \\\\\n",
       "\\end{tabular}\n"
      ],
      "text/markdown": [
       "\n",
       "GEO | 2006 | 2007 | 2008 | 2009 | 2010 | 2011 | \n",
       "|---|---|---|---|---|---|\n",
       "| Austria        | 5.40           | 5.33           | 5.47           | 5.98           | 5.91           | 5.80           | \n",
       "| Belgium        | 5.98           | 6.00           | 6.43           | 6.57           | 6.58           | 6.55           | \n",
       "| Bulgaria       | 4.04           | 3.88           | 4.44           | 4.58           | 4.10           | 3.82           | \n",
       "| Cyprus         | 7.02           | 6.95           | 7.45           | 7.98           | 7.92           | 7.87           | \n",
       "| Czech Republic | 4.42           | 4.05           | 3.92           | 4.36           | 4.25           | 4.51           | \n",
       "| Denmark        | 7.97           | 7.81           | 7.68           | 8.74           | 8.81           | 8.75           | \n",
       "\n",
       "\n"
      ],
      "text/plain": [
       "  GEO            2006 2007 2008 2009 2010 2011\n",
       "1 Austria        5.40 5.33 5.47 5.98 5.91 5.80\n",
       "2 Belgium        5.98 6.00 6.43 6.57 6.58 6.55\n",
       "3 Bulgaria       4.04 3.88 4.44 4.58 4.10 3.82\n",
       "4 Cyprus         7.02 6.95 7.45 7.98 7.92 7.87\n",
       "5 Czech Republic 4.42 4.05 3.92 4.36 4.25 4.51\n",
       "6 Denmark        7.97 7.81 7.68 8.74 8.81 8.75"
      ]
     },
     "metadata": {},
     "output_type": "display_data"
    }
   ],
   "source": [
    "edu %>% filter(TIME > 2005) %>% spread(key = TIME,value = Value) -> pivedu\n",
    "pivedu %>% head"
   ]
  },
  {
   "cell_type": "markdown",
   "metadata": {},
   "source": [
    "## 分析"
   ]
  },
  {
   "cell_type": "markdown",
   "metadata": {},
   "source": [
    "同样的步骤，不同的表达，大同小异。"
   ]
  },
  {
   "cell_type": "markdown",
   "metadata": {},
   "source": [
    "## 温馨提示"
   ]
  },
  {
   "cell_type": "markdown",
   "metadata": {},
   "source": [
    "后面所有的教程都会坚持用最简单的例子，这样有一点不会的同学也能够很容易通过查询进行扩展。如果个别函数不知道如何使用，请使用?来查询使用方法，如R中“?spread”。"
   ]
  },
  {
   "cell_type": "code",
   "execution_count": null,
   "metadata": {},
   "outputs": [],
   "source": []
  }
 ],
 "metadata": {
  "kernelspec": {
   "display_name": "R",
   "language": "R",
   "name": "ir"
  },
  "language_info": {
   "codemirror_mode": "r",
   "file_extension": ".r",
   "mimetype": "text/x-r-source",
   "name": "R",
   "pygments_lexer": "r",
   "version": "3.5.1"
  }
 },
 "nbformat": 4,
 "nbformat_minor": 2
}
