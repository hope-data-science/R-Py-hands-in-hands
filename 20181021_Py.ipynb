{
 "cells": [
  {
   "cell_type": "markdown",
   "metadata": {},
   "source": [
    "# R与Python手牵手：数据科学导论系列（包的载入）"
   ]
  },
  {
   "cell_type": "markdown",
   "metadata": {},
   "source": [
    "## 写在前面的话"
   ]
  },
  {
   "cell_type": "markdown",
   "metadata": {},
   "source": [
    "R与Python是数据科学中两门最常用的开源软件，两者有很多共同点，但是在具体应用中又不太一样。作为熟练的R用户，我一直患有“学习Python困难症”，每当我想要好好学习Python的时候，我总是发现在R中也有相应的解决办法，而且我学起来要更加便捷（R的学习曲线越到后面就是越容易）。但是，现实就是Python的用户其实要更多，从招聘的岗位描述到Kaggle机器学习讨论的资源，数量上来说Python目前都是更多的。我不希望因为少学习一门语言就关上了一扇与外界交流的大门，因此决心开始学习Python。\n",
    "说到底，R与Python都只是解决问题的工具而已，特点有所不同，但是没有高下之分。而我想要聚焦的热点问题，则是数据科学。其实只要抓住数据科学理论的本质，同时学习R与Python并不是难事，计算机编程语言从本质上都是互通的，更何况我们解决的还是同类型的问题。网上很多用户把R与Python对立起来，其实完全没有必要，多学一门语言真的没有这么难。因为R与Python注重的就是可重复实现的函数式编程，也就是说用户在使用大部分功能的时候，可以通过复制粘贴代码并修改少量的参数就完成统计分析和可视化。从某种角度来看，两个语言的竞争合作关系反而促进了彼此的飞速发展。\n",
    "言归正传，将要推出的一个系列是针对数据科学主题，比较R与Python两种语言在实现上的差异，从而揭示两种语言的特点，促进两种语言用户对彼此之间的理解和包容，并推动“双语学习”。当然也欢迎初学者用这个进行数据科学的基础学习，因为我会从最最简单的例子开始。这个系列会选用Howe, Bill. (2017). Introduction to data science. Undergraduate Topics in Computer Science.的一些Python的例子，然后我会用R进行重写，然后进行讨论和比较。工作环境是Jupyter，可以支持两种语言的操作。因为经常转换语言可能会晕头转向，所以每次的内容尽量简短一点，我们细水长流。我R稍微熟一点，Python则没有那么熟，有的地方写的不到位的，欢迎大家邮件联系我，相互交流相互促进，我的邮箱是：huang.tian-yuan@qq.com."
   ]
  },
  {
   "cell_type": "markdown",
   "metadata": {},
   "source": [
    "## 包的载入（Py）"
   ]
  },
  {
   "cell_type": "markdown",
   "metadata": {},
   "source": [
    "包（package），或者叫模块（module），是我们在做数据科学中不可不知道的概念。一言以蔽之，就是“站在巨人的肩膀上”。各个大牛孜孜不倦推出的算法，已经可视化实现等功能，只要在开源社区中共享，用户就能免费便捷地调用。这是开源精神的集中体现，有时候想想真是不可思议，那么多大牛如此努力地设计包免费给大家用，这是什么样的情怀？也正因为有一群有情怀的人，他们才能够自由自在地交流看法和意见，相互提高，不断完善自己的包，让人类不断向极限做出挑战。\n",
    "言归正传，在Python中调用包，是非常简单的。"
   ]
  },
  {
   "cell_type": "code",
   "execution_count": null,
   "metadata": {},
   "outputs": [],
   "source": [
    "import pandas as pd\n",
    "import numpy as np\n",
    "import matplotlib.pylab as plt"
   ]
  },
  {
   "cell_type": "markdown",
   "metadata": {},
   "source": [
    "翻译一下 import pandas as pd ，就是，把pandas模块导入（import）进来，然后在我们的环境中，用pd来调用pandas模块里面的内容。或者这么理解，我们把pandas大神请进来了，但是在我们的组织里面，给他的代号是pd.\n",
    "上面几行代码，我就把Python中最常用的三个数据科学模块加载了进来。需要注意的是，加载包之前是需要安装的，我在Jupyter中是直接再Anaconda中先配置了环境，我知道里面有pandas,numpy和matplotlib三个模块。Jupyter的操作跟别的IDE可能不同，需要注意一下。"
   ]
  },
  {
   "cell_type": "markdown",
   "metadata": {},
   "source": []
  }
 ],
 "metadata": {
  "kernelspec": {
   "display_name": "Python 3",
   "language": "python",
   "name": "python3"
  },
  "language_info": {
   "codemirror_mode": {
    "name": "ipython",
    "version": 3
   },
   "file_extension": ".py",
   "mimetype": "text/x-python",
   "name": "python",
   "nbconvert_exporter": "python",
   "pygments_lexer": "ipython3",
   "version": "3.6.6"
  }
 },
 "nbformat": 4,
 "nbformat_minor": 2
}
