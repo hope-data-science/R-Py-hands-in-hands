{
 "cells": [
  {
   "cell_type": "markdown",
   "metadata": {},
   "source": [
    "## R"
   ]
  },
  {
   "cell_type": "markdown",
   "metadata": {},
   "source": [
    "尽量简洁地解决上面提到的问题，在R中。"
   ]
  },
  {
   "cell_type": "code",
   "execution_count": 1,
   "metadata": {},
   "outputs": [],
   "source": [
    "#载入包\n",
    "\n",
    "pacman::p_load(tidyverse,forecast)\n",
    "\n",
    "file_path = \"G:/Py/practical-machine-learning-with-python-master/notebooks/Ch04_Feature_Engineering_and_Selection/\""
   ]
  },
  {
   "cell_type": "markdown",
   "metadata": {},
   "source": [
    "### 原始数据特征"
   ]
  },
  {
   "cell_type": "code",
   "execution_count": 2,
   "metadata": {},
   "outputs": [
    {
     "name": "stderr",
     "output_type": "stream",
     "text": [
      "Parsed with column specification:\n",
      "cols(\n",
      "  `#` = col_integer(),\n",
      "  Name = col_character(),\n",
      "  `Type 1` = col_character(),\n",
      "  `Type 2` = col_character(),\n",
      "  Total = col_integer(),\n",
      "  HP = col_integer(),\n",
      "  Attack = col_integer(),\n",
      "  Defense = col_integer(),\n",
      "  `Sp. Atk` = col_integer(),\n",
      "  `Sp. Def` = col_integer(),\n",
      "  Speed = col_integer(),\n",
      "  Generation = col_character(),\n",
      "  Legendary = col_logical()\n",
      ")\n"
     ]
    },
    {
     "data": {
      "text/html": [
       "<table>\n",
       "<thead><tr><th scope=col>#</th><th scope=col>Name</th><th scope=col>Type 1</th><th scope=col>Type 2</th><th scope=col>Total</th><th scope=col>HP</th><th scope=col>Attack</th><th scope=col>Defense</th><th scope=col>Sp. Atk</th><th scope=col>Sp. Def</th><th scope=col>Speed</th><th scope=col>Generation</th><th scope=col>Legendary</th></tr></thead>\n",
       "<tbody>\n",
       "\t<tr><td>1                    </td><td>Bulbasaur            </td><td>Grass                </td><td>Poison               </td><td>318                  </td><td>45                   </td><td> 49                  </td><td> 49                  </td><td> 65                  </td><td> 65                  </td><td>45                   </td><td>Gen 1                </td><td>FALSE                </td></tr>\n",
       "\t<tr><td>2                    </td><td>Ivysaur              </td><td>Grass                </td><td>Poison               </td><td>405                  </td><td>60                   </td><td> 62                  </td><td> 63                  </td><td> 80                  </td><td> 80                  </td><td>60                   </td><td>Gen 1                </td><td>FALSE                </td></tr>\n",
       "\t<tr><td>3                    </td><td>Venusaur             </td><td>Grass                </td><td>Poison               </td><td>525                  </td><td>80                   </td><td> 82                  </td><td> 83                  </td><td>100                  </td><td>100                  </td><td>80                   </td><td>Gen 1                </td><td>FALSE                </td></tr>\n",
       "\t<tr><td>3                    </td><td>VenusaurMega Venusaur</td><td>Grass                </td><td>Poison               </td><td>625                  </td><td>80                   </td><td>100                  </td><td>123                  </td><td>122                  </td><td>120                  </td><td>80                   </td><td>Gen 1                </td><td>FALSE                </td></tr>\n",
       "\t<tr><td>4                    </td><td>Charmander           </td><td>Fire                 </td><td>NA                   </td><td>309                  </td><td>39                   </td><td> 52                  </td><td> 43                  </td><td> 60                  </td><td> 50                  </td><td>65                   </td><td>Gen 1                </td><td>FALSE                </td></tr>\n",
       "\t<tr><td>5                    </td><td>Charmeleon           </td><td>Fire                 </td><td>NA                   </td><td>405                  </td><td>58                   </td><td> 64                  </td><td> 58                  </td><td> 80                  </td><td> 65                  </td><td>80                   </td><td>Gen 1                </td><td>FALSE                </td></tr>\n",
       "</tbody>\n",
       "</table>\n"
      ],
      "text/latex": [
       "\\begin{tabular}{r|lllllllllllll}\n",
       " \\# & Name & Type 1 & Type 2 & Total & HP & Attack & Defense & Sp. Atk & Sp. Def & Speed & Generation & Legendary\\\\\n",
       "\\hline\n",
       "\t 1                     & Bulbasaur             & Grass                 & Poison                & 318                   & 45                    &  49                   &  49                   &  65                   &  65                   & 45                    & Gen 1                 & FALSE                \\\\\n",
       "\t 2                     & Ivysaur               & Grass                 & Poison                & 405                   & 60                    &  62                   &  63                   &  80                   &  80                   & 60                    & Gen 1                 & FALSE                \\\\\n",
       "\t 3                     & Venusaur              & Grass                 & Poison                & 525                   & 80                    &  82                   &  83                   & 100                   & 100                   & 80                    & Gen 1                 & FALSE                \\\\\n",
       "\t 3                     & VenusaurMega Venusaur & Grass                 & Poison                & 625                   & 80                    & 100                   & 123                   & 122                   & 120                   & 80                    & Gen 1                 & FALSE                \\\\\n",
       "\t 4                     & Charmander            & Fire                  & NA                    & 309                   & 39                    &  52                   &  43                   &  60                   &  50                   & 65                    & Gen 1                 & FALSE                \\\\\n",
       "\t 5                     & Charmeleon            & Fire                  & NA                    & 405                   & 58                    &  64                   &  58                   &  80                   &  65                   & 80                    & Gen 1                 & FALSE                \\\\\n",
       "\\end{tabular}\n"
      ],
      "text/markdown": [
       "\n",
       "# | Name | Type 1 | Type 2 | Total | HP | Attack | Defense | Sp. Atk | Sp. Def | Speed | Generation | Legendary | \n",
       "|---|---|---|---|---|---|\n",
       "| 1                     | Bulbasaur             | Grass                 | Poison                | 318                   | 45                    |  49                   |  49                   |  65                   |  65                   | 45                    | Gen 1                 | FALSE                 | \n",
       "| 2                     | Ivysaur               | Grass                 | Poison                | 405                   | 60                    |  62                   |  63                   |  80                   |  80                   | 60                    | Gen 1                 | FALSE                 | \n",
       "| 3                     | Venusaur              | Grass                 | Poison                | 525                   | 80                    |  82                   |  83                   | 100                   | 100                   | 80                    | Gen 1                 | FALSE                 | \n",
       "| 3                     | VenusaurMega Venusaur | Grass                 | Poison                | 625                   | 80                    | 100                   | 123                   | 122                   | 120                   | 80                    | Gen 1                 | FALSE                 | \n",
       "| 4                     | Charmander            | Fire                  | NA                    | 309                   | 39                    |  52                   |  43                   |  60                   |  50                   | 65                    | Gen 1                 | FALSE                 | \n",
       "| 5                     | Charmeleon            | Fire                  | NA                    | 405                   | 58                    |  64                   |  58                   |  80                   |  65                   | 80                    | Gen 1                 | FALSE                 | \n",
       "\n",
       "\n"
      ],
      "text/plain": [
       "  # Name                  Type 1 Type 2 Total HP Attack Defense Sp. Atk Sp. Def\n",
       "1 1 Bulbasaur             Grass  Poison 318   45  49     49      65      65    \n",
       "2 2 Ivysaur               Grass  Poison 405   60  62     63      80      80    \n",
       "3 3 Venusaur              Grass  Poison 525   80  82     83     100     100    \n",
       "4 3 VenusaurMega Venusaur Grass  Poison 625   80 100    123     122     120    \n",
       "5 4 Charmander            Fire   NA     309   39  52     43      60      50    \n",
       "6 5 Charmeleon            Fire   NA     405   58  64     58      80      65    \n",
       "  Speed Generation Legendary\n",
       "1 45    Gen 1      FALSE    \n",
       "2 60    Gen 1      FALSE    \n",
       "3 80    Gen 1      FALSE    \n",
       "4 80    Gen 1      FALSE    \n",
       "5 65    Gen 1      FALSE    \n",
       "6 80    Gen 1      FALSE    "
      ]
     },
     "metadata": {},
     "output_type": "display_data"
    }
   ],
   "source": [
    "read_csv(paste0(file_path,\"datasets/Pokemon.csv\")) -> poke_df\n",
    "poke_df %>% head"
   ]
  },
  {
   "cell_type": "code",
   "execution_count": 3,
   "metadata": {},
   "outputs": [
    {
     "data": {
      "text/html": [
       "<table>\n",
       "<thead><tr><th scope=col>HP</th><th scope=col>Attack</th><th scope=col>Defense</th></tr></thead>\n",
       "<tbody>\n",
       "\t<tr><td>45 </td><td> 49</td><td> 49</td></tr>\n",
       "\t<tr><td>60 </td><td> 62</td><td> 63</td></tr>\n",
       "\t<tr><td>80 </td><td> 82</td><td> 83</td></tr>\n",
       "\t<tr><td>80 </td><td>100</td><td>123</td></tr>\n",
       "\t<tr><td>39 </td><td> 52</td><td> 43</td></tr>\n",
       "\t<tr><td>58 </td><td> 64</td><td> 58</td></tr>\n",
       "</tbody>\n",
       "</table>\n"
      ],
      "text/latex": [
       "\\begin{tabular}{r|lll}\n",
       " HP & Attack & Defense\\\\\n",
       "\\hline\n",
       "\t 45  &  49 &  49\\\\\n",
       "\t 60  &  62 &  63\\\\\n",
       "\t 80  &  82 &  83\\\\\n",
       "\t 80  & 100 & 123\\\\\n",
       "\t 39  &  52 &  43\\\\\n",
       "\t 58  &  64 &  58\\\\\n",
       "\\end{tabular}\n"
      ],
      "text/markdown": [
       "\n",
       "HP | Attack | Defense | \n",
       "|---|---|---|---|---|---|\n",
       "| 45  |  49 |  49 | \n",
       "| 60  |  62 |  63 | \n",
       "| 80  |  82 |  83 | \n",
       "| 80  | 100 | 123 | \n",
       "| 39  |  52 |  43 | \n",
       "| 58  |  64 |  58 | \n",
       "\n",
       "\n"
      ],
      "text/plain": [
       "  HP Attack Defense\n",
       "1 45  49     49    \n",
       "2 60  62     63    \n",
       "3 80  82     83    \n",
       "4 80 100    123    \n",
       "5 39  52     43    \n",
       "6 58  64     58    "
      ]
     },
     "metadata": {},
     "output_type": "display_data"
    }
   ],
   "source": [
    "poke_df %>% select(HP,Attack,Defense) %>% head"
   ]
  },
  {
   "cell_type": "code",
   "execution_count": 4,
   "metadata": {},
   "outputs": [
    {
     "data": {
      "text/plain": [
       "       HP             Attack       Defense      \n",
       " Min.   :  1.00   Min.   :  5   Min.   :  5.00  \n",
       " 1st Qu.: 50.00   1st Qu.: 55   1st Qu.: 50.00  \n",
       " Median : 65.00   Median : 75   Median : 70.00  \n",
       " Mean   : 69.26   Mean   : 79   Mean   : 73.84  \n",
       " 3rd Qu.: 80.00   3rd Qu.:100   3rd Qu.: 90.00  \n",
       " Max.   :255.00   Max.   :190   Max.   :230.00  "
      ]
     },
     "metadata": {},
     "output_type": "display_data"
    }
   ],
   "source": [
    "poke_df %>% select(HP,Attack,Defense) %>% summary"
   ]
  },
  {
   "cell_type": "code",
   "execution_count": 5,
   "metadata": {},
   "outputs": [
    {
     "name": "stderr",
     "output_type": "stream",
     "text": [
      "Parsed with column specification:\n",
      "cols(\n",
      "  user_id = col_character(),\n",
      "  song_id = col_character(),\n",
      "  title = col_character(),\n",
      "  listen_count = col_integer()\n",
      ")\n"
     ]
    },
    {
     "data": {
      "text/html": [
       "<table>\n",
       "<thead><tr><th scope=col>user_id</th><th scope=col>song_id</th><th scope=col>title</th><th scope=col>listen_count</th></tr></thead>\n",
       "<tbody>\n",
       "\t<tr><td>b6b799f34a204bd928ea014c243ddad6d0be4f8f</td><td>SOBONKR12A58A7A7E0                      </td><td>You're The One                          </td><td> 2                                      </td></tr>\n",
       "\t<tr><td>b41ead730ac14f6b6717b9cf8859d5579f3f8d4d</td><td>SOBONKR12A58A7A7E0                      </td><td>You're The One                          </td><td> 0                                      </td></tr>\n",
       "\t<tr><td>4c84359a164b161496d05282707cecbd50adbfc4</td><td>SOBONKR12A58A7A7E0                      </td><td>You're The One                          </td><td> 0                                      </td></tr>\n",
       "\t<tr><td>779b5908593756abb6ff7586177c966022668b06</td><td>SOBONKR12A58A7A7E0                      </td><td>You're The One                          </td><td> 0                                      </td></tr>\n",
       "\t<tr><td>dd88ea94f605a63d9fc37a214127e3f00e85e42d</td><td>SOBONKR12A58A7A7E0                      </td><td>You're The One                          </td><td> 0                                      </td></tr>\n",
       "\t<tr><td>68f0359a2f1cedb0d15c98d88017281db79f9bc6</td><td>SOBONKR12A58A7A7E0                      </td><td>You're The One                          </td><td> 0                                      </td></tr>\n",
       "\t<tr><td>116a4c95d63623a967edf2f3456c90ebbf964e6f</td><td>SOBONKR12A58A7A7E0                      </td><td>You're The One                          </td><td>17                                      </td></tr>\n",
       "\t<tr><td>45544491ccfcdc0b0803c34f201a6287ed4e30f8</td><td>SOBONKR12A58A7A7E0                      </td><td>You're The One                          </td><td> 0                                      </td></tr>\n",
       "\t<tr><td>e701a24d9b6c59f5ac37ab28462ca82470e27cfb</td><td>SOBONKR12A58A7A7E0                      </td><td>You're The One                          </td><td>68                                      </td></tr>\n",
       "\t<tr><td>edc8b7b1fd592a3b69c3d823a742e1a064abec95</td><td>SOBONKR12A58A7A7E0                      </td><td>You're The One                          </td><td> 0                                      </td></tr>\n",
       "</tbody>\n",
       "</table>\n"
      ],
      "text/latex": [
       "\\begin{tabular}{r|llll}\n",
       " user\\_id & song\\_id & title & listen\\_count\\\\\n",
       "\\hline\n",
       "\t b6b799f34a204bd928ea014c243ddad6d0be4f8f & SOBONKR12A58A7A7E0                       & You're The One                           &  2                                      \\\\\n",
       "\t b41ead730ac14f6b6717b9cf8859d5579f3f8d4d & SOBONKR12A58A7A7E0                       & You're The One                           &  0                                      \\\\\n",
       "\t 4c84359a164b161496d05282707cecbd50adbfc4 & SOBONKR12A58A7A7E0                       & You're The One                           &  0                                      \\\\\n",
       "\t 779b5908593756abb6ff7586177c966022668b06 & SOBONKR12A58A7A7E0                       & You're The One                           &  0                                      \\\\\n",
       "\t dd88ea94f605a63d9fc37a214127e3f00e85e42d & SOBONKR12A58A7A7E0                       & You're The One                           &  0                                      \\\\\n",
       "\t 68f0359a2f1cedb0d15c98d88017281db79f9bc6 & SOBONKR12A58A7A7E0                       & You're The One                           &  0                                      \\\\\n",
       "\t 116a4c95d63623a967edf2f3456c90ebbf964e6f & SOBONKR12A58A7A7E0                       & You're The One                           & 17                                      \\\\\n",
       "\t 45544491ccfcdc0b0803c34f201a6287ed4e30f8 & SOBONKR12A58A7A7E0                       & You're The One                           &  0                                      \\\\\n",
       "\t e701a24d9b6c59f5ac37ab28462ca82470e27cfb & SOBONKR12A58A7A7E0                       & You're The One                           & 68                                      \\\\\n",
       "\t edc8b7b1fd592a3b69c3d823a742e1a064abec95 & SOBONKR12A58A7A7E0                       & You're The One                           &  0                                      \\\\\n",
       "\\end{tabular}\n"
      ],
      "text/markdown": [
       "\n",
       "user_id | song_id | title | listen_count | \n",
       "|---|---|---|---|---|---|---|---|---|---|\n",
       "| b6b799f34a204bd928ea014c243ddad6d0be4f8f | SOBONKR12A58A7A7E0                       | You're The One                           |  2                                       | \n",
       "| b41ead730ac14f6b6717b9cf8859d5579f3f8d4d | SOBONKR12A58A7A7E0                       | You're The One                           |  0                                       | \n",
       "| 4c84359a164b161496d05282707cecbd50adbfc4 | SOBONKR12A58A7A7E0                       | You're The One                           |  0                                       | \n",
       "| 779b5908593756abb6ff7586177c966022668b06 | SOBONKR12A58A7A7E0                       | You're The One                           |  0                                       | \n",
       "| dd88ea94f605a63d9fc37a214127e3f00e85e42d | SOBONKR12A58A7A7E0                       | You're The One                           |  0                                       | \n",
       "| 68f0359a2f1cedb0d15c98d88017281db79f9bc6 | SOBONKR12A58A7A7E0                       | You're The One                           |  0                                       | \n",
       "| 116a4c95d63623a967edf2f3456c90ebbf964e6f | SOBONKR12A58A7A7E0                       | You're The One                           | 17                                       | \n",
       "| 45544491ccfcdc0b0803c34f201a6287ed4e30f8 | SOBONKR12A58A7A7E0                       | You're The One                           |  0                                       | \n",
       "| e701a24d9b6c59f5ac37ab28462ca82470e27cfb | SOBONKR12A58A7A7E0                       | You're The One                           | 68                                       | \n",
       "| edc8b7b1fd592a3b69c3d823a742e1a064abec95 | SOBONKR12A58A7A7E0                       | You're The One                           |  0                                       | \n",
       "\n",
       "\n"
      ],
      "text/plain": [
       "   user_id                                  song_id            title         \n",
       "1  b6b799f34a204bd928ea014c243ddad6d0be4f8f SOBONKR12A58A7A7E0 You're The One\n",
       "2  b41ead730ac14f6b6717b9cf8859d5579f3f8d4d SOBONKR12A58A7A7E0 You're The One\n",
       "3  4c84359a164b161496d05282707cecbd50adbfc4 SOBONKR12A58A7A7E0 You're The One\n",
       "4  779b5908593756abb6ff7586177c966022668b06 SOBONKR12A58A7A7E0 You're The One\n",
       "5  dd88ea94f605a63d9fc37a214127e3f00e85e42d SOBONKR12A58A7A7E0 You're The One\n",
       "6  68f0359a2f1cedb0d15c98d88017281db79f9bc6 SOBONKR12A58A7A7E0 You're The One\n",
       "7  116a4c95d63623a967edf2f3456c90ebbf964e6f SOBONKR12A58A7A7E0 You're The One\n",
       "8  45544491ccfcdc0b0803c34f201a6287ed4e30f8 SOBONKR12A58A7A7E0 You're The One\n",
       "9  e701a24d9b6c59f5ac37ab28462ca82470e27cfb SOBONKR12A58A7A7E0 You're The One\n",
       "10 edc8b7b1fd592a3b69c3d823a742e1a064abec95 SOBONKR12A58A7A7E0 You're The One\n",
       "   listen_count\n",
       "1   2          \n",
       "2   0          \n",
       "3   0          \n",
       "4   0          \n",
       "5   0          \n",
       "6   0          \n",
       "7  17          \n",
       "8   0          \n",
       "9  68          \n",
       "10  0          "
      ]
     },
     "metadata": {},
     "output_type": "display_data"
    }
   ],
   "source": [
    "read_csv(paste0(file_path,\"datasets/song_views.csv\")) -> popsong_df\n",
    "popsong_df %>% head(10)"
   ]
  },
  {
   "cell_type": "markdown",
   "metadata": {},
   "source": [
    "### 二值化"
   ]
  },
  {
   "cell_type": "code",
   "execution_count": 6,
   "metadata": {},
   "outputs": [
    {
     "data": {
      "text/html": [
       "<table>\n",
       "<thead><tr><th scope=col>user_id</th><th scope=col>song_id</th><th scope=col>title</th><th scope=col>listen_count</th><th scope=col>watched</th></tr></thead>\n",
       "<tbody>\n",
       "\t<tr><td>b6b799f34a204bd928ea014c243ddad6d0be4f8f</td><td>SOBONKR12A58A7A7E0                      </td><td>You're The One                          </td><td> 2                                      </td><td>1                                       </td></tr>\n",
       "\t<tr><td>b41ead730ac14f6b6717b9cf8859d5579f3f8d4d</td><td>SOBONKR12A58A7A7E0                      </td><td>You're The One                          </td><td> 0                                      </td><td>0                                       </td></tr>\n",
       "\t<tr><td>4c84359a164b161496d05282707cecbd50adbfc4</td><td>SOBONKR12A58A7A7E0                      </td><td>You're The One                          </td><td> 0                                      </td><td>0                                       </td></tr>\n",
       "\t<tr><td>779b5908593756abb6ff7586177c966022668b06</td><td>SOBONKR12A58A7A7E0                      </td><td>You're The One                          </td><td> 0                                      </td><td>0                                       </td></tr>\n",
       "\t<tr><td>dd88ea94f605a63d9fc37a214127e3f00e85e42d</td><td>SOBONKR12A58A7A7E0                      </td><td>You're The One                          </td><td> 0                                      </td><td>0                                       </td></tr>\n",
       "\t<tr><td>68f0359a2f1cedb0d15c98d88017281db79f9bc6</td><td>SOBONKR12A58A7A7E0                      </td><td>You're The One                          </td><td> 0                                      </td><td>0                                       </td></tr>\n",
       "\t<tr><td>116a4c95d63623a967edf2f3456c90ebbf964e6f</td><td>SOBONKR12A58A7A7E0                      </td><td>You're The One                          </td><td>17                                      </td><td>1                                       </td></tr>\n",
       "\t<tr><td>45544491ccfcdc0b0803c34f201a6287ed4e30f8</td><td>SOBONKR12A58A7A7E0                      </td><td>You're The One                          </td><td> 0                                      </td><td>0                                       </td></tr>\n",
       "\t<tr><td>e701a24d9b6c59f5ac37ab28462ca82470e27cfb</td><td>SOBONKR12A58A7A7E0                      </td><td>You're The One                          </td><td>68                                      </td><td>1                                       </td></tr>\n",
       "\t<tr><td>edc8b7b1fd592a3b69c3d823a742e1a064abec95</td><td>SOBONKR12A58A7A7E0                      </td><td>You're The One                          </td><td> 0                                      </td><td>0                                       </td></tr>\n",
       "</tbody>\n",
       "</table>\n"
      ],
      "text/latex": [
       "\\begin{tabular}{r|lllll}\n",
       " user\\_id & song\\_id & title & listen\\_count & watched\\\\\n",
       "\\hline\n",
       "\t b6b799f34a204bd928ea014c243ddad6d0be4f8f & SOBONKR12A58A7A7E0                       & You're The One                           &  2                                       & 1                                       \\\\\n",
       "\t b41ead730ac14f6b6717b9cf8859d5579f3f8d4d & SOBONKR12A58A7A7E0                       & You're The One                           &  0                                       & 0                                       \\\\\n",
       "\t 4c84359a164b161496d05282707cecbd50adbfc4 & SOBONKR12A58A7A7E0                       & You're The One                           &  0                                       & 0                                       \\\\\n",
       "\t 779b5908593756abb6ff7586177c966022668b06 & SOBONKR12A58A7A7E0                       & You're The One                           &  0                                       & 0                                       \\\\\n",
       "\t dd88ea94f605a63d9fc37a214127e3f00e85e42d & SOBONKR12A58A7A7E0                       & You're The One                           &  0                                       & 0                                       \\\\\n",
       "\t 68f0359a2f1cedb0d15c98d88017281db79f9bc6 & SOBONKR12A58A7A7E0                       & You're The One                           &  0                                       & 0                                       \\\\\n",
       "\t 116a4c95d63623a967edf2f3456c90ebbf964e6f & SOBONKR12A58A7A7E0                       & You're The One                           & 17                                       & 1                                       \\\\\n",
       "\t 45544491ccfcdc0b0803c34f201a6287ed4e30f8 & SOBONKR12A58A7A7E0                       & You're The One                           &  0                                       & 0                                       \\\\\n",
       "\t e701a24d9b6c59f5ac37ab28462ca82470e27cfb & SOBONKR12A58A7A7E0                       & You're The One                           & 68                                       & 1                                       \\\\\n",
       "\t edc8b7b1fd592a3b69c3d823a742e1a064abec95 & SOBONKR12A58A7A7E0                       & You're The One                           &  0                                       & 0                                       \\\\\n",
       "\\end{tabular}\n"
      ],
      "text/markdown": [
       "\n",
       "user_id | song_id | title | listen_count | watched | \n",
       "|---|---|---|---|---|---|---|---|---|---|\n",
       "| b6b799f34a204bd928ea014c243ddad6d0be4f8f | SOBONKR12A58A7A7E0                       | You're The One                           |  2                                       | 1                                        | \n",
       "| b41ead730ac14f6b6717b9cf8859d5579f3f8d4d | SOBONKR12A58A7A7E0                       | You're The One                           |  0                                       | 0                                        | \n",
       "| 4c84359a164b161496d05282707cecbd50adbfc4 | SOBONKR12A58A7A7E0                       | You're The One                           |  0                                       | 0                                        | \n",
       "| 779b5908593756abb6ff7586177c966022668b06 | SOBONKR12A58A7A7E0                       | You're The One                           |  0                                       | 0                                        | \n",
       "| dd88ea94f605a63d9fc37a214127e3f00e85e42d | SOBONKR12A58A7A7E0                       | You're The One                           |  0                                       | 0                                        | \n",
       "| 68f0359a2f1cedb0d15c98d88017281db79f9bc6 | SOBONKR12A58A7A7E0                       | You're The One                           |  0                                       | 0                                        | \n",
       "| 116a4c95d63623a967edf2f3456c90ebbf964e6f | SOBONKR12A58A7A7E0                       | You're The One                           | 17                                       | 1                                        | \n",
       "| 45544491ccfcdc0b0803c34f201a6287ed4e30f8 | SOBONKR12A58A7A7E0                       | You're The One                           |  0                                       | 0                                        | \n",
       "| e701a24d9b6c59f5ac37ab28462ca82470e27cfb | SOBONKR12A58A7A7E0                       | You're The One                           | 68                                       | 1                                        | \n",
       "| edc8b7b1fd592a3b69c3d823a742e1a064abec95 | SOBONKR12A58A7A7E0                       | You're The One                           |  0                                       | 0                                        | \n",
       "\n",
       "\n"
      ],
      "text/plain": [
       "   user_id                                  song_id            title         \n",
       "1  b6b799f34a204bd928ea014c243ddad6d0be4f8f SOBONKR12A58A7A7E0 You're The One\n",
       "2  b41ead730ac14f6b6717b9cf8859d5579f3f8d4d SOBONKR12A58A7A7E0 You're The One\n",
       "3  4c84359a164b161496d05282707cecbd50adbfc4 SOBONKR12A58A7A7E0 You're The One\n",
       "4  779b5908593756abb6ff7586177c966022668b06 SOBONKR12A58A7A7E0 You're The One\n",
       "5  dd88ea94f605a63d9fc37a214127e3f00e85e42d SOBONKR12A58A7A7E0 You're The One\n",
       "6  68f0359a2f1cedb0d15c98d88017281db79f9bc6 SOBONKR12A58A7A7E0 You're The One\n",
       "7  116a4c95d63623a967edf2f3456c90ebbf964e6f SOBONKR12A58A7A7E0 You're The One\n",
       "8  45544491ccfcdc0b0803c34f201a6287ed4e30f8 SOBONKR12A58A7A7E0 You're The One\n",
       "9  e701a24d9b6c59f5ac37ab28462ca82470e27cfb SOBONKR12A58A7A7E0 You're The One\n",
       "10 edc8b7b1fd592a3b69c3d823a742e1a064abec95 SOBONKR12A58A7A7E0 You're The One\n",
       "   listen_count watched\n",
       "1   2           1      \n",
       "2   0           0      \n",
       "3   0           0      \n",
       "4   0           0      \n",
       "5   0           0      \n",
       "6   0           0      \n",
       "7  17           1      \n",
       "8   0           0      \n",
       "9  68           1      \n",
       "10  0           0      "
      ]
     },
     "metadata": {},
     "output_type": "display_data"
    }
   ],
   "source": [
    "popsong_df %>%\n",
    " mutate(watched = ifelse(listen_count > 0,1,0)) %>%\n",
    " head(10)"
   ]
  },
  {
   "cell_type": "markdown",
   "metadata": {},
   "source": [
    "### 取整"
   ]
  },
  {
   "cell_type": "code",
   "execution_count": 7,
   "metadata": {},
   "outputs": [
    {
     "name": "stderr",
     "output_type": "stream",
     "text": [
      "Parsed with column specification:\n",
      "cols(\n",
      "  item_id = col_character(),\n",
      "  pop_percent = col_double()\n",
      ")\n"
     ]
    },
    {
     "data": {
      "text/html": [
       "<table>\n",
       "<thead><tr><th scope=col>item_id</th><th scope=col>pop_percent</th></tr></thead>\n",
       "<tbody>\n",
       "\t<tr><td>it_01345</td><td>0.98324 </td></tr>\n",
       "\t<tr><td>it_03431</td><td>0.56123 </td></tr>\n",
       "\t<tr><td>it_04572</td><td>0.12098 </td></tr>\n",
       "\t<tr><td>it_98021</td><td>0.35476 </td></tr>\n",
       "\t<tr><td>it_01298</td><td>0.92101 </td></tr>\n",
       "\t<tr><td>it_90120</td><td>0.81212 </td></tr>\n",
       "\t<tr><td>it_10123</td><td>0.56502 </td></tr>\n",
       "</tbody>\n",
       "</table>\n"
      ],
      "text/latex": [
       "\\begin{tabular}{r|ll}\n",
       " item\\_id & pop\\_percent\\\\\n",
       "\\hline\n",
       "\t it\\_01345 & 0.98324   \\\\\n",
       "\t it\\_03431 & 0.56123   \\\\\n",
       "\t it\\_04572 & 0.12098   \\\\\n",
       "\t it\\_98021 & 0.35476   \\\\\n",
       "\t it\\_01298 & 0.92101   \\\\\n",
       "\t it\\_90120 & 0.81212   \\\\\n",
       "\t it\\_10123 & 0.56502   \\\\\n",
       "\\end{tabular}\n"
      ],
      "text/markdown": [
       "\n",
       "item_id | pop_percent | \n",
       "|---|---|---|---|---|---|---|\n",
       "| it_01345 | 0.98324  | \n",
       "| it_03431 | 0.56123  | \n",
       "| it_04572 | 0.12098  | \n",
       "| it_98021 | 0.35476  | \n",
       "| it_01298 | 0.92101  | \n",
       "| it_90120 | 0.81212  | \n",
       "| it_10123 | 0.56502  | \n",
       "\n",
       "\n"
      ],
      "text/plain": [
       "  item_id  pop_percent\n",
       "1 it_01345 0.98324    \n",
       "2 it_03431 0.56123    \n",
       "3 it_04572 0.12098    \n",
       "4 it_98021 0.35476    \n",
       "5 it_01298 0.92101    \n",
       "6 it_90120 0.81212    \n",
       "7 it_10123 0.56502    "
      ]
     },
     "metadata": {},
     "output_type": "display_data"
    }
   ],
   "source": [
    "read_csv(paste0(file_path,\"datasets/item_popularity.csv\")) -> items_popularity\n",
    "items_popularity"
   ]
  },
  {
   "cell_type": "code",
   "execution_count": 8,
   "metadata": {},
   "outputs": [
    {
     "data": {
      "text/html": [
       "<table>\n",
       "<thead><tr><th scope=col>item_id</th><th scope=col>pop_percent</th><th scope=col>popularity_scale_10</th><th scope=col>popularity_scale_100</th></tr></thead>\n",
       "<tbody>\n",
       "\t<tr><td>it_01345</td><td>0.98324 </td><td>10      </td><td>98      </td></tr>\n",
       "\t<tr><td>it_03431</td><td>0.56123 </td><td> 6      </td><td>56      </td></tr>\n",
       "\t<tr><td>it_04572</td><td>0.12098 </td><td> 1      </td><td>12      </td></tr>\n",
       "\t<tr><td>it_98021</td><td>0.35476 </td><td> 4      </td><td>35      </td></tr>\n",
       "\t<tr><td>it_01298</td><td>0.92101 </td><td> 9      </td><td>92      </td></tr>\n",
       "\t<tr><td>it_90120</td><td>0.81212 </td><td> 8      </td><td>81      </td></tr>\n",
       "\t<tr><td>it_10123</td><td>0.56502 </td><td> 6      </td><td>57      </td></tr>\n",
       "</tbody>\n",
       "</table>\n"
      ],
      "text/latex": [
       "\\begin{tabular}{r|llll}\n",
       " item\\_id & pop\\_percent & popularity\\_scale\\_10 & popularity\\_scale\\_100\\\\\n",
       "\\hline\n",
       "\t it\\_01345 & 0.98324    & 10         & 98        \\\\\n",
       "\t it\\_03431 & 0.56123    &  6         & 56        \\\\\n",
       "\t it\\_04572 & 0.12098    &  1         & 12        \\\\\n",
       "\t it\\_98021 & 0.35476    &  4         & 35        \\\\\n",
       "\t it\\_01298 & 0.92101    &  9         & 92        \\\\\n",
       "\t it\\_90120 & 0.81212    &  8         & 81        \\\\\n",
       "\t it\\_10123 & 0.56502    &  6         & 57        \\\\\n",
       "\\end{tabular}\n"
      ],
      "text/markdown": [
       "\n",
       "item_id | pop_percent | popularity_scale_10 | popularity_scale_100 | \n",
       "|---|---|---|---|---|---|---|\n",
       "| it_01345 | 0.98324  | 10       | 98       | \n",
       "| it_03431 | 0.56123  |  6       | 56       | \n",
       "| it_04572 | 0.12098  |  1       | 12       | \n",
       "| it_98021 | 0.35476  |  4       | 35       | \n",
       "| it_01298 | 0.92101  |  9       | 92       | \n",
       "| it_90120 | 0.81212  |  8       | 81       | \n",
       "| it_10123 | 0.56502  |  6       | 57       | \n",
       "\n",
       "\n"
      ],
      "text/plain": [
       "  item_id  pop_percent popularity_scale_10 popularity_scale_100\n",
       "1 it_01345 0.98324     10                  98                  \n",
       "2 it_03431 0.56123      6                  56                  \n",
       "3 it_04572 0.12098      1                  12                  \n",
       "4 it_98021 0.35476      4                  35                  \n",
       "5 it_01298 0.92101      9                  92                  \n",
       "6 it_90120 0.81212      8                  81                  \n",
       "7 it_10123 0.56502      6                  57                  "
      ]
     },
     "metadata": {},
     "output_type": "display_data"
    }
   ],
   "source": [
    "items_popularity %>%\n",
    " mutate(popularity_scale_10 = round(pop_percent * 10)) %>%\n",
    "mutate(popularity_scale_100 = round(pop_percent * 100)) "
   ]
  },
  {
   "cell_type": "markdown",
   "metadata": {},
   "source": [
    "### 交互项构造"
   ]
  },
  {
   "cell_type": "code",
   "execution_count": 9,
   "metadata": {},
   "outputs": [
    {
     "data": {
      "text/html": [
       "<table>\n",
       "<thead><tr><th scope=col>Attack</th><th scope=col>Defense</th></tr></thead>\n",
       "<tbody>\n",
       "\t<tr><td> 49</td><td> 49</td></tr>\n",
       "\t<tr><td> 62</td><td> 63</td></tr>\n",
       "\t<tr><td> 82</td><td> 83</td></tr>\n",
       "\t<tr><td>100</td><td>123</td></tr>\n",
       "\t<tr><td> 52</td><td> 43</td></tr>\n",
       "\t<tr><td> 64</td><td> 58</td></tr>\n",
       "</tbody>\n",
       "</table>\n"
      ],
      "text/latex": [
       "\\begin{tabular}{r|ll}\n",
       " Attack & Defense\\\\\n",
       "\\hline\n",
       "\t  49 &  49\\\\\n",
       "\t  62 &  63\\\\\n",
       "\t  82 &  83\\\\\n",
       "\t 100 & 123\\\\\n",
       "\t  52 &  43\\\\\n",
       "\t  64 &  58\\\\\n",
       "\\end{tabular}\n"
      ],
      "text/markdown": [
       "\n",
       "Attack | Defense | \n",
       "|---|---|---|---|---|---|\n",
       "|  49 |  49 | \n",
       "|  62 |  63 | \n",
       "|  82 |  83 | \n",
       "| 100 | 123 | \n",
       "|  52 |  43 | \n",
       "|  64 |  58 | \n",
       "\n",
       "\n"
      ],
      "text/plain": [
       "  Attack Defense\n",
       "1  49     49    \n",
       "2  62     63    \n",
       "3  82     83    \n",
       "4 100    123    \n",
       "5  52     43    \n",
       "6  64     58    "
      ]
     },
     "metadata": {},
     "output_type": "display_data"
    }
   ],
   "source": [
    "poke_df %>% select(Attack,Defense) -> atk_def\n",
    "atk_def %>% head"
   ]
  },
  {
   "cell_type": "code",
   "execution_count": 10,
   "metadata": {},
   "outputs": [
    {
     "data": {
      "text/html": [
       "<table>\n",
       "<thead><tr><th scope=col>Attack</th><th scope=col>Defense</th><th scope=col>Attack:Defense</th></tr></thead>\n",
       "<tbody>\n",
       "\t<tr><td> 49  </td><td> 49  </td><td> 2401</td></tr>\n",
       "\t<tr><td> 62  </td><td> 63  </td><td> 3906</td></tr>\n",
       "\t<tr><td> 82  </td><td> 83  </td><td> 6806</td></tr>\n",
       "\t<tr><td>100  </td><td>123  </td><td>12300</td></tr>\n",
       "\t<tr><td> 52  </td><td> 43  </td><td> 2236</td></tr>\n",
       "\t<tr><td> 64  </td><td> 58  </td><td> 3712</td></tr>\n",
       "</tbody>\n",
       "</table>\n"
      ],
      "text/latex": [
       "\\begin{tabular}{r|lll}\n",
       " Attack & Defense & Attack:Defense\\\\\n",
       "\\hline\n",
       "\t  49   &  49   &  2401\\\\\n",
       "\t  62   &  63   &  3906\\\\\n",
       "\t  82   &  83   &  6806\\\\\n",
       "\t 100   & 123   & 12300\\\\\n",
       "\t  52   &  43   &  2236\\\\\n",
       "\t  64   &  58   &  3712\\\\\n",
       "\\end{tabular}\n"
      ],
      "text/markdown": [
       "\n",
       "Attack | Defense | Attack:Defense | \n",
       "|---|---|---|---|---|---|\n",
       "|  49   |  49   |  2401 | \n",
       "|  62   |  63   |  3906 | \n",
       "|  82   |  83   |  6806 | \n",
       "| 100   | 123   | 12300 | \n",
       "|  52   |  43   |  2236 | \n",
       "|  64   |  58   |  3712 | \n",
       "\n",
       "\n"
      ],
      "text/plain": [
       "  Attack Defense Attack:Defense\n",
       "1  49     49      2401         \n",
       "2  62     63      3906         \n",
       "3  82     83      6806         \n",
       "4 100    123     12300         \n",
       "5  52     43      2236         \n",
       "6  64     58      3712         "
      ]
     },
     "metadata": {},
     "output_type": "display_data"
    }
   ],
   "source": [
    "#需要平方项的同学请自行添加\n",
    "as_tibble(model.matrix(~ .^2-1,atk_def)) %>% head"
   ]
  },
  {
   "cell_type": "markdown",
   "metadata": {},
   "source": [
    "### 分箱"
   ]
  },
  {
   "cell_type": "code",
   "execution_count": 11,
   "metadata": {},
   "outputs": [
    {
     "name": "stderr",
     "output_type": "stream",
     "text": [
      "Parsed with column specification:\n",
      "cols(\n",
      "  ID.x = col_character(),\n",
      "  Age = col_integer(),\n",
      "  ChildrenNumber = col_integer(),\n",
      "  CountryCitizen = col_character(),\n",
      "  EmploymentField = col_character(),\n",
      "  EmploymentStatus = col_character(),\n",
      "  ExpectedEarning = col_integer(),\n",
      "  Gender = col_character(),\n",
      "  Income = col_integer(),\n",
      "  JobPref = col_character(),\n",
      "  JobRoleInterest = col_character(),\n",
      "  LanguageAtHome = col_character(),\n",
      "  MaritalStatus = col_character(),\n",
      "  SchoolDegree = col_character(),\n",
      "  StudentDebtOwe = col_integer()\n",
      ")\n"
     ]
    },
    {
     "data": {
      "text/html": [
       "<table>\n",
       "<thead><tr><th scope=col>ID.x</th><th scope=col>EmploymentField</th><th scope=col>Age</th><th scope=col>Income</th></tr></thead>\n",
       "<tbody>\n",
       "\t<tr><td>cef35615d61b202f1dc794ef2746df14     </td><td>office and administrative support    </td><td>28                                   </td><td>32000                                </td></tr>\n",
       "\t<tr><td>323e5a113644d18185c743c241407754     </td><td>food and beverage                    </td><td>22                                   </td><td>15000                                </td></tr>\n",
       "\t<tr><td>b29a1027e5cd062e654a63764157461d     </td><td>finance                              </td><td>19                                   </td><td>48000                                </td></tr>\n",
       "\t<tr><td>04a11e4bcb573a1261eb0d9948d32637     </td><td>arts, entertainment, sports, or media</td><td>26                                   </td><td>43000                                </td></tr>\n",
       "\t<tr><td>9368291c93d5d5f5c8cdb1a575e18bec     </td><td>education                            </td><td>20                                   </td><td> 6000                                </td></tr>\n",
       "\t<tr><td>dd0e77eab9270e4b67c19b0d6bbf621b     </td><td>finance                              </td><td>34                                   </td><td>40000                                </td></tr>\n",
       "</tbody>\n",
       "</table>\n"
      ],
      "text/latex": [
       "\\begin{tabular}{r|llll}\n",
       " ID.x & EmploymentField & Age & Income\\\\\n",
       "\\hline\n",
       "\t cef35615d61b202f1dc794ef2746df14      & office and administrative support     & 28                                    & 32000                                \\\\\n",
       "\t 323e5a113644d18185c743c241407754      & food and beverage                     & 22                                    & 15000                                \\\\\n",
       "\t b29a1027e5cd062e654a63764157461d      & finance                               & 19                                    & 48000                                \\\\\n",
       "\t 04a11e4bcb573a1261eb0d9948d32637      & arts, entertainment, sports, or media & 26                                    & 43000                                \\\\\n",
       "\t 9368291c93d5d5f5c8cdb1a575e18bec      & education                             & 20                                    &  6000                                \\\\\n",
       "\t dd0e77eab9270e4b67c19b0d6bbf621b      & finance                               & 34                                    & 40000                                \\\\\n",
       "\\end{tabular}\n"
      ],
      "text/markdown": [
       "\n",
       "ID.x | EmploymentField | Age | Income | \n",
       "|---|---|---|---|---|---|\n",
       "| cef35615d61b202f1dc794ef2746df14      | office and administrative support     | 28                                    | 32000                                 | \n",
       "| 323e5a113644d18185c743c241407754      | food and beverage                     | 22                                    | 15000                                 | \n",
       "| b29a1027e5cd062e654a63764157461d      | finance                               | 19                                    | 48000                                 | \n",
       "| 04a11e4bcb573a1261eb0d9948d32637      | arts, entertainment, sports, or media | 26                                    | 43000                                 | \n",
       "| 9368291c93d5d5f5c8cdb1a575e18bec      | education                             | 20                                    |  6000                                 | \n",
       "| dd0e77eab9270e4b67c19b0d6bbf621b      | finance                               | 34                                    | 40000                                 | \n",
       "\n",
       "\n"
      ],
      "text/plain": [
       "  ID.x                             EmploymentField                       Age\n",
       "1 cef35615d61b202f1dc794ef2746df14 office and administrative support     28 \n",
       "2 323e5a113644d18185c743c241407754 food and beverage                     22 \n",
       "3 b29a1027e5cd062e654a63764157461d finance                               19 \n",
       "4 04a11e4bcb573a1261eb0d9948d32637 arts, entertainment, sports, or media 26 \n",
       "5 9368291c93d5d5f5c8cdb1a575e18bec education                             20 \n",
       "6 dd0e77eab9270e4b67c19b0d6bbf621b finance                               34 \n",
       "  Income\n",
       "1 32000 \n",
       "2 15000 \n",
       "3 48000 \n",
       "4 43000 \n",
       "5  6000 \n",
       "6 40000 "
      ]
     },
     "metadata": {},
     "output_type": "display_data"
    }
   ],
   "source": [
    "#读数据\n",
    "\n",
    "read_csv(paste0(file_path,\"datasets/fcc_2016_coder_survey_subset.csv\")) -> fcc_survey_df\n",
    "\n",
    "fcc_survey_df %>% select('ID.x', 'EmploymentField', 'Age', 'Income') %>% head\n"
   ]
  },
  {
   "cell_type": "code",
   "execution_count": 12,
   "metadata": {},
   "outputs": [
    {
     "data": {
      "text/html": [
       "<table>\n",
       "<thead><tr><th scope=col>ID.x</th><th scope=col>Age</th><th scope=col>Age_bin_round</th></tr></thead>\n",
       "<tbody>\n",
       "\t<tr><td>44796ca3775fcfbe5076c720d7d771c3</td><td>37                              </td><td>3                               </td></tr>\n",
       "\t<tr><td>6a02aa4618c99fdb3e24de522a099431</td><td>17                              </td><td>1                               </td></tr>\n",
       "\t<tr><td>f0e5e47278c5f248fe861c5f7214c07a</td><td>38                              </td><td>3                               </td></tr>\n",
       "\t<tr><td>6e14f6d0779b7e424fa3fdd9e4bd3bf9</td><td>21                              </td><td>2                               </td></tr>\n",
       "\t<tr><td>c2654c07dc929cdf3dad4d1aec4ffbb3</td><td>53                              </td><td>5                               </td></tr>\n",
       "\t<tr><td>f07449fc9339b2e57703ec7886232523</td><td>35                              </td><td>3                               </td></tr>\n",
       "</tbody>\n",
       "</table>\n"
      ],
      "text/latex": [
       "\\begin{tabular}{r|lll}\n",
       " ID.x & Age & Age\\_bin\\_round\\\\\n",
       "\\hline\n",
       "\t 44796ca3775fcfbe5076c720d7d771c3 & 37                               & 3                               \\\\\n",
       "\t 6a02aa4618c99fdb3e24de522a099431 & 17                               & 1                               \\\\\n",
       "\t f0e5e47278c5f248fe861c5f7214c07a & 38                               & 3                               \\\\\n",
       "\t 6e14f6d0779b7e424fa3fdd9e4bd3bf9 & 21                               & 2                               \\\\\n",
       "\t c2654c07dc929cdf3dad4d1aec4ffbb3 & 53                               & 5                               \\\\\n",
       "\t f07449fc9339b2e57703ec7886232523 & 35                               & 3                               \\\\\n",
       "\\end{tabular}\n"
      ],
      "text/markdown": [
       "\n",
       "ID.x | Age | Age_bin_round | \n",
       "|---|---|---|---|---|---|\n",
       "| 44796ca3775fcfbe5076c720d7d771c3 | 37                               | 3                                | \n",
       "| 6a02aa4618c99fdb3e24de522a099431 | 17                               | 1                                | \n",
       "| f0e5e47278c5f248fe861c5f7214c07a | 38                               | 3                                | \n",
       "| 6e14f6d0779b7e424fa3fdd9e4bd3bf9 | 21                               | 2                                | \n",
       "| c2654c07dc929cdf3dad4d1aec4ffbb3 | 53                               | 5                                | \n",
       "| f07449fc9339b2e57703ec7886232523 | 35                               | 3                                | \n",
       "\n",
       "\n"
      ],
      "text/plain": [
       "  ID.x                             Age Age_bin_round\n",
       "1 44796ca3775fcfbe5076c720d7d771c3 37  3            \n",
       "2 6a02aa4618c99fdb3e24de522a099431 17  1            \n",
       "3 f0e5e47278c5f248fe861c5f7214c07a 38  3            \n",
       "4 6e14f6d0779b7e424fa3fdd9e4bd3bf9 21  2            \n",
       "5 c2654c07dc929cdf3dad4d1aec4ffbb3 53  5            \n",
       "6 f07449fc9339b2e57703ec7886232523 35  3            "
      ]
     },
     "metadata": {},
     "output_type": "display_data"
    }
   ],
   "source": [
    "#根据年龄的十位数分箱\n",
    "\n",
    "fcc_survey_df %>% \n",
    " mutate(Age_bin_round = floor(Age/10)) %>% \n",
    " select('ID.x', 'Age', 'Age_bin_round') %>%\n",
    " slice(1071:1076)"
   ]
  },
  {
   "cell_type": "code",
   "execution_count": 13,
   "metadata": {},
   "outputs": [
    {
     "data": {
      "text/html": [
       "<table>\n",
       "<thead><tr><th scope=col>ID.x</th><th scope=col>Age</th><th scope=col>Age_bin_custom_range</th><th scope=col>Age_bin_custom_label</th></tr></thead>\n",
       "<tbody>\n",
       "\t<tr><td>44796ca3775fcfbe5076c720d7d771c3</td><td>37                              </td><td>(30,45]                         </td><td>3                               </td></tr>\n",
       "\t<tr><td>6a02aa4618c99fdb3e24de522a099431</td><td>17                              </td><td>(15,30]                         </td><td>2                               </td></tr>\n",
       "\t<tr><td>f0e5e47278c5f248fe861c5f7214c07a</td><td>38                              </td><td>(30,45]                         </td><td>3                               </td></tr>\n",
       "\t<tr><td>6e14f6d0779b7e424fa3fdd9e4bd3bf9</td><td>21                              </td><td>(15,30]                         </td><td>2                               </td></tr>\n",
       "\t<tr><td>c2654c07dc929cdf3dad4d1aec4ffbb3</td><td>53                              </td><td>(45,60]                         </td><td>4                               </td></tr>\n",
       "\t<tr><td>f07449fc9339b2e57703ec7886232523</td><td>35                              </td><td>(30,45]                         </td><td>3                               </td></tr>\n",
       "</tbody>\n",
       "</table>\n"
      ],
      "text/latex": [
       "\\begin{tabular}{r|llll}\n",
       " ID.x & Age & Age\\_bin\\_custom\\_range & Age\\_bin\\_custom\\_label\\\\\n",
       "\\hline\n",
       "\t 44796ca3775fcfbe5076c720d7d771c3 & 37                               & (30,45{]}                        & 3                               \\\\\n",
       "\t 6a02aa4618c99fdb3e24de522a099431 & 17                               & (15,30{]}                        & 2                               \\\\\n",
       "\t f0e5e47278c5f248fe861c5f7214c07a & 38                               & (30,45{]}                        & 3                               \\\\\n",
       "\t 6e14f6d0779b7e424fa3fdd9e4bd3bf9 & 21                               & (15,30{]}                        & 2                               \\\\\n",
       "\t c2654c07dc929cdf3dad4d1aec4ffbb3 & 53                               & (45,60{]}                        & 4                               \\\\\n",
       "\t f07449fc9339b2e57703ec7886232523 & 35                               & (30,45{]}                        & 3                               \\\\\n",
       "\\end{tabular}\n"
      ],
      "text/markdown": [
       "\n",
       "ID.x | Age | Age_bin_custom_range | Age_bin_custom_label | \n",
       "|---|---|---|---|---|---|\n",
       "| 44796ca3775fcfbe5076c720d7d771c3 | 37                               | (30,45]                          | 3                                | \n",
       "| 6a02aa4618c99fdb3e24de522a099431 | 17                               | (15,30]                          | 2                                | \n",
       "| f0e5e47278c5f248fe861c5f7214c07a | 38                               | (30,45]                          | 3                                | \n",
       "| 6e14f6d0779b7e424fa3fdd9e4bd3bf9 | 21                               | (15,30]                          | 2                                | \n",
       "| c2654c07dc929cdf3dad4d1aec4ffbb3 | 53                               | (45,60]                          | 4                                | \n",
       "| f07449fc9339b2e57703ec7886232523 | 35                               | (30,45]                          | 3                                | \n",
       "\n",
       "\n"
      ],
      "text/plain": [
       "  ID.x                             Age Age_bin_custom_range\n",
       "1 44796ca3775fcfbe5076c720d7d771c3 37  (30,45]             \n",
       "2 6a02aa4618c99fdb3e24de522a099431 17  (15,30]             \n",
       "3 f0e5e47278c5f248fe861c5f7214c07a 38  (30,45]             \n",
       "4 6e14f6d0779b7e424fa3fdd9e4bd3bf9 21  (15,30]             \n",
       "5 c2654c07dc929cdf3dad4d1aec4ffbb3 53  (45,60]             \n",
       "6 f07449fc9339b2e57703ec7886232523 35  (30,45]             \n",
       "  Age_bin_custom_label\n",
       "1 3                   \n",
       "2 2                   \n",
       "3 3                   \n",
       "4 2                   \n",
       "5 4                   \n",
       "6 3                   "
      ]
     },
     "metadata": {},
     "output_type": "display_data"
    }
   ],
   "source": [
    "#自定义标准\n",
    "\n",
    "fcc_survey_df %>%\n",
    " mutate(Age_bin_custom_range = cut(Age,breaks = c(0, 15, 30, 45, 60, 75, 100))) %>%\n",
    " mutate(Age_bin_custom_label = cut(Age,\n",
    "                                  breaks = c(0, 15, 30, 45, 60, 75, 100),\n",
    "                                 labels = 1:6)) %>%\n",
    " slice(1071:1076) %>%\n",
    " select('ID.x', 'Age', 'Age_bin_custom_range', 'Age_bin_custom_label')\n"
   ]
  },
  {
   "cell_type": "markdown",
   "metadata": {},
   "source": [
    "如果你发现跟python数据对不上，那就对了，因为python的[1071:1076]其实是1072到1076列，因为python是从0开始的，怎么样，够坑吧？"
   ]
  },
  {
   "cell_type": "code",
   "execution_count": 14,
   "metadata": {},
   "outputs": [
    {
     "data": {
      "text/html": [
       "<table>\n",
       "<thead><tr><th scope=col>ID.x</th><th scope=col>Age</th><th scope=col>Income</th><th scope=col>income_quantile_labels</th></tr></thead>\n",
       "<tbody>\n",
       "\t<tr><td>04a11e4bcb573a1261eb0d9948d32637</td><td>26                              </td><td>43000                           </td><td>3                               </td></tr>\n",
       "\t<tr><td>9368291c93d5d5f5c8cdb1a575e18bec</td><td>20                              </td><td> 6000                           </td><td>1                               </td></tr>\n",
       "\t<tr><td>dd0e77eab9270e4b67c19b0d6bbf621b</td><td>34                              </td><td>40000                           </td><td>3                               </td></tr>\n",
       "\t<tr><td>7599c0aa0419b59fd11ffede98a3665d</td><td>23                              </td><td>32000                           </td><td>2                               </td></tr>\n",
       "\t<tr><td>6dff182db452487f07a47596f314bddc</td><td>35                              </td><td>40000                           </td><td>3                               </td></tr>\n",
       "\t<tr><td>9dc233f8ed1c6eb2432672ab4bb39249</td><td>33                              </td><td>80000                           </td><td>4                               </td></tr>\n",
       "</tbody>\n",
       "</table>\n"
      ],
      "text/latex": [
       "\\begin{tabular}{r|llll}\n",
       " ID.x & Age & Income & income\\_quantile\\_labels\\\\\n",
       "\\hline\n",
       "\t 04a11e4bcb573a1261eb0d9948d32637 & 26                               & 43000                            & 3                               \\\\\n",
       "\t 9368291c93d5d5f5c8cdb1a575e18bec & 20                               &  6000                            & 1                               \\\\\n",
       "\t dd0e77eab9270e4b67c19b0d6bbf621b & 34                               & 40000                            & 3                               \\\\\n",
       "\t 7599c0aa0419b59fd11ffede98a3665d & 23                               & 32000                            & 2                               \\\\\n",
       "\t 6dff182db452487f07a47596f314bddc & 35                               & 40000                            & 3                               \\\\\n",
       "\t 9dc233f8ed1c6eb2432672ab4bb39249 & 33                               & 80000                            & 4                               \\\\\n",
       "\\end{tabular}\n"
      ],
      "text/markdown": [
       "\n",
       "ID.x | Age | Income | income_quantile_labels | \n",
       "|---|---|---|---|---|---|\n",
       "| 04a11e4bcb573a1261eb0d9948d32637 | 26                               | 43000                            | 3                                | \n",
       "| 9368291c93d5d5f5c8cdb1a575e18bec | 20                               |  6000                            | 1                                | \n",
       "| dd0e77eab9270e4b67c19b0d6bbf621b | 34                               | 40000                            | 3                                | \n",
       "| 7599c0aa0419b59fd11ffede98a3665d | 23                               | 32000                            | 2                                | \n",
       "| 6dff182db452487f07a47596f314bddc | 35                               | 40000                            | 3                                | \n",
       "| 9dc233f8ed1c6eb2432672ab4bb39249 | 33                               | 80000                            | 4                                | \n",
       "\n",
       "\n"
      ],
      "text/plain": [
       "  ID.x                             Age Income income_quantile_labels\n",
       "1 04a11e4bcb573a1261eb0d9948d32637 26  43000  3                     \n",
       "2 9368291c93d5d5f5c8cdb1a575e18bec 20   6000  1                     \n",
       "3 dd0e77eab9270e4b67c19b0d6bbf621b 34  40000  3                     \n",
       "4 7599c0aa0419b59fd11ffede98a3665d 23  32000  2                     \n",
       "5 6dff182db452487f07a47596f314bddc 35  40000  3                     \n",
       "6 9dc233f8ed1c6eb2432672ab4bb39249 33  80000  4                     "
      ]
     },
     "metadata": {},
     "output_type": "display_data"
    }
   ],
   "source": [
    "#四分位数划分\n",
    "fcc_survey_df %>%\n",
    " mutate(income_quantile_labels = ntile(Income,4)) %>%\n",
    " select('ID.x', 'Age', 'Income', 'income_quantile_labels') %>% \n",
    " slice(4:9)\n",
    "\n"
   ]
  },
  {
   "cell_type": "markdown",
   "metadata": {},
   "source": [
    "### 数学转换"
   ]
  },
  {
   "cell_type": "markdown",
   "metadata": {},
   "source": [
    "#### 对数变换"
   ]
  },
  {
   "cell_type": "code",
   "execution_count": 15,
   "metadata": {},
   "outputs": [
    {
     "data": {
      "text/html": [
       "<table>\n",
       "<thead><tr><th scope=col>ID.x</th><th scope=col>Age</th><th scope=col>Income</th><th scope=col>Income_log</th></tr></thead>\n",
       "<tbody>\n",
       "\t<tr><td>04a11e4bcb573a1261eb0d9948d32637</td><td>26                              </td><td>43000                           </td><td>10.668979                       </td></tr>\n",
       "\t<tr><td>9368291c93d5d5f5c8cdb1a575e18bec</td><td>20                              </td><td> 6000                           </td><td> 8.699681                       </td></tr>\n",
       "\t<tr><td>dd0e77eab9270e4b67c19b0d6bbf621b</td><td>34                              </td><td>40000                           </td><td>10.596660                       </td></tr>\n",
       "\t<tr><td>7599c0aa0419b59fd11ffede98a3665d</td><td>23                              </td><td>32000                           </td><td>10.373522                       </td></tr>\n",
       "\t<tr><td>6dff182db452487f07a47596f314bddc</td><td>35                              </td><td>40000                           </td><td>10.596660                       </td></tr>\n",
       "\t<tr><td>9dc233f8ed1c6eb2432672ab4bb39249</td><td>33                              </td><td>80000                           </td><td>11.289794                       </td></tr>\n",
       "</tbody>\n",
       "</table>\n"
      ],
      "text/latex": [
       "\\begin{tabular}{r|llll}\n",
       " ID.x & Age & Income & Income\\_log\\\\\n",
       "\\hline\n",
       "\t 04a11e4bcb573a1261eb0d9948d32637 & 26                               & 43000                            & 10.668979                       \\\\\n",
       "\t 9368291c93d5d5f5c8cdb1a575e18bec & 20                               &  6000                            &  8.699681                       \\\\\n",
       "\t dd0e77eab9270e4b67c19b0d6bbf621b & 34                               & 40000                            & 10.596660                       \\\\\n",
       "\t 7599c0aa0419b59fd11ffede98a3665d & 23                               & 32000                            & 10.373522                       \\\\\n",
       "\t 6dff182db452487f07a47596f314bddc & 35                               & 40000                            & 10.596660                       \\\\\n",
       "\t 9dc233f8ed1c6eb2432672ab4bb39249 & 33                               & 80000                            & 11.289794                       \\\\\n",
       "\\end{tabular}\n"
      ],
      "text/markdown": [
       "\n",
       "ID.x | Age | Income | Income_log | \n",
       "|---|---|---|---|---|---|\n",
       "| 04a11e4bcb573a1261eb0d9948d32637 | 26                               | 43000                            | 10.668979                        | \n",
       "| 9368291c93d5d5f5c8cdb1a575e18bec | 20                               |  6000                            |  8.699681                        | \n",
       "| dd0e77eab9270e4b67c19b0d6bbf621b | 34                               | 40000                            | 10.596660                        | \n",
       "| 7599c0aa0419b59fd11ffede98a3665d | 23                               | 32000                            | 10.373522                        | \n",
       "| 6dff182db452487f07a47596f314bddc | 35                               | 40000                            | 10.596660                        | \n",
       "| 9dc233f8ed1c6eb2432672ab4bb39249 | 33                               | 80000                            | 11.289794                        | \n",
       "\n",
       "\n"
      ],
      "text/plain": [
       "  ID.x                             Age Income Income_log\n",
       "1 04a11e4bcb573a1261eb0d9948d32637 26  43000  10.668979 \n",
       "2 9368291c93d5d5f5c8cdb1a575e18bec 20   6000   8.699681 \n",
       "3 dd0e77eab9270e4b67c19b0d6bbf621b 34  40000  10.596660 \n",
       "4 7599c0aa0419b59fd11ffede98a3665d 23  32000  10.373522 \n",
       "5 6dff182db452487f07a47596f314bddc 35  40000  10.596660 \n",
       "6 9dc233f8ed1c6eb2432672ab4bb39249 33  80000  11.289794 "
      ]
     },
     "metadata": {},
     "output_type": "display_data"
    }
   ],
   "source": [
    "fcc_survey_df %>% \n",
    " mutate(Income_log = log(Income +1)) %>% \n",
    " slice(4:9) %>%\n",
    " select('ID.x', 'Age', 'Income', 'Income_log')"
   ]
  },
  {
   "cell_type": "markdown",
   "metadata": {},
   "source": [
    "#### Box-Cox变换"
   ]
  },
  {
   "cell_type": "code",
   "execution_count": 16,
   "metadata": {},
   "outputs": [
    {
     "data": {
      "text/html": [
       "<table>\n",
       "<thead><tr><th scope=col>ID.x</th><th scope=col>Age</th><th scope=col>Income</th><th scope=col>Income_boxcox</th></tr></thead>\n",
       "<tbody>\n",
       "\t<tr><td>04a11e4bcb573a1261eb0d9948d32637</td><td>26                              </td><td>43000                           </td><td>6.858543                        </td></tr>\n",
       "\t<tr><td>9368291c93d5d5f5c8cdb1a575e18bec</td><td>20                              </td><td> 6000                           </td><td>6.033429                        </td></tr>\n",
       "\t<tr><td>dd0e77eab9270e4b67c19b0d6bbf621b</td><td>34                              </td><td>40000                           </td><td>6.830758                        </td></tr>\n",
       "\t<tr><td>7599c0aa0419b59fd11ffede98a3665d</td><td>23                              </td><td>32000                           </td><td>6.743882                        </td></tr>\n",
       "\t<tr><td>6dff182db452487f07a47596f314bddc</td><td>35                              </td><td>40000                           </td><td>6.830758                        </td></tr>\n",
       "\t<tr><td>9dc233f8ed1c6eb2432672ab4bb39249</td><td>33                              </td><td>80000                           </td><td>7.089762                        </td></tr>\n",
       "</tbody>\n",
       "</table>\n"
      ],
      "text/latex": [
       "\\begin{tabular}{r|llll}\n",
       " ID.x & Age & Income & Income\\_boxcox\\\\\n",
       "\\hline\n",
       "\t 04a11e4bcb573a1261eb0d9948d32637 & 26                               & 43000                            & 6.858543                        \\\\\n",
       "\t 9368291c93d5d5f5c8cdb1a575e18bec & 20                               &  6000                            & 6.033429                        \\\\\n",
       "\t dd0e77eab9270e4b67c19b0d6bbf621b & 34                               & 40000                            & 6.830758                        \\\\\n",
       "\t 7599c0aa0419b59fd11ffede98a3665d & 23                               & 32000                            & 6.743882                        \\\\\n",
       "\t 6dff182db452487f07a47596f314bddc & 35                               & 40000                            & 6.830758                        \\\\\n",
       "\t 9dc233f8ed1c6eb2432672ab4bb39249 & 33                               & 80000                            & 7.089762                        \\\\\n",
       "\\end{tabular}\n"
      ],
      "text/markdown": [
       "\n",
       "ID.x | Age | Income | Income_boxcox | \n",
       "|---|---|---|---|---|---|\n",
       "| 04a11e4bcb573a1261eb0d9948d32637 | 26                               | 43000                            | 6.858543                         | \n",
       "| 9368291c93d5d5f5c8cdb1a575e18bec | 20                               |  6000                            | 6.033429                         | \n",
       "| dd0e77eab9270e4b67c19b0d6bbf621b | 34                               | 40000                            | 6.830758                         | \n",
       "| 7599c0aa0419b59fd11ffede98a3665d | 23                               | 32000                            | 6.743882                         | \n",
       "| 6dff182db452487f07a47596f314bddc | 35                               | 40000                            | 6.830758                         | \n",
       "| 9dc233f8ed1c6eb2432672ab4bb39249 | 33                               | 80000                            | 7.089762                         | \n",
       "\n",
       "\n"
      ],
      "text/plain": [
       "  ID.x                             Age Income Income_boxcox\n",
       "1 04a11e4bcb573a1261eb0d9948d32637 26  43000  6.858543     \n",
       "2 9368291c93d5d5f5c8cdb1a575e18bec 20   6000  6.033429     \n",
       "3 dd0e77eab9270e4b67c19b0d6bbf621b 34  40000  6.830758     \n",
       "4 7599c0aa0419b59fd11ffede98a3665d 23  32000  6.743882     \n",
       "5 6dff182db452487f07a47596f314bddc 35  40000  6.830758     \n",
       "6 9dc233f8ed1c6eb2432672ab4bb39249 33  80000  7.089762     "
      ]
     },
     "metadata": {},
     "output_type": "display_data"
    }
   ],
   "source": [
    "fcc_survey_df %>% \n",
    " mutate(Income_boxcox = BoxCox(Income,BoxCox.lambda(Income))) %>%\n",
    " select('ID.x', 'Age', 'Income', 'Income_boxcox') %>%\n",
    " slice(4:9)"
   ]
  },
  {
   "cell_type": "markdown",
   "metadata": {},
   "source": [
    "这里用的Box-Cox用的是forcast包，先计算最优参数，然后代入求BoxCox转化后的数值。"
   ]
  },
  {
   "cell_type": "code",
   "execution_count": null,
   "metadata": {},
   "outputs": [],
   "source": []
  },
  {
   "cell_type": "code",
   "execution_count": null,
   "metadata": {},
   "outputs": [],
   "source": []
  }
 ],
 "metadata": {
  "kernelspec": {
   "display_name": "R",
   "language": "R",
   "name": "ir"
  },
  "language_info": {
   "codemirror_mode": "r",
   "file_extension": ".r",
   "mimetype": "text/x-r-source",
   "name": "R",
   "pygments_lexer": "r",
   "version": "3.5.1"
  }
 },
 "nbformat": 4,
 "nbformat_minor": 2
}
