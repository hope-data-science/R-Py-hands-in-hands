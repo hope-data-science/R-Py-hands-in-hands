{
 "cells": [
  {
   "cell_type": "markdown",
   "metadata": {},
   "source": [
    "## 包的载入（R）"
   ]
  },
  {
   "cell_type": "markdown",
   "metadata": {},
   "source": [
    "在R语言中，最常用的载入包的方法当属library().如果没有安装的话，就用install.packages()函数进行安装"
   ]
  },
  {
   "cell_type": "code",
   "execution_count": null,
   "metadata": {},
   "outputs": [],
   "source": [
    "install.packages(\"pacman\")\n",
    "library(pacman)"
   ]
  },
  {
   "cell_type": "markdown",
   "metadata": {},
   "source": [
    "需要注意的是，install.packages只接受字符型的包名称，而library则可以不用双引号（当然加上也是没问题的）。\n",
    "不过如果大家要安装一堆包的时候，就特别麻烦。我们做一个大型任务，往往都要加载一群包，这样就特别麻烦，所以建议大家用pacman这个包，下面给大家看看我的日常操作（如果没有安装这个包，请先用上面的代码安装一下）。"
   ]
  },
  {
   "cell_type": "code",
   "execution_count": null,
   "metadata": {},
   "outputs": [],
   "source": [
    "library(pacman)\n",
    "p_load(tidyverse,data.table)\n",
    "\n",
    "#或者直接\n",
    "\n",
    "pacman::p_load(tidyverse,data.table)"
   ]
  },
  {
   "cell_type": "markdown",
   "metadata": {},
   "source": [
    "这种操作（p_load函数），首先节省了打双引号的过程；其次，可以放多个包的名称，想放多少放多少；最后，如果这个包以前没有安装过，会自动帮你按照上。这种一步到位的操作确实舒心。"
   ]
  },
  {
   "cell_type": "markdown",
   "metadata": {},
   "source": [
    "## 隐含的问题"
   ]
  },
  {
   "cell_type": "markdown",
   "metadata": {},
   "source": [
    "其实安装和加载包，两种语言并没有什么特别大的差异。但是值得注意的一点是，其实Python在这种加载包的设计上已经引入了命名空间的概念，也就是后面我们要用pandas函数的时候，我们都需要用pd.\\*格式,如pd.read_csv().而R直接加载了包，是不会注意到这种问题的。\n",
    "为什么会有这个差别呢？因为Python用户有的时候需要做一个大的项目，经常要做很多函数，用很多模块，一旦重名，就会有很多问题。因此用的时候就要告诉大家我用的read_csv函数是pd的read.csv函数，也就是pandas里面的，不要弄错了。R很多时候只是为了解决一些探索性问题的时候，也许不需要加载过多的包，只需要加载少量专注度很高的包就可以了。但是不是说R就没有注意这个问题，R里面同样可以用命名空间调用函数，可以直接不用加载，用命名空间调用即可，我上面的代码就用到了这个概念，就是我要用pacman里面的p_load函数，我的表达就是pacman::p_load.\n",
    "事实上，R的包现在越来越多，重名的问题也非常严重，加载多个包完成任务的时候，函数往往因为重名互相覆盖掉，所以经常要使用这种“::”格式来指明你要用的是哪个包里面的这个名字的函数。\n",
    "不过很多人在用R的时候都是小项目，因为小，所以专精，上面提到的东西可能往往会忽略；Python则一开始就默认大家要进行复杂的操作，这样一来，就算实现一个及其简单的功能，有时候Python的代码也会长得出奇。"
   ]
  }
 ],
 "metadata": {
  "kernelspec": {
   "display_name": "R",
   "language": "R",
   "name": "ir"
  },
  "language_info": {
   "codemirror_mode": "r",
   "file_extension": ".r",
   "mimetype": "text/x-r-source",
   "name": "R",
   "pygments_lexer": "r",
   "version": "3.5.1"
  }
 },
 "nbformat": 4,
 "nbformat_minor": 2
}
