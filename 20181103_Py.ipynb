{
 "cells": [
  {
   "cell_type": "markdown",
   "metadata": {},
   "source": [
    "# R与Python手牵手：多格式文件导入与爬虫"
   ]
  },
  {
   "cell_type": "markdown",
   "metadata": {},
   "source": [
    "在实际操作中，数据的收集与导入往往是整个过程的开始。如果大家用过其他软件处理文件，应该都有“转格式”的不良体验。所幸，R与Python已经有大量的工具能够帮助我们直接将不同类型的数据格式直接导入到工作环境中。这次我们将要介绍怎么把外部数据导入Python和R中，主要涉及csv/json/xml三种格式，最后将会简要介绍如何进行爬虫。部分数据可以在以下网页获得：https://github.com/dipanjanS/practical-machine-learning-with-python/tree/master/notebooks/Ch03_Processing_Wrangling_and_Visualizing_Data"
   ]
  },
  {
   "cell_type": "markdown",
   "metadata": {},
   "source": [
    "## Python"
   ]
  },
  {
   "cell_type": "markdown",
   "metadata": {},
   "source": [
    "### 简易读取"
   ]
  },
  {
   "cell_type": "code",
   "execution_count": 1,
   "metadata": {},
   "outputs": [
    {
     "data": {
      "text/html": [
       "<div>\n",
       "<style scoped>\n",
       "    .dataframe tbody tr th:only-of-type {\n",
       "        vertical-align: middle;\n",
       "    }\n",
       "\n",
       "    .dataframe tbody tr th {\n",
       "        vertical-align: top;\n",
       "    }\n",
       "\n",
       "    .dataframe thead th {\n",
       "        text-align: right;\n",
       "    }\n",
       "</style>\n",
       "<table border=\"1\" class=\"dataframe\">\n",
       "  <thead>\n",
       "    <tr style=\"text-align: right;\">\n",
       "      <th></th>\n",
       "      <th>apple,</th>\n",
       "    </tr>\n",
       "  </thead>\n",
       "  <tbody>\n",
       "    <tr>\n",
       "      <th>0</th>\n",
       "      <td>banana,</td>\n",
       "    </tr>\n",
       "    <tr>\n",
       "      <th>1</th>\n",
       "      <td>mango,</td>\n",
       "    </tr>\n",
       "    <tr>\n",
       "      <th>2</th>\n",
       "      <td>orange,</td>\n",
       "    </tr>\n",
       "    <tr>\n",
       "      <th>3</th>\n",
       "      <td>kiwi,</td>\n",
       "    </tr>\n",
       "    <tr>\n",
       "      <th>4</th>\n",
       "      <td>pineapple,</td>\n",
       "    </tr>\n",
       "    <tr>\n",
       "      <th>5</th>\n",
       "      <td>guava</td>\n",
       "    </tr>\n",
       "  </tbody>\n",
       "</table>\n",
       "</div>"
      ],
      "text/plain": [
       "       apple,\n",
       "0     banana,\n",
       "1      mango,\n",
       "2     orange,\n",
       "3       kiwi,\n",
       "4  pineapple,\n",
       "5       guava"
      ]
     },
     "execution_count": 1,
     "metadata": {},
     "output_type": "execute_result"
    }
   ],
   "source": [
    "#读取csv\n",
    "\n",
    "#加载pandas模块\n",
    "import pandas as pd\n",
    "\n",
    "#文件路径\n",
    "prefix = \"G:/Py/practical-machine-learning-with-python-master/notebooks/Ch03_Processing_Wrangling_and_Visualizing_Data/\"\n",
    "surfix = \"sample_csv.csv\"\n",
    "file_name = prefix + surfix\n",
    "\n",
    "df = pd.read_csv(file_name)\n",
    "\n",
    "df\n"
   ]
  },
  {
   "cell_type": "code",
   "execution_count": 2,
   "metadata": {},
   "outputs": [
    {
     "data": {
      "text/plain": [
       "{'outer_col_1': [{'nested_inner_col_1': 'val_1', 'nested_inner_col_2': 2},\n",
       "  {'nested_inner_col_1': 'val_2', 'nested_inner_col_2': 2}],\n",
       " 'outer_col_2': {'inner_col_1': 3},\n",
       " 'outer_col_3': 4}"
      ]
     },
     "execution_count": 2,
     "metadata": {},
     "output_type": "execute_result"
    }
   ],
   "source": [
    "#读取json\n",
    "\n",
    "#加载json模块\n",
    "import json\n",
    "\n",
    "surfix = \"sample_json.json\"\n",
    "file_name = prefix + surfix\n",
    "\n",
    "json_filedata = open(file_name).read()\n",
    "json_data = json.loads(json_filedata)\n",
    "\n",
    "json_data"
   ]
  },
  {
   "cell_type": "markdown",
   "metadata": {},
   "source": [
    "感兴趣的不妨看一下json_filedata里面放的是什么形式的数据"
   ]
  },
  {
   "cell_type": "code",
   "execution_count": 9,
   "metadata": {},
   "outputs": [
    {
     "data": {
      "text/plain": [
       "OrderedDict([('records',\n",
       "              OrderedDict([('@attr', 'sample xml records'),\n",
       "                           ('record',\n",
       "                            [OrderedDict([('@name', 'rec_1'),\n",
       "                                          ('sub_element',\n",
       "                                           OrderedDict([('detail1',\n",
       "                                                         'Attribute 1'),\n",
       "                                                        ('detail2', '2')])),\n",
       "                                          ('sub_element_with_attr',\n",
       "                                           OrderedDict([('@attr', 'complex'),\n",
       "                                                        ('#text',\n",
       "                                                         'Sub_Element_Text')])),\n",
       "                                          ('sub_element_only_attr',\n",
       "                                           OrderedDict([('@attr_val',\n",
       "                                                         'only_attr')]))]),\n",
       "                             OrderedDict([('@name', 'rec_2'),\n",
       "                                          ('sub_element',\n",
       "                                           OrderedDict([('detail1',\n",
       "                                                         'Attribute 1'),\n",
       "                                                        ('detail2', '2')])),\n",
       "                                          ('sub_element_with_attr',\n",
       "                                           OrderedDict([('@attr', 'complex'),\n",
       "                                                        ('#text',\n",
       "                                                         'Sub_Element_Text')])),\n",
       "                                          ('sub_element_only_attr',\n",
       "                                           OrderedDict([('@attr_val',\n",
       "                                                         'only_attr')]))]),\n",
       "                             OrderedDict([('@name', 'rec_3'),\n",
       "                                          ('sub_element',\n",
       "                                           OrderedDict([('detail1',\n",
       "                                                         'Attribute 1'),\n",
       "                                                        ('detail2', '2')])),\n",
       "                                          ('sub_element_with_attr',\n",
       "                                           OrderedDict([('@attr', 'complex'),\n",
       "                                                        ('#text',\n",
       "                                                         'Sub_Element_Text')])),\n",
       "                                          ('sub_element_only_attr',\n",
       "                                           OrderedDict([('@attr_val',\n",
       "                                                         'only_attr')]))])])]))])"
      ]
     },
     "execution_count": 9,
     "metadata": {},
     "output_type": "execute_result"
    }
   ],
   "source": [
    "#读取xml\n",
    "\n",
    "#import xml.etree.ElementTree as ET\n",
    "import xmltodict\n",
    "\n",
    "surfix = \"sample_xml.xml\"\n",
    "file_name = prefix + surfix\n",
    "\n",
    "\n",
    "xml_filedata = open(file_name).read()\n",
    "ordered_dict = xmltodict.parse(xml_filedata)\n",
    "\n",
    "ordered_dict"
   ]
  },
  {
   "cell_type": "markdown",
   "metadata": {},
   "source": [
    "pd的read_csv,json的json.loads,xmltodict的parse.针对不同的数据类型，python不同的包可谓各显神通。尽管都是一键式傻瓜操作，我们可以观察到读出数据的形式各不相同，因此后续的处理也会大相径庭，不过我们这次内容只针对导入这一步。"
   ]
  },
  {
   "cell_type": "markdown",
   "metadata": {},
   "source": [
    "### 爬虫初步"
   ]
  },
  {
   "cell_type": "markdown",
   "metadata": {},
   "source": [
    "这里讲爬虫将会针对“爬”来讲，也就是如果给大家一个网址（URL），怎么把这个网页上的所有信息都载入到我们的软件里面呢？"
   ]
  },
  {
   "cell_type": "code",
   "execution_count": 16,
   "metadata": {},
   "outputs": [],
   "source": [
    "#加载requests模块\n",
    "import requests\n",
    "\n",
    "#请求网页数据\n",
    "response = requests.get(\"http://www.apress.com/in/blog/all-blog-posts/wannacry-how-to-prepare/12302194\")\n",
    "    "
   ]
  },
  {
   "cell_type": "markdown",
   "metadata": {},
   "source": [
    "就现在而言，我们已经对http://www.apress.com/in/blog/all-blog-posts/wannacry-how-to-prepare/12302194\n",
    "这个网页进行请求，并把内容放在了response里面。我们先看看请求是否成功："
   ]
  },
  {
   "cell_type": "code",
   "execution_count": 20,
   "metadata": {},
   "outputs": [
    {
     "data": {
      "text/plain": [
       "200"
      ]
     },
     "execution_count": 20,
     "metadata": {},
     "output_type": "execute_result"
    }
   ],
   "source": [
    "response.status_code\n"
   ]
  },
  {
   "cell_type": "code",
   "execution_count": 22,
   "metadata": {},
   "outputs": [
    {
     "data": {
      "text/plain": [
       "<Response [200]>"
      ]
     },
     "execution_count": 22,
     "metadata": {},
     "output_type": "execute_result"
    }
   ],
   "source": [
    "#或者直接用\n",
    "response\n"
   ]
  },
  {
   "cell_type": "markdown",
   "metadata": {},
   "source": [
    "相信大家对“404”都非常熟悉，但是“200”就不常见，因为“200”代表我们已经请求成功，自动进入了网页。那么我们爬到了什么内容呢？看一下："
   ]
  },
  {
   "cell_type": "code",
   "execution_count": 23,
   "metadata": {},
   "outputs": [
    {
     "data": {
      "text/plain": [
       "'<!DOCTYPE html>\\n<!--[if lt IE 7]> <html lang=\"en\" class=\"no-js ie6 lt-ie9 lt-ie8\"> <![endif]-->\\n<!--[if IE 7]> <html lang=\"en\" class=\"no-js ie7 lt-ie9 lt-ie8\"> <![endif]-->\\n<!--[if IE 8]> <html lang=\"en\" class=\"no-js ie8 lt-ie9\"> <![endif]-->\\n<!--[if IE 9]> <html lang=\"en\" class=\"no-js ie9\"> <![endif]-->\\n<!--[if gt IE 9]><!--> <html lang=\"en\" class=\"no-js\"> <!--<![endif]-->\\n<head><meta http-equiv=\"x-ua-compatible\" content=\"IE=edge\">\\n<script type=\"text/javascript\" src=\"//static.apress.com/spcom/js/vendor/googleapis/ajax/libs/jquery/1.9.1/jquery.min.js\"></script>\\n<script type=\"text/javascript\" src=\"//cdn.optimizely.com/js/8200882355.js\"></script>\\n<script type=\"text/javascript\" id=\"angular-script\" src=\"//static.apress.com/spcom/js/vendor/googleapis/ajax/libs/angularjs/1.2.17/angular.min.js\"></script>\\n<script type=\"text/javascript\" id=\"script-1474669854\" src=\"//static.apress.com/spcom/min/prod.js?r=201802052258-126\"></script>\\n<link rel=\"stylesheet\" type=\"text/css\" href=\"//static.apress.com/spcom/min/modern_sprcom-cms-frontend_apress.css?r=201802052258-126\" />\\n<!--[if (lt IE 9) & (!IEMobile)]><link rel=\"stylesheet\" type=\"text/css\" href=\"//static.apress.com/spcom/min/ielt9_sprcom-cms-frontend_apress.css?r=201802052258-126\" media=\"screen\" /><![endif]-->\\n<link rel=\"stylesheet\" type=\"text/css\" href=\"//static.apress.com/spcom/min/print.css?r=201802052258-126\" media=\"print\" />\\n<link rel=\"stylesheet\" type=\"text/css\" href=\"/spcom/css/vendor/font-awesome.min.css?r=201802052258-126\" />\\n<!--[if lt IE 9]><script type=\"text/javascript\" id=\"ielt9js\" charset=\"utf-8\" src=\"//static.apress.com/spcom/min/ielt9.js\"></script>\\n<![endif]-->\\n<script type=\"text/javascript\" id=\"cm-context-url\">\\n/*<![CDATA[*/\\nvar cmContextUrl = \\'/apress-in/in/blog/all-blog-posts\\';\\n/*]]>*/\\n</script>\\n\\n<title>Wannacry: Why It&#039;s Only the Beginning, and How to Prepare for What Comes Next</title>\\n<meta charset=\"UTF-8\">\\n<meta name=\"viewport\" content=\"width=device-width,initial-scale=1\">\\n\\n\\n\\n<link rel=\"icon\" href=\"../../../../favicon.ico\" type=\"image/ico\">\\n<link rel=\"shortcut icon\" href=\"../../../../favicon.ico\" type=\"image/x-icon\">\\n<script>\\n/*<![CDATA[*/\\n\\ndocument.documentElement.className = document.documentElement.className.replace(\\'no-js\\', \\'js\\');\\n\\n/*]]>*/\\n</script>\\n\\n<script type=\"text/javascript\">sharedDataLayer = [{\"session\":{\"authentication\":{\"loginStatus\":\"logged out\"}},\"customEvents\":[],\"page\":{\"sharedDataLayer\":\"present\"},\"user\":{\"segment\":{}}}]\\nfunction sprMerge(current, update) {\\n  Object.keys(update).forEach(function(key) {\\n    if (current.hasOwnProperty(key)\\n            && typeof current[key] === \\'object\\'\\n            && !(current[key] instanceof Array)) {\\n      sprMerge(current[key], update[key]);\\n    } else {\\n      current[key] = update[key];\\n    }\\n  });\\n  return current;\\n}\\n    </script>\\n<script type=\"text/javascript\">\\nappDataLayer = [{\\'geo-country-code\\' : \\'CN\\'}];\\nsharedDataLayer = sharedDataLayer || [];\\ndataLayer = sprMerge(sharedDataLayer, appDataLayer);\\n</script>\\n\\n<!-- Google Tag Manager -->\\n<script type=\"text/javascript\">(function(w,d,s,l,i){w[l]=w[l]||[];w[l].push({\\'gtm.start\\':\\nnew Date().getTime(),event:\\'gtm.js\\'});var f=d.getElementsByTagName(s)[0],\\nj=d.createElement(s),dl=l!=\\'dataLayer\\'?\\'&l=\\'+l:\\'\\';j.async=true;j.src=\\n\\'https://www.googletagmanager.com/gtm.js?id=\\'+i+dl+\\'&gtm_auth=H9WR51Mt3jYIbQSiz_4-IQ&gtm_preview=env-1&gtm_cookies_win=x\\';f.parentNode.insertBefore(j,f);\\n})(window,document,\\'script\\',\\'dataLayer\\',\\'GTM-M48LJF\\');</script>\\n<!-- End Google Tag Manager -->\\n\\n\\n<meta name=\"description\" content=\"Read our blog\">\\n<meta http-equiv=\"content-language\" content=\"en\">\\n<meta http-equiv=\"X-UA-Compatible\" content=\"IE=edge\">\\n<meta property=\"og:title\" content=\"Wannacry: Why It\\'s Only the Beginning, and How to Prepare for What Comes Next\">\\n<meta property=\"og:description\" content=\"Read our blog\">\\n<meta property=\"og:site_name\" content=\"www.apress.com\">\\n<meta property=\"og:type\" content=\"website\">\\n<meta property=\"og:image\" content=\"https://images.springer.com/cda/content/image/cda_displayimage.jpg?SGWID=0-0-16-2208184-0\">\\n<meta property=\"fb:admins\" content=\"100001154999617\">\\n<meta property=\"fb:pages\" content=\"341168879741, 143932312346551, 199235833463190, 145327659223282, 304238573037854, 346209515556394, 99912541035, 108064145914608, 370429855420, 170400356321916, 273358886101252, 370987992963178, 1565916643629420, 424373190938938, 152586274808123, 152749531404582, 274648772592090, 168287986591458, 284820978207661, 121336764582486, 174395066291972, 124330454291947, 58364190265, 114336798618606, 177450032338982, 460115770673632, 526326927441845, 401070179903991, 35223474166, 2055004118104490, 227993570999679, 121053321387843, 146393288729580\">\\n<link rel=\"alternate\" href=\"/gp/blog/all-blog-posts/wannacry-how-to-prepare/12302194\" hreflang=\"en\">\\n<script type=\"text/javascript\" id=\"trackedAffiliates\">\\n/*<![CDATA[*/\\nvar trackedAffiliates = [\\'PPC.Google AdWords.3.EPR653.SM\\', \\'Affiliate.CommissionJunction.3.EPR868-EN\\', \\'PDM.Soquero.3.EPR653\\', \\'PPC.Google AdWords.EPR653-GoogleShopping_Product_EN\\', \\'PPC.Google AdWords.3.EPR653.DAL\\', \\'Affiliate.Zanox.3.EPR868-DE\\', \\'PPC.Google AdWords.3.EPR653.GMT\\', \\'Affiliate.CommissionJunction.3.EPR868-DE\\', \\'PPC.Google AdWords.EPR653-GoogleShopping_Product_CH\\', \\'PDM.ChannelAdvisor.3.EPR653\\', \\'Banner.Banner RTB.3.EPR653.Sociomantic\\', \\'PPC.Google AdWords.EPR653-GoogleShopping_Product_DE\\', \\'Affiliate.Zanox.3.EPR868-EN\\', \\'PPC.Google AdWords.3.EPR653.IT\\', \\'PPC.Google AdWords.3.EPR653.FR\\', \\'PPC.BING.3.EPR632-DS-PPC-DAL\\', \\'PPC.Google AdWords.3.EPR653.West\\', \\'PPC.Google AdWords.EPR653-GoogleShopping_Product_UK\\', \\'Banner.Banner RTB.3.EPR653.Criteo\\', \\'PPC.BING.3.EPR632.West\\', \\'PPC.BING.3.EPR632.DAL\\'];\\nvar generalCookieDomain = \\'.apress.com\\';\\n\\n/*]]>*/\\n</script>\\n</head>\\n<body class=\"cms  cms-client-apress cms-lang-in\">\\n<div>\\n<a class=\"link\" id=\"print-header\" href=\"http://www.apress.com\">\\n<img src=\"/spcom/sites/apress/images/logo-print.png\" />\\nwww.apress.com\\n</a>\\n</div>\\n<div class=\"page-wrapper\">\\n<header>\\n<script type=\"text/javascript\" src=\"//static.apress.com/spcom/min/201802052258-126/apress.header.prod.js\" defer=\"defer\"></script>\\n<div class=\"branding-container\">\\n<div class=\"row\">\\n<div class=\"columns small-6 large-4\">\\n<a class=\"brand\" href=\"/\" title=\"Apress\">\\n<img src=\"/spcom/sites/apress/images/logo.svg\" alt=\"apress\" />\\n</a>\\n</div>\\n<nav class=\"columns small-6 hide-for-large meta\">\\n<ul>\\n<li class=\"meta__search\">\\n<a href=\"#search\" class=\"search icon\">\\nSearch\\n</a>\\n</li>\\n<li class=\"meta__menu\">\\n<a href=\"#menu\" class=\"menu icon\">\\nMenu\\n</a>\\n</li>\\n</ul>\\n</nav>\\n<nav class=\"columns large-8 small-12 user\">\\n<ul class=\"menu--primary\">\\n<li class=\"cart\" id=\"basket-widget\" data-site-prefix=\"in\" data-cart-page-link=\"https://checkout.apress.com/checkout/cart\" data-messages__cart-empty=\"Your cart is currently empty.\">\\n<script type=\"text/mustache-template\" id=\"mustache-template--cart\">\\n<div class=\"cart__contents\">\\n<table>\\n<thead>\\n<tr>\\n<th>Cover</th>\\n<th>Description</th>\\n<th>Price</th>\\n</tr>\\n</thead>\\n<tbody>\\n{{#items}}\\n<tr>\\n<td class=\"cover\" rowspan=\"3\">\\n<figure class=\"cover\">\\n<img src=\"{{{coverUrl}}}\">\\n</figure>\\n</td>\\n<td class=\"title\"><a href=\"{{productLinkFragment}}\">{{title}}</a></td>\\n<td class=\"price\" rowspan=\"3\">{{{price}}}</td>\\n</tr>\\n<tr>\\n<td class=\"description\">{{description}}</td>\\n</tr>\\n<tr>\\n<td class=\"quantity\">Quantity: {{quantity}}</td>\\n</tr>\\n{{/items}}\\n</tbody>\\n<tfoot>\\n<tr class=\"total\">\\n<td class=\"\" colspan=\"2\">{{resources.subtotal}}</td>\\n<td class=\"subtotal\">{{{totalPrice}}}</td>\\n</tr>\\n</tfoot>\\n</table>\\n<div class=\"cart-buttons\">\\n<a href=\"https://checkout.apress.com/checkout/cart\" class=\"btn btn-primary btn-monster\">{{resources.viewCart}}</a>\\n</div>\\n</div>\\n</script>\\n<a href=\"https://checkout.apress.com/checkout/cart\" class=\"cart\">\\n<span class=\"label\">Cart </span>\\n<span class=\"font-icon\">V</span>\\n<span class=\"quantity\"></span>\\n</a>\\n<div class=\"cart__contents cart--empty__contents\">Your cart is currently empty.</div>\\n</li>\\n<li class=\"account\">\\n\\n<a class=\"logout\" href=\"#\">Login</a>\\n<ul class=\"menu--secondary items\">\\n\\n<li class=\"\"><a href=\"https://www.apress.com/public/profile\">Account</a></li><li class=\"\"><a href=\"https://www.apress.com/public/profile/bookshelf\">Bookshelf</a></li>\\n\\n<li><a href=\"http://login.apress.com/public/en/login\" class=\"account-link login-link returnURL\">Login</a></li>\\n<li></li>\\n</ul>\\n</li>\\n<li class=\"access\">\\n<a href=\"http://www.apress.com/apress-access\" class=\"link--action link--direct\">Apress Access</a>\\n</li>\\n</ul>\\n</nav>\\n</div>\\n</div>\\n<div class=\"navi-container\">\\n<nav class=\"row main\">\\n<ul class=\"menu--primary columns large-8\" id=\"mainNavigation\">\\n<li><a href=\"#\">Categories</a><ul class=\"menu--secondary\">\\n<li class=\"\"><a href=\"/in/apple\">Apple &amp; iOS</a></li><li class=\"\"><a href=\"/in/big-data\">Big Data &amp; Analytics</a></li><li class=\"\"><a href=\"/in/business\">Business</a></li><li class=\"\"><a href=\"/in/databases\">Databases</a></li><li class=\"\"><a href=\"/in/enterprise-software\">Enterprise Software</a></li><li class=\"\"><a href=\"/in/game-development\">Game Development</a></li><li class=\"\"><a href=\"/in/graphics\">Graphics</a></li><li class=\"\"><a href=\"/in/hardware-maker\">Hardware &amp; Maker</a></li><li class=\"\"><a href=\"/in/java\">Java</a></li><li class=\"\"><a href=\"/in/machine-learning\">Machine Learning</a></li><li class=\"\"><a href=\"/in/microsoft\">Microsoft &amp; .NET</a></li><li class=\"\"><a href=\"/in/mobile\">Mobile</a></li><li class=\"\"><a href=\"/in/networking\">Networking &amp; Cloud</a></li><li class=\"\"><a href=\"/in/open-source\">Open Source</a></li><li class=\"\"><a href=\"/in/programming\">Programming</a></li><li class=\"\"><a href=\"/in/python\">Python</a></li><li class=\"\"><a href=\"/in/security\">Security</a></li><li class=\"\"><a href=\"/in/web-development\">Web Development</a></li><li class=\"\"><a href=\"/in/services/publishing-partners\">Publishing Partners</a></li>\\n</ul></li><li><a href=\"#\">Services</a><ul class=\"menu--secondary\">\\n<li class=\"\"><a href=\"/in/about\">About Us</a></li><li class=\"\"><a href=\"/in/services/academics\">Academics</a></li><li class=\"\"><a href=\"/in/shop/affiliate\">Affiliate Program</a></li><li class=\"\"><a href=\"/in/services/book-reviewers\">Book Reviewers</a></li><li class=\"\"><a href=\"/in/services/customer-support/buying-in-the-apress-shop\">Customer Support</a></li><li class=\"\"><a href=\"/in/services/events\">Events</a></li><li class=\"\"><a href=\"/in/services/news\">News &amp; Newsletter</a></li><li class=\"\"><a href=\"/in/services/rights-permission\">Rights &amp; Permissions</a></li><li class=\"\"><a href=\"/in/services/source-code\">Source Code</a></li><li class=\"\"><a href=\"/in/services/errata\">Submit Errata</a></li><li class=\"\"><a href=\"/in/services/tech-review\">Technical Reviewers</a></li><li class=\"\"><a href=\"/in/services/user-groups\">User Groups</a></li>\\n</ul></li><li><a href=\"/in/apress-open\">Apress Open</a></li><li><a href=\"/in/blog\">Blog</a></li><li><a href=\"/in/write-for-us\">Write</a></li><li><a href=\"#\">Shop</a><ul class=\"menu--secondary\">\\n<li class=\"\"><a href=\"/in/shop\">Shop Apress.com</a></li><li class=\"\"><a href=\"/in/services/booksellers\">Booksellers</a></li><li class=\"\"><a href=\"/in/services/bulk-sales\">Bulk Sales</a></li><li class=\"\"><a href=\"/in/services/corporate-sales\">Corporate Sales</a></li><li class=\"\"><a href=\"/in/services/librarians\">Librarians</a></li>\\n</ul></li>\\n</ul>\\n<div class=\"columns small-12 large-3 large-offset-1 search\">\\n<form method=\"get\" action=\"/in/search\" accept-charset=\"UTF-8\">\\n<div id=\"search-field\">\\n<input type=\"text\" autocomplete=\"off\" class=\"search__term\" placeholder=\"Search\" id=\"query\" name=\"query\">\\n</div>\\n<button type=\"submit\" class=\"search__submit\">Search</button>\\n</form>\\n</div>\\n</nav>\\n</div>\\n<script type=\"text/javascript\" src=\"/spcom/min/apress.components.js\" defer=\"defer\"></script>\\n</header>\\n<div id=\"content\">\\n\\n<div id=\"id1\" class=\"\">\\n\\n<div class=\"layout-full-grid row\">\\n<div class=\"column small-12 medium-8 large-9 placement-main\">\\n\\n\\n\\n<div id=\"id3\" class=\"cms-container cms-highlight-0\"><div class=\"row\"><div class=\"columns small-12 \">\\n<div class=\"cms-common cms-article default-table\">\\n<p class=\"taxonomy\">\\n<span class=\"publication-date\">२२/५/१७</span>\\n\\n</p>\\n\\n\\n<h1 id=\"c12302194\">\\nWannacry: Why It&#039;s Only the Beginning, and How to Prepare for What Comes Next\\n</h1>\\n\\n\\n\\n\\n<div class=\"cms-richtext\"><p class=\"intro--paragraph\"><em>By Mike Halsey</em></p><p><br /></p><p>It was a perfectly ordinary Friday when the Wannacry ransomware struck in May 2017. The malware spread around the world to more than 150 countries in just a matter of a few hours, affecting the National Health Service in the UK, telecoms provider Telefonica in Spain, and many other organisations and businesses in the USA, Canada, China, Japan, Russia, and right across Europe, the Middle-East, and Asia.</p><p>The malware was reported to have been stolen in an attack on the US National Security Agency (NSA), though the NSA denied this, and exploited vulnerabilities in the Microsoft Windows operating system. Microsoft had been aware of the vulnerabilities since early in the year, and had patched them back in March. However, the patches were only applicable for currently supported versions of the operating system.&nbsp;</p><p>This meant that older, legacy, versions of Windows, such as Windows XP, did not have the patch released. Windows XP fell out of extended support in 2014, meaning that no further patches and updates would be released for it.</p><p>The people releasing Wannacry exploited businesses and organisations that were still using this, and other legacy operating systems, and that had not yet upgraded to newer and more secure versions of Windows, such as Windows 10.</p><p>There are plenty of reasons a business might use to justify to itself why it doesn’t need to upgrade.&nbsp; The most common reasons are having custom software, usually written many years before, that won’t run, or won’t run properly on newer operating systems. They might also have older hardware that’s just not supported by the newer operating systems, because of a lack of driver support, or PCs that are simply not powerful or fast enough to run those new OS versions.</p><p>It’s very uncommon however for these PC systems to be completely sandboxed. Sandboxing (the process of removing all network connections from a PC and isolating it as a stand-alone machine) is critical for legacy OS installs, and can often be best practice for mission-critical systems that perform only one or two repetitive tasks.</p><p>Then came the problems with files and data.&nbsp; Wannacry was a ransomware worm.&nbsp; This means that it burrowed its way across networks and the Internet, looking for machines it could infect, and then encrypting any files and data it found on those PCs.</p><p>It’s very common for businesses, organisations, and individuals to have robust backup procedures in place nowadays. Not always though will those backups protect against ransomware. Let me give you two examples. In the first we have a company that does a backup daily, or perhaps every few days.&nbsp; In this case when Ransomware encrypts files, they run the risk of being caught in a backup before the malware itself has been spotted and identified on the network.</p><p>In the second example, people are using a cloud backup service such as OneDrive (Office 365) or Dropbox to back up their files and documents. In this example the backup takes place almost instantaneously, the moment a file is changed. Thus, the moment it is encrypted.</p><p>To protect against ransomware, you need a multi-tier backup strategy with version control.&nbsp; This means you have several backups running, perhaps daily, weekly or bi-weekly.&nbsp; Again however this doesn’t protect you against ransomware.&nbsp; To take one scenario, the ransomware could hit only a day or two before your next bi-weekly backup is scheduled to begin.&nbsp; In the second example, if a weekly or bi-weekly backup destination is visible and accessible on the network, it too can be encrypted by the worm.</p><p>This is where secure versioning comes into play, and offsite backups.&nbsp; It’s possible to connect to an offsite backup source only when necessary, and to use secure version control to restore older versions of files after they are changed (i.e. encrypted).</p><p>Having a backup strategy in place that takes the threat of ransomware into account can make it a quick process of reimaging PCs, and restoring from the appropriate backup afterwards.&nbsp; You may lose a few days’ worth of files and data, but it’s a much smaller price to pay in the longer term.</p><p>There’s also the matter of legacy operating systems to deal with. It may be expensive for a business or organisation to upgrade their hardware or software so that it’s compatible with Windows 10, but there are significant benefits to be gained too. Having updated software can increase throughput and productivity. Having newer hardware can reduce power consumption. The most important consideration though is the value of the data you hold.</p><p>Across the world, heavy fines can be levied against businesses and organisations that do not adequately protect the data they hold on other businesses and private individuals. Every year, thousands of businesses and organisations are affected by ransomware. Data is stolen, defences breached, and ransoms paid, all without the world ever knowing.</p><p>Businesses keep this information secret both to avoid penalties from the authorities, but also to avoid the damage news of such a breach would have on their reputation. The fact of the matter is though that it’s your personal data and mine that’s being stolen.</p><p>Being aware of the threats posed by malware and ransomware, and investing appropriately in defending your PCs and networks against it, doesn’t have to be expensive. You may already have a volume licence subscription to Microsoft, in which case you’re paying for Windows 10 already, and keeping PCs patched and up to date is free.</p><p>Whichever way you look at it though, the cost of building adequate defences for your systems is small beer when compared to the costs you can face from a major security breach, because, let’s face it… Wannacry is going to be far from the last time the world faces such a threat.</p><h3><strong>About the Author</strong></h3><p><strong><img alt=\"blog_halsey_virus_cover\" class=\"float--right\" title=\"blog_halsey_virus_cover\" src=\"//resource-cms.springernature.com/springer-cms/rest/v1/content/12302572/data/v2\" />Mike Halsey</strong>&nbsp;is a Microsoft MVP (Most Valuable Professional) awardee and technical expert. &nbsp;As the author of Windows 7, 8 and 10 Troubleshooting books and associated videos he’s well versed in the problems and issues that PC users, IT Pros and System Administrators face when administering and maintaining all aspects of a PC ecosystem. Mike is a teacher and prolific author who uses his training in educating people about sometimes complex subjects in simple and straightforward ways to great effect in his books and training videos.&nbsp;</p><p class=\"divider--paragraph\">Want to know more about how to protect users and PCs from malware? Find more in depth information in&nbsp;<a href=\"http://www.apress.com/9781484226063\" target=\"_blank\" class=\"is-external\"><em><strong>Windows Virus and Malware Troubleshooting</strong></em></a> by Andrew Bettany and Mike Halsey, ISBN:&nbsp;978-1-4842-2606-3.<br /></p></div>\\n</div>\\n</div></div></div>\\n\\n\\n\\n</div><div class=\"column small-12 medium-4 large-3 placement-sidebar\">\\n\\n\\n\\n\\n\\n</div>\\n</div>\\n\\n</div>\\n\\n</div>\\n</div>\\n<footer>\\n<div class=\"footer__links\">\\n<div class=\"row row-narrow\">\\n<div class=\"column small-12 large-6\">\\n<div class=\"row\">\\n<div class=\"column small-12 medium-8\" id=\"column0\">\\n<a class=\"footer__links__headline flap--mobile\">Apress A-Z</a>\\n<div>\\n<div class=\"footer__links__column__links row small-up-2\">\\n<div class=\"columns\">\\n<ul>\\n<li class=\"\"><a href=\"/in/apple\">Apple &amp; iOS</a></li><li class=\"\"><a href=\"/in\">ASP.NET</a></li><li class=\"\"><a href=\"/in/big-data\">Big Data &amp; Analytics</a></li><li class=\"\"><a href=\"/in/business\">Business</a></li><li class=\"\"><a href=\"/in/databases\">Databases</a></li><li class=\"\"><a href=\"/in/enterprise-software\">Enterprise Software</a></li><li class=\"\"><a href=\"/in/game-development\">Game Development</a></li><li class=\"\"><a href=\"/in/graphics\">Graphics</a></li><li class=\"\"><a href=\"/in/hardware-maker\">Hardware &amp; Maker</a></li><li class=\"\"><a href=\"/in/java\">Java</a></li><li class=\"\"><a href=\"/in/machine-learning\">Machine Learning</a></li>\\n</ul>\\n</div>\\n<div class=\"columns\">\\n<ul>\\n<li class=\"\"><a href=\"/in/microsoft\">Microsoft &amp; .NET</a></li><li class=\"\"><a href=\"/in/mobile\">Mobile</a></li><li class=\"\"><a href=\"/in/networking\">Networking &amp; Cloud</a></li><li class=\"\"><a href=\"/in/open-source\">Open Source</a></li><li class=\"\"><a href=\"/in/programming\">Programming</a></li><li class=\"\"><a href=\"/in/services/publishing-partners\">Publishing Partners</a></li><li class=\"\"><a href=\"/in/python\">Python</a></li><li class=\"\"><a href=\"/in/security\">Security</a></li><li class=\"\"><a href=\"/in/web-development\">Web Development</a></li><li class=\"\"><a href=\"/in/services/publishing-partners\">Publishing Partners</a></li>\\n</ul>\\n</div>\\n</div>\\n</div>\\n</div>\\n<div class=\"column small-12 medium-4\" id=\"column1\">\\n<a class=\"footer__links__headline flap--mobile\">Services</a>\\n<div>\\n<ul class=\"footer__links__column__links\">\\n<li class=\"\"><a href=\"/in/about\">About Us</a></li><li class=\"\"><a href=\"/in/services/academics\">Academics</a></li><li class=\"\"><a href=\"/in/shop/affiliate\">Affiliate Program</a></li><li class=\"\"><a href=\"/in/services/book-reviewers\">Book Reviewers</a></li><li class=\"\"><a href=\"/in/services/customer-support/buying-in-the-apress-shop\">Customer Support</a></li><li class=\"\"><a href=\"/in/services/events\">Events</a></li><li class=\"\"><a href=\"/in/services/news\">News &amp; Newsletter</a></li><li class=\"\"><a href=\"/in/services/rights-permission\">Rights &amp; Permissions</a></li><li class=\"\"><a href=\"/in/services/source-code\">Source Code</a></li><li class=\"\"><a href=\"/in/services/errata\">Submit Errata</a></li><li class=\"\"><a href=\"/in/services/tech-review\">Technical Reviewers</a></li><li class=\"\"><a href=\"/in/services/user-groups\">User Groups</a></li>\\n</ul>\\n</div>\\n</div>\\n</div>\\n</div>\\n<div class=\"column small-12 large-6\">\\n<div class=\"row\">\\n<div class=\"column small-12 medium-4\" id=\"column2\">\\n<a class=\"footer__links__headline flap--mobile\">Write for Us</a>\\n<div>\\n<ul class=\"footer__links__column__links\">\\n<li class=\"\"><a href=\"/in/write-for-us\">Write</a></li><li class=\"\"><a href=\"/in/write-for-us/submit-a-proposal\">Submit a proposal</a></li><li class=\"\"><a href=\"/in/write-for-us/publishing-process\">Publishing process</a></li><li class=\"\"><a href=\"/in/write-for-us/author-services\">Documents for Current Authors</a></li>\\n</ul>\\n</div>\\n</div>\\n<div class=\"column small-12 medium-4\" id=\"column3\">\\n<a class=\"footer__links__headline flap--mobile\">Company</a>\\n<div>\\n<ul class=\"footer__links__column__links\">\\n<li class=\"\"><a href=\"/in/about\">About Us</a></li><li class=\"\"><a href=\"/in/blog\">Blog</a></li><li class=\"\"><a href=\"/in/services/events\">Events</a></li><li class=\"\"><a href=\"/in/services/news\">News</a></li><li class=\"\"><a href=\"/in/services/publishing-partners\">Publishing Partners</a></li><li class=\"\"><a href=\"/in/services/contact-us\">Contact Us</a></li><li class=\"\"><a href=\"/in/about/team\">Team</a></li>\\n</ul>\\n</div>\\n</div>\\n<div class=\"column small-12 medium-4\">\\n<h6 class=\"footer__links__headline\">&nbsp;</h6>\\n<div class=\"footer__links__payment\">\\n<i>¶</i>\\n<i>¢</i>\\n<i>“</i>\\n<i>¡</i>\\n</div>\\n<div class=\"footer__links__trustpilot\">\\n</div>\\n</div>\\n</div>\\n</div>\\n</div>\\n</div>\\n<div class=\"footer__meta\">\\n<div class=\"row\">\\n<div class=\"column small-8 medium-9\">\\n<ul class=\"footer__meta__links\">\\n<li><a class=\"footer__meta__logo\" href=\"/\"></a></li>\\n\\n<li class=\"\"><span>© 2018 Apress is part of Springer Nature</span></li><li class=\"\"><a href=\"/in/legal/web-site-terms-and-conditions-of-use/10875332\">Terms &amp; Conditions</a></li><li class=\"\"><a href=\"/in/legal\">Privacy Policy</a></li>\\n\\n</ul>\\n</div>\\n<div class=\"column small-4 medium-3\">\\n<ul class=\"footer__meta__social\">\\n\\n<li class=\"footer-icon\"><a href=\"https://twitter.com/apress\">1</a></li><li class=\"footer-icon\"><a href=\"https://www.facebook.com/ApressMedia/\">2</a></li>\\n\\n</ul>\\n</div>\\n</div>\\n</div>\\n</footer>\\n<div>\\n\\n<script type=\"text/javascript\">/*<![CDATA[*/ \\n\\t\\tvar webtrekkConfig = webtrekkConfig || {\\n\\t\\t\\ttrackId : \\'933650246438988\\', \\n\\t\\t\\ttrackDomain: \\'springergmbh01.webtrekk.net\\', \\n\\t\\t\\tdomain : \\'www.apress.com;checkout.apress.com;secure.worldpay.com\\', \\n\\t\\t\\tcookie : \\'1\\', \\n\\t\\t\\texecutePluginFunction : \\'wt_socialMedia;wt_scrollposition\\' \\n\\t\\t};\\n\\t\\tvar pageConf = {\\n\\t\\t\\tcontentId : \\'in.blog.all-blog-posts.wannacry-how-to-prepare.12302194\\', \\n\\t\\t\\tcontentGroup : {\"1\":\"in\",\"2\":\"blog\",\"3\":\"all-blog-posts\"}, \\n\\t\\t\\tcustomParameter : {\"5\":\"cms-page-group-unmapped\"}, \\n\\t\\t\\tlinkTrack : \\'link\\',\\n\\t\\t\\tlinkTrackAttribute : \\'id\\',\\n\\t\\t\\theatmap : \\'0\\', \\n\\t\\t\\tform : \\'0\\'\\n\\t\\t};\\n\\t\\tvar wt = new webtrekkV3(pageConf);\\n\\t\\twt.customerId=\\'\\';\\n\\t\\twt.customSessionParameter={};\\n\\t\\twt.mediaCode=\\'wt_mc;cm_mmc\\';\\n\\t\\twt.linkTrackDownloads=\\'avi;bmp;csv;doc;docx;dotx;eps;exe;gif;gz;jpeg;jpg;m4v;mov;mp3;mp4;mpg;pdf;png;ppt;pptx;ps;rss;rtf;swf;tar;tar.gz;tgz;tif;txt;wmv;xls;xlsx;zip\\';\\n\\t\\twt.sendinfo();\\n\\t/*]]>*/\\n</script>\\n\\n</div>\\n<noscript>\\n<div id=\"jsnotice\" class=\"prompt-bar\">\\n<p>JavaScript is currently disabled, this site works much better if you\\n<a href=\"http://enable-javascript.com/\">\\nenable JavaScript in your browser</a>.\\n</p>\\n</div>\\n</noscript>\\n\\n\\n<!-- Google Tag Manager -->\\n<noscript><iframe src=\"https://www.googletagmanager.com/ns.html?id=GTM-M48LJF&gtm_auth=H9WR51Mt3jYIbQSiz_4-IQ&gtm_preview=env-1&gtm_cookies_win=x;\"\\nheight=\"0\" width=\"0\" style=\"display:none;visibility:hidden\"></iframe></noscript>\\n<!-- End Google Tag Manager -->\\n\\n\\n</body>\\n<!--[if lt IE 7]> </html> <![endif]-->\\n<!--[if IE 7]> </html> <![endif]-->\\n<!--[if IE 8]> </html> <![endif]-->\\n<!--[if IE 9]> </html> <![endif]-->\\n<!--[if gt IE 9]><!--> </html> <!--<![endif]-->\\n'"
      ]
     },
     "execution_count": 23,
     "metadata": {},
     "output_type": "execute_result"
    }
   ],
   "source": [
    "response.text"
   ]
  },
  {
   "cell_type": "markdown",
   "metadata": {},
   "source": [
    "爬到的是html，看起来有点像乱码，但是其实都具有一定的规则，只要按照规则进行提取，就能够得到我们的目标信息。"
   ]
  },
  {
   "cell_type": "code",
   "execution_count": null,
   "metadata": {},
   "outputs": [],
   "source": []
  }
 ],
 "metadata": {
  "kernelspec": {
   "display_name": "Python 3",
   "language": "python",
   "name": "python3"
  },
  "language_info": {
   "codemirror_mode": {
    "name": "ipython",
    "version": 3
   },
   "file_extension": ".py",
   "mimetype": "text/x-python",
   "name": "python",
   "nbconvert_exporter": "python",
   "pygments_lexer": "ipython3",
   "version": "3.6.6"
  }
 },
 "nbformat": 4,
 "nbformat_minor": 2
}
