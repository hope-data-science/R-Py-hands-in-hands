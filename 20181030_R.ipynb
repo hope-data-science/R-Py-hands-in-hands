{
 "cells": [
  {
   "cell_type": "markdown",
   "metadata": {},
   "source": [
    "##  R"
   ]
  },
  {
   "cell_type": "markdown",
   "metadata": {},
   "source": [
    "下面来看在R中如何实现相同步骤。"
   ]
  },
  {
   "cell_type": "markdown",
   "metadata": {},
   "source": [
    "### 数据导入与审视"
   ]
  },
  {
   "cell_type": "code",
   "execution_count": 1,
   "metadata": {},
   "outputs": [
    {
     "name": "stderr",
     "output_type": "stream",
     "text": [
      "-- Attaching packages --------------------------------------- tidyverse 1.2.1 --\n",
      "√ ggplot2 3.0.0     √ purrr   0.2.5\n",
      "√ tibble  1.4.2     √ dplyr   0.7.6\n",
      "√ tidyr   0.8.1     √ stringr 1.3.1\n",
      "√ readr   1.1.1     √ forcats 0.3.0\n",
      "-- Conflicts ------------------------------------------ tidyverse_conflicts() --\n",
      "x dplyr::filter() masks stats::filter()\n",
      "x dplyr::lag()    masks stats::lag()\n",
      "Parsed with column specification:\n",
      "cols(\n",
      "  X1 = col_integer(),\n",
      "  X2 = col_character(),\n",
      "  X3 = col_integer(),\n",
      "  X4 = col_character(),\n",
      "  X5 = col_integer(),\n",
      "  X6 = col_character(),\n",
      "  X7 = col_character(),\n",
      "  X8 = col_character(),\n",
      "  X9 = col_character(),\n",
      "  X10 = col_character(),\n",
      "  X11 = col_integer(),\n",
      "  X12 = col_integer(),\n",
      "  X13 = col_integer(),\n",
      "  X14 = col_character(),\n",
      "  X15 = col_character()\n",
      ")\n"
     ]
    },
    {
     "data": {
      "text/html": [
       "<table>\n",
       "<thead><tr><th scope=col>age</th><th scope=col>type_employer</th><th scope=col>fnlwgt</th><th scope=col>education</th><th scope=col>education_num</th><th scope=col>marital</th><th scope=col>occupation</th><th scope=col>relationship</th><th scope=col>race</th><th scope=col>sex</th><th scope=col>capital_gain</th><th scope=col>capital_loss</th><th scope=col>hr_per_week</th><th scope=col>country</th><th scope=col>income</th></tr></thead>\n",
       "<tbody>\n",
       "\t<tr><td>39                                                        </td><td><span style=white-space:pre-wrap>State-gov       </span>  </td><td> 77516                                                    </td><td>Bachelors                                                 </td><td>13                                                        </td><td><span style=white-space:pre-wrap>Never-married     </span></td><td><span style=white-space:pre-wrap>Adm-clerical     </span> </td><td>Not-in-family                                             </td><td>White                                                     </td><td><span style=white-space:pre-wrap>Male  </span>            </td><td>2174                                                      </td><td>0                                                         </td><td>40                                                        </td><td>United-States                                             </td><td>&lt;=50K                                                  </td></tr>\n",
       "\t<tr><td>50                                                       </td><td>Self-emp-not-inc                                         </td><td> 83311                                                   </td><td>Bachelors                                                </td><td>13                                                       </td><td>Married-civ-spouse                                       </td><td><span style=white-space:pre-wrap>Exec-managerial  </span></td><td><span style=white-space:pre-wrap>Husband      </span>    </td><td>White                                                    </td><td><span style=white-space:pre-wrap>Male  </span>           </td><td><span style=white-space:pre-wrap>   0</span>             </td><td>0                                                        </td><td>13                                                       </td><td>United-States                                            </td><td>&lt;=50K                                                 </td></tr>\n",
       "\t<tr><td>38                                                        </td><td><span style=white-space:pre-wrap>Private         </span>  </td><td>215646                                                    </td><td><span style=white-space:pre-wrap>HS-grad  </span>         </td><td> 9                                                        </td><td><span style=white-space:pre-wrap>Divorced          </span></td><td>Handlers-cleaners                                         </td><td>Not-in-family                                             </td><td>White                                                     </td><td><span style=white-space:pre-wrap>Male  </span>            </td><td><span style=white-space:pre-wrap>   0</span>              </td><td>0                                                         </td><td>40                                                        </td><td>United-States                                             </td><td>&lt;=50K                                                  </td></tr>\n",
       "\t<tr><td>53                                                      </td><td><span style=white-space:pre-wrap>Private         </span></td><td>234721                                                  </td><td><span style=white-space:pre-wrap>11th     </span>       </td><td> 7                                                      </td><td>Married-civ-spouse                                      </td><td>Handlers-cleaners                                       </td><td><span style=white-space:pre-wrap>Husband      </span>   </td><td>Black                                                   </td><td><span style=white-space:pre-wrap>Male  </span>          </td><td><span style=white-space:pre-wrap>   0</span>            </td><td>0                                                       </td><td>40                                                      </td><td>United-States                                           </td><td>&lt;=50K                                                </td></tr>\n",
       "\t<tr><td>28                                                       </td><td><span style=white-space:pre-wrap>Private         </span> </td><td>338409                                                   </td><td>Bachelors                                                </td><td>13                                                       </td><td>Married-civ-spouse                                       </td><td><span style=white-space:pre-wrap>Prof-specialty   </span></td><td><span style=white-space:pre-wrap>Wife         </span>    </td><td>Black                                                    </td><td>Female                                                   </td><td><span style=white-space:pre-wrap>   0</span>             </td><td>0                                                        </td><td>40                                                       </td><td><span style=white-space:pre-wrap>Cuba         </span>    </td><td>&lt;=50K                                                 </td></tr>\n",
       "\t<tr><td>37                                                       </td><td><span style=white-space:pre-wrap>Private         </span> </td><td>284582                                                   </td><td><span style=white-space:pre-wrap>Masters  </span>        </td><td>14                                                       </td><td>Married-civ-spouse                                       </td><td><span style=white-space:pre-wrap>Exec-managerial  </span></td><td><span style=white-space:pre-wrap>Wife         </span>    </td><td>White                                                    </td><td>Female                                                   </td><td><span style=white-space:pre-wrap>   0</span>             </td><td>0                                                        </td><td>40                                                       </td><td>United-States                                            </td><td>&lt;=50K                                                 </td></tr>\n",
       "</tbody>\n",
       "</table>\n"
      ],
      "text/latex": [
       "\\begin{tabular}{r|lllllllllllllll}\n",
       " age & type\\_employer & fnlwgt & education & education\\_num & marital & occupation & relationship & race & sex & capital\\_gain & capital\\_loss & hr\\_per\\_week & country & income\\\\\n",
       "\\hline\n",
       "\t 39                 & State-gov          &  77516             & Bachelors          & 13                 & Never-married      & Adm-clerical       & Not-in-family      & White              & Male               & 2174               & 0                  & 40                 & United-States      & <=50K             \\\\\n",
       "\t 50                 & Self-emp-not-inc   &  83311             & Bachelors          & 13                 & Married-civ-spouse & Exec-managerial    & Husband            & White              & Male               &    0               & 0                  & 13                 & United-States      & <=50K             \\\\\n",
       "\t 38                 & Private            & 215646             & HS-grad            &  9                 & Divorced           & Handlers-cleaners  & Not-in-family      & White              & Male               &    0               & 0                  & 40                 & United-States      & <=50K             \\\\\n",
       "\t 53                 & Private            & 234721             & 11th               &  7                 & Married-civ-spouse & Handlers-cleaners  & Husband            & Black              & Male               &    0               & 0                  & 40                 & United-States      & <=50K             \\\\\n",
       "\t 28                 & Private            & 338409             & Bachelors          & 13                 & Married-civ-spouse & Prof-specialty     & Wife               & Black              & Female             &    0               & 0                  & 40                 & Cuba               & <=50K             \\\\\n",
       "\t 37                 & Private            & 284582             & Masters            & 14                 & Married-civ-spouse & Exec-managerial    & Wife               & White              & Female             &    0               & 0                  & 40                 & United-States      & <=50K             \\\\\n",
       "\\end{tabular}\n"
      ],
      "text/markdown": [
       "\n",
       "age | type_employer | fnlwgt | education | education_num | marital | occupation | relationship | race | sex | capital_gain | capital_loss | hr_per_week | country | income | \n",
       "|---|---|---|---|---|---|\n",
       "| 39                 | State-gov          |  77516             | Bachelors          | 13                 | Never-married      | Adm-clerical       | Not-in-family      | White              | Male               | 2174               | 0                  | 40                 | United-States      | <=50K              | \n",
       "| 50                 | Self-emp-not-inc   |  83311             | Bachelors          | 13                 | Married-civ-spouse | Exec-managerial    | Husband            | White              | Male               |    0               | 0                  | 13                 | United-States      | <=50K              | \n",
       "| 38                 | Private            | 215646             | HS-grad            |  9                 | Divorced           | Handlers-cleaners  | Not-in-family      | White              | Male               |    0               | 0                  | 40                 | United-States      | <=50K              | \n",
       "| 53                 | Private            | 234721             | 11th               |  7                 | Married-civ-spouse | Handlers-cleaners  | Husband            | Black              | Male               |    0               | 0                  | 40                 | United-States      | <=50K              | \n",
       "| 28                 | Private            | 338409             | Bachelors          | 13                 | Married-civ-spouse | Prof-specialty     | Wife               | Black              | Female             |    0               | 0                  | 40                 | Cuba               | <=50K              | \n",
       "| 37                 | Private            | 284582             | Masters            | 14                 | Married-civ-spouse | Exec-managerial    | Wife               | White              | Female             |    0               | 0                  | 40                 | United-States      | <=50K              | \n",
       "\n",
       "\n"
      ],
      "text/plain": [
       "  age type_employer    fnlwgt education education_num marital           \n",
       "1 39  State-gov         77516 Bachelors 13            Never-married     \n",
       "2 50  Self-emp-not-inc  83311 Bachelors 13            Married-civ-spouse\n",
       "3 38  Private          215646 HS-grad    9            Divorced          \n",
       "4 53  Private          234721 11th       7            Married-civ-spouse\n",
       "5 28  Private          338409 Bachelors 13            Married-civ-spouse\n",
       "6 37  Private          284582 Masters   14            Married-civ-spouse\n",
       "  occupation        relationship  race  sex    capital_gain capital_loss\n",
       "1 Adm-clerical      Not-in-family White Male   2174         0           \n",
       "2 Exec-managerial   Husband       White Male      0         0           \n",
       "3 Handlers-cleaners Not-in-family White Male      0         0           \n",
       "4 Handlers-cleaners Husband       Black Male      0         0           \n",
       "5 Prof-specialty    Wife          Black Female    0         0           \n",
       "6 Exec-managerial   Wife          White Female    0         0           \n",
       "  hr_per_week country       income\n",
       "1 40          United-States <=50K \n",
       "2 13          United-States <=50K \n",
       "3 40          United-States <=50K \n",
       "4 40          United-States <=50K \n",
       "5 40          Cuba          <=50K \n",
       "6 40          United-States <=50K "
      ]
     },
     "metadata": {},
     "output_type": "display_data"
    }
   ],
   "source": [
    "#读取\n",
    "\n",
    "library(tidyverse)\n",
    "\n",
    "read_csv(\"G:/Py/introduction-datascience-python-book-master/files/ch03/adult.data\",col_names = F) -> df\n",
    "\n",
    "#设置列名称\n",
    "names(df) = c('age', 'type_employer', 'fnlwgt', 'education', \n",
    "                \"education_num\",\"marital\", \"occupation\", \"relationship\", \"race\",\"sex\",\n",
    "                \"capital_gain\", \"capital_loss\", \"hr_per_week\",\"country\",\"income\")\n",
    "\n",
    "#观察前几行\n",
    "df %>% head\n"
   ]
  },
  {
   "cell_type": "code",
   "execution_count": 2,
   "metadata": {},
   "outputs": [
    {
     "data": {
      "text/html": [
       "<table>\n",
       "<thead><tr><th scope=col>age</th><th scope=col>type_employer</th><th scope=col>fnlwgt</th><th scope=col>education</th><th scope=col>education_num</th><th scope=col>marital</th><th scope=col>occupation</th><th scope=col>relationship</th><th scope=col>race</th><th scope=col>sex</th><th scope=col>capital_gain</th><th scope=col>capital_loss</th><th scope=col>hr_per_week</th><th scope=col>country</th><th scope=col>income</th></tr></thead>\n",
       "<tbody>\n",
       "\t<tr><td>22                                                        </td><td><span style=white-space:pre-wrap>Private     </span>      </td><td>310152                                                    </td><td>Some-college                                              </td><td>10                                                        </td><td><span style=white-space:pre-wrap>Never-married     </span></td><td><span style=white-space:pre-wrap>Protective-serv  </span> </td><td>Not-in-family                                             </td><td>White                                                     </td><td><span style=white-space:pre-wrap>Male  </span>            </td><td><span style=white-space:pre-wrap>    0</span>             </td><td>0                                                         </td><td>40                                                        </td><td>United-States                                             </td><td>&lt;=50K                                                  </td></tr>\n",
       "\t<tr><td>27                                                       </td><td><span style=white-space:pre-wrap>Private     </span>     </td><td>257302                                                   </td><td><span style=white-space:pre-wrap>Assoc-acdm  </span>     </td><td>12                                                       </td><td>Married-civ-spouse                                       </td><td><span style=white-space:pre-wrap>Tech-support     </span></td><td><span style=white-space:pre-wrap>Wife         </span>    </td><td>White                                                    </td><td>Female                                                   </td><td><span style=white-space:pre-wrap>    0</span>            </td><td>0                                                        </td><td>38                                                       </td><td>United-States                                            </td><td>&lt;=50K                                                 </td></tr>\n",
       "\t<tr><td>40                                                   </td><td><span style=white-space:pre-wrap>Private     </span> </td><td>154374                                               </td><td><span style=white-space:pre-wrap>HS-grad     </span> </td><td> 9                                                   </td><td>Married-civ-spouse                                   </td><td>Machine-op-inspct                                    </td><td><span style=white-space:pre-wrap>Husband      </span></td><td>White                                                </td><td><span style=white-space:pre-wrap>Male  </span>       </td><td><span style=white-space:pre-wrap>    0</span>        </td><td>0                                                    </td><td>40                                                   </td><td>United-States                                        </td><td>&gt;50K                                              </td></tr>\n",
       "\t<tr><td>58                                                        </td><td><span style=white-space:pre-wrap>Private     </span>      </td><td>151910                                                    </td><td><span style=white-space:pre-wrap>HS-grad     </span>      </td><td> 9                                                        </td><td><span style=white-space:pre-wrap>Widowed           </span></td><td><span style=white-space:pre-wrap>Adm-clerical     </span> </td><td><span style=white-space:pre-wrap>Unmarried    </span>     </td><td>White                                                     </td><td>Female                                                    </td><td><span style=white-space:pre-wrap>    0</span>             </td><td>0                                                         </td><td>40                                                        </td><td>United-States                                             </td><td>&lt;=50K                                                  </td></tr>\n",
       "\t<tr><td>22                                                        </td><td><span style=white-space:pre-wrap>Private     </span>      </td><td>201490                                                    </td><td><span style=white-space:pre-wrap>HS-grad     </span>      </td><td> 9                                                        </td><td><span style=white-space:pre-wrap>Never-married     </span></td><td><span style=white-space:pre-wrap>Adm-clerical     </span> </td><td><span style=white-space:pre-wrap>Own-child    </span>     </td><td>White                                                     </td><td><span style=white-space:pre-wrap>Male  </span>            </td><td><span style=white-space:pre-wrap>    0</span>             </td><td>0                                                         </td><td>20                                                        </td><td>United-States                                             </td><td>&lt;=50K                                                  </td></tr>\n",
       "\t<tr><td>52                                                       </td><td>Self-emp-inc                                             </td><td>287927                                                   </td><td><span style=white-space:pre-wrap>HS-grad     </span>     </td><td> 9                                                       </td><td>Married-civ-spouse                                       </td><td><span style=white-space:pre-wrap>Exec-managerial  </span></td><td><span style=white-space:pre-wrap>Wife         </span>    </td><td>White                                                    </td><td>Female                                                   </td><td>15024                                                    </td><td>0                                                        </td><td>40                                                       </td><td>United-States                                            </td><td>&gt;50K                                                  </td></tr>\n",
       "</tbody>\n",
       "</table>\n"
      ],
      "text/latex": [
       "\\begin{tabular}{r|lllllllllllllll}\n",
       " age & type\\_employer & fnlwgt & education & education\\_num & marital & occupation & relationship & race & sex & capital\\_gain & capital\\_loss & hr\\_per\\_week & country & income\\\\\n",
       "\\hline\n",
       "\t 22                 & Private            & 310152             & Some-college       & 10                 & Never-married      & Protective-serv    & Not-in-family      & White              & Male               &     0              & 0                  & 40                 & United-States      & <=50K             \\\\\n",
       "\t 27                 & Private            & 257302             & Assoc-acdm         & 12                 & Married-civ-spouse & Tech-support       & Wife               & White              & Female             &     0              & 0                  & 38                 & United-States      & <=50K             \\\\\n",
       "\t 40                 & Private            & 154374             & HS-grad            &  9                 & Married-civ-spouse & Machine-op-inspct  & Husband            & White              & Male               &     0              & 0                  & 40                 & United-States      & >50K              \\\\\n",
       "\t 58                 & Private            & 151910             & HS-grad            &  9                 & Widowed            & Adm-clerical       & Unmarried          & White              & Female             &     0              & 0                  & 40                 & United-States      & <=50K             \\\\\n",
       "\t 22                 & Private            & 201490             & HS-grad            &  9                 & Never-married      & Adm-clerical       & Own-child          & White              & Male               &     0              & 0                  & 20                 & United-States      & <=50K             \\\\\n",
       "\t 52                 & Self-emp-inc       & 287927             & HS-grad            &  9                 & Married-civ-spouse & Exec-managerial    & Wife               & White              & Female             & 15024              & 0                  & 40                 & United-States      & >50K              \\\\\n",
       "\\end{tabular}\n"
      ],
      "text/markdown": [
       "\n",
       "age | type_employer | fnlwgt | education | education_num | marital | occupation | relationship | race | sex | capital_gain | capital_loss | hr_per_week | country | income | \n",
       "|---|---|---|---|---|---|\n",
       "| 22                 | Private            | 310152             | Some-college       | 10                 | Never-married      | Protective-serv    | Not-in-family      | White              | Male               |     0              | 0                  | 40                 | United-States      | <=50K              | \n",
       "| 27                 | Private            | 257302             | Assoc-acdm         | 12                 | Married-civ-spouse | Tech-support       | Wife               | White              | Female             |     0              | 0                  | 38                 | United-States      | <=50K              | \n",
       "| 40                 | Private            | 154374             | HS-grad            |  9                 | Married-civ-spouse | Machine-op-inspct  | Husband            | White              | Male               |     0              | 0                  | 40                 | United-States      | >50K               | \n",
       "| 58                 | Private            | 151910             | HS-grad            |  9                 | Widowed            | Adm-clerical       | Unmarried          | White              | Female             |     0              | 0                  | 40                 | United-States      | <=50K              | \n",
       "| 22                 | Private            | 201490             | HS-grad            |  9                 | Never-married      | Adm-clerical       | Own-child          | White              | Male               |     0              | 0                  | 20                 | United-States      | <=50K              | \n",
       "| 52                 | Self-emp-inc       | 287927             | HS-grad            |  9                 | Married-civ-spouse | Exec-managerial    | Wife               | White              | Female             | 15024              | 0                  | 40                 | United-States      | >50K               | \n",
       "\n",
       "\n"
      ],
      "text/plain": [
       "  age type_employer fnlwgt education    education_num marital           \n",
       "1 22  Private       310152 Some-college 10            Never-married     \n",
       "2 27  Private       257302 Assoc-acdm   12            Married-civ-spouse\n",
       "3 40  Private       154374 HS-grad       9            Married-civ-spouse\n",
       "4 58  Private       151910 HS-grad       9            Widowed           \n",
       "5 22  Private       201490 HS-grad       9            Never-married     \n",
       "6 52  Self-emp-inc  287927 HS-grad       9            Married-civ-spouse\n",
       "  occupation        relationship  race  sex    capital_gain capital_loss\n",
       "1 Protective-serv   Not-in-family White Male       0        0           \n",
       "2 Tech-support      Wife          White Female     0        0           \n",
       "3 Machine-op-inspct Husband       White Male       0        0           \n",
       "4 Adm-clerical      Unmarried     White Female     0        0           \n",
       "5 Adm-clerical      Own-child     White Male       0        0           \n",
       "6 Exec-managerial   Wife          White Female 15024        0           \n",
       "  hr_per_week country       income\n",
       "1 40          United-States <=50K \n",
       "2 38          United-States <=50K \n",
       "3 40          United-States >50K  \n",
       "4 40          United-States <=50K \n",
       "5 20          United-States <=50K \n",
       "6 40          United-States >50K  "
      ]
     },
     "metadata": {},
     "output_type": "display_data"
    }
   ],
   "source": [
    "#观察后几行\n",
    "df %>% tail\n"
   ]
  },
  {
   "cell_type": "code",
   "execution_count": 3,
   "metadata": {},
   "outputs": [
    {
     "data": {
      "text/html": [
       "<ol class=list-inline>\n",
       "\t<li>32561</li>\n",
       "\t<li>15</li>\n",
       "</ol>\n"
      ],
      "text/latex": [
       "\\begin{enumerate*}\n",
       "\\item 32561\n",
       "\\item 15\n",
       "\\end{enumerate*}\n"
      ],
      "text/markdown": [
       "1. 32561\n",
       "2. 15\n",
       "\n",
       "\n"
      ],
      "text/plain": [
       "[1] 32561    15"
      ]
     },
     "metadata": {},
     "output_type": "display_data"
    }
   ],
   "source": [
    "df %>% dim"
   ]
  },
  {
   "cell_type": "code",
   "execution_count": 4,
   "metadata": {},
   "outputs": [
    {
     "data": {
      "text/html": [
       "<table>\n",
       "<thead><tr><th scope=col>country</th><th scope=col>n</th></tr></thead>\n",
       "<tbody>\n",
       "\t<tr><td>?                         </td><td>  583                     </td></tr>\n",
       "\t<tr><td>Cambodia                  </td><td>   19                     </td></tr>\n",
       "\t<tr><td>Canada                    </td><td>  121                     </td></tr>\n",
       "\t<tr><td>China                     </td><td>   75                     </td></tr>\n",
       "\t<tr><td>Columbia                  </td><td>   59                     </td></tr>\n",
       "\t<tr><td>Cuba                      </td><td>   95                     </td></tr>\n",
       "\t<tr><td>Dominican-Republic        </td><td>   70                     </td></tr>\n",
       "\t<tr><td>Ecuador                   </td><td>   28                     </td></tr>\n",
       "\t<tr><td>El-Salvador               </td><td>  106                     </td></tr>\n",
       "\t<tr><td>England                   </td><td>   90                     </td></tr>\n",
       "\t<tr><td>France                    </td><td>   29                     </td></tr>\n",
       "\t<tr><td>Germany                   </td><td>  137                     </td></tr>\n",
       "\t<tr><td>Greece                    </td><td>   29                     </td></tr>\n",
       "\t<tr><td>Guatemala                 </td><td>   64                     </td></tr>\n",
       "\t<tr><td>Haiti                     </td><td>   44                     </td></tr>\n",
       "\t<tr><td>Holand-Netherlands        </td><td>    1                     </td></tr>\n",
       "\t<tr><td>Honduras                  </td><td>   13                     </td></tr>\n",
       "\t<tr><td>Hong                      </td><td>   20                     </td></tr>\n",
       "\t<tr><td>Hungary                   </td><td>   13                     </td></tr>\n",
       "\t<tr><td>India                     </td><td>  100                     </td></tr>\n",
       "\t<tr><td>Iran                      </td><td>   43                     </td></tr>\n",
       "\t<tr><td>Ireland                   </td><td>   24                     </td></tr>\n",
       "\t<tr><td>Italy                     </td><td>   73                     </td></tr>\n",
       "\t<tr><td>Jamaica                   </td><td>   81                     </td></tr>\n",
       "\t<tr><td>Japan                     </td><td>   62                     </td></tr>\n",
       "\t<tr><td>Laos                      </td><td>   18                     </td></tr>\n",
       "\t<tr><td>Mexico                    </td><td>  643                     </td></tr>\n",
       "\t<tr><td>Nicaragua                 </td><td>   34                     </td></tr>\n",
       "\t<tr><td>Outlying-US(Guam-USVI-etc)</td><td>   14                     </td></tr>\n",
       "\t<tr><td>Peru                      </td><td>   31                     </td></tr>\n",
       "\t<tr><td>Philippines               </td><td>  198                     </td></tr>\n",
       "\t<tr><td>Poland                    </td><td>   60                     </td></tr>\n",
       "\t<tr><td>Portugal                  </td><td>   37                     </td></tr>\n",
       "\t<tr><td>Puerto-Rico               </td><td>  114                     </td></tr>\n",
       "\t<tr><td>Scotland                  </td><td>   12                     </td></tr>\n",
       "\t<tr><td>South                     </td><td>   80                     </td></tr>\n",
       "\t<tr><td>Taiwan                    </td><td>   51                     </td></tr>\n",
       "\t<tr><td>Thailand                  </td><td>   18                     </td></tr>\n",
       "\t<tr><td><span style=white-space:pre-wrap>Trinadad&amp;Tobago           </span></td><td><span style=white-space:pre-wrap>   19</span>                         </td></tr>\n",
       "\t<tr><td>United-States             </td><td>29170                     </td></tr>\n",
       "\t<tr><td>Vietnam                   </td><td>   67                     </td></tr>\n",
       "\t<tr><td>Yugoslavia                </td><td>   16                     </td></tr>\n",
       "</tbody>\n",
       "</table>\n"
      ],
      "text/latex": [
       "\\begin{tabular}{r|ll}\n",
       " country & n\\\\\n",
       "\\hline\n",
       "\t ?                          &   583                     \\\\\n",
       "\t Cambodia                   &    19                     \\\\\n",
       "\t Canada                     &   121                     \\\\\n",
       "\t China                      &    75                     \\\\\n",
       "\t Columbia                   &    59                     \\\\\n",
       "\t Cuba                       &    95                     \\\\\n",
       "\t Dominican-Republic         &    70                     \\\\\n",
       "\t Ecuador                    &    28                     \\\\\n",
       "\t El-Salvador                &   106                     \\\\\n",
       "\t England                    &    90                     \\\\\n",
       "\t France                     &    29                     \\\\\n",
       "\t Germany                    &   137                     \\\\\n",
       "\t Greece                     &    29                     \\\\\n",
       "\t Guatemala                  &    64                     \\\\\n",
       "\t Haiti                      &    44                     \\\\\n",
       "\t Holand-Netherlands         &     1                     \\\\\n",
       "\t Honduras                   &    13                     \\\\\n",
       "\t Hong                       &    20                     \\\\\n",
       "\t Hungary                    &    13                     \\\\\n",
       "\t India                      &   100                     \\\\\n",
       "\t Iran                       &    43                     \\\\\n",
       "\t Ireland                    &    24                     \\\\\n",
       "\t Italy                      &    73                     \\\\\n",
       "\t Jamaica                    &    81                     \\\\\n",
       "\t Japan                      &    62                     \\\\\n",
       "\t Laos                       &    18                     \\\\\n",
       "\t Mexico                     &   643                     \\\\\n",
       "\t Nicaragua                  &    34                     \\\\\n",
       "\t Outlying-US(Guam-USVI-etc) &    14                     \\\\\n",
       "\t Peru                       &    31                     \\\\\n",
       "\t Philippines                &   198                     \\\\\n",
       "\t Poland                     &    60                     \\\\\n",
       "\t Portugal                   &    37                     \\\\\n",
       "\t Puerto-Rico                &   114                     \\\\\n",
       "\t Scotland                   &    12                     \\\\\n",
       "\t South                      &    80                     \\\\\n",
       "\t Taiwan                     &    51                     \\\\\n",
       "\t Thailand                   &    18                     \\\\\n",
       "\t Trinadad\\&Tobago            &    19                       \\\\\n",
       "\t United-States              & 29170                     \\\\\n",
       "\t Vietnam                    &    67                     \\\\\n",
       "\t Yugoslavia                 &    16                     \\\\\n",
       "\\end{tabular}\n"
      ],
      "text/markdown": [
       "\n",
       "country | n | \n",
       "|---|---|---|---|---|---|---|---|---|---|---|---|---|---|---|---|---|---|---|---|---|---|---|---|---|---|---|---|---|---|---|---|---|---|---|---|---|---|---|---|---|---|\n",
       "| ?                          |   583                      | \n",
       "| Cambodia                   |    19                      | \n",
       "| Canada                     |   121                      | \n",
       "| China                      |    75                      | \n",
       "| Columbia                   |    59                      | \n",
       "| Cuba                       |    95                      | \n",
       "| Dominican-Republic         |    70                      | \n",
       "| Ecuador                    |    28                      | \n",
       "| El-Salvador                |   106                      | \n",
       "| England                    |    90                      | \n",
       "| France                     |    29                      | \n",
       "| Germany                    |   137                      | \n",
       "| Greece                     |    29                      | \n",
       "| Guatemala                  |    64                      | \n",
       "| Haiti                      |    44                      | \n",
       "| Holand-Netherlands         |     1                      | \n",
       "| Honduras                   |    13                      | \n",
       "| Hong                       |    20                      | \n",
       "| Hungary                    |    13                      | \n",
       "| India                      |   100                      | \n",
       "| Iran                       |    43                      | \n",
       "| Ireland                    |    24                      | \n",
       "| Italy                      |    73                      | \n",
       "| Jamaica                    |    81                      | \n",
       "| Japan                      |    62                      | \n",
       "| Laos                       |    18                      | \n",
       "| Mexico                     |   643                      | \n",
       "| Nicaragua                  |    34                      | \n",
       "| Outlying-US(Guam-USVI-etc) |    14                      | \n",
       "| Peru                       |    31                      | \n",
       "| Philippines                |   198                      | \n",
       "| Poland                     |    60                      | \n",
       "| Portugal                   |    37                      | \n",
       "| Puerto-Rico                |   114                      | \n",
       "| Scotland                   |    12                      | \n",
       "| South                      |    80                      | \n",
       "| Taiwan                     |    51                      | \n",
       "| Thailand                   |    18                      | \n",
       "| Trinadad&Tobago            |    19                      | \n",
       "| United-States              | 29170                      | \n",
       "| Vietnam                    |    67                      | \n",
       "| Yugoslavia                 |    16                      | \n",
       "\n",
       "\n"
      ],
      "text/plain": [
       "   country                    n    \n",
       "1  ?                            583\n",
       "2  Cambodia                      19\n",
       "3  Canada                       121\n",
       "4  China                         75\n",
       "5  Columbia                      59\n",
       "6  Cuba                          95\n",
       "7  Dominican-Republic            70\n",
       "8  Ecuador                       28\n",
       "9  El-Salvador                  106\n",
       "10 England                       90\n",
       "11 France                        29\n",
       "12 Germany                      137\n",
       "13 Greece                        29\n",
       "14 Guatemala                     64\n",
       "15 Haiti                         44\n",
       "16 Holand-Netherlands             1\n",
       "17 Honduras                      13\n",
       "18 Hong                          20\n",
       "19 Hungary                       13\n",
       "20 India                        100\n",
       "21 Iran                          43\n",
       "22 Ireland                       24\n",
       "23 Italy                         73\n",
       "24 Jamaica                       81\n",
       "25 Japan                         62\n",
       "26 Laos                          18\n",
       "27 Mexico                       643\n",
       "28 Nicaragua                     34\n",
       "29 Outlying-US(Guam-USVI-etc)    14\n",
       "30 Peru                          31\n",
       "31 Philippines                  198\n",
       "32 Poland                        60\n",
       "33 Portugal                      37\n",
       "34 Puerto-Rico                  114\n",
       "35 Scotland                      12\n",
       "36 South                         80\n",
       "37 Taiwan                        51\n",
       "38 Thailand                      18\n",
       "39 Trinadad&Tobago               19\n",
       "40 United-States              29170\n",
       "41 Vietnam                       67\n",
       "42 Yugoslavia                    16"
      ]
     },
     "metadata": {},
     "output_type": "display_data"
    }
   ],
   "source": [
    "df %>% count(country)"
   ]
  },
  {
   "cell_type": "markdown",
   "metadata": {},
   "source": [
    "### 数据分割"
   ]
  },
  {
   "cell_type": "code",
   "execution_count": 6,
   "metadata": {},
   "outputs": [],
   "source": [
    "df %>% filter(sex == 'Male') -> ml\n",
    "df %>% filter(sex == 'Male',income == '>50K\\n') -> ml1\n",
    "df %>% filter(sex == 'Female') -> fml\n",
    "df %>% filter(sex == 'Female',income == '>50K\\n') -> fml1\n",
    "df %>% filter(income == '>50K\\n') -> df1"
   ]
  },
  {
   "cell_type": "markdown",
   "metadata": {},
   "source": [
    "### 基本统计量展示"
   ]
  },
  {
   "cell_type": "code",
   "execution_count": 13,
   "metadata": {},
   "outputs": [
    {
     "name": "stdout",
     "output_type": "stream",
     "text": [
      "[1]  39.43355 178.77375  13.37063  38.00000\n"
     ]
    }
   ],
   "source": [
    "ml %>% pull(age) %>% mean -> ml_mu\n",
    "ml %>% pull(age) %>% var -> ml_var\n",
    "ml %>% pull(age) %>% sd -> ml_std\n",
    "ml %>% pull(age) %>% median -> ml_median\n",
    "\n",
    "print(c(ml_mu,ml_var,ml_std,ml_median))"
   ]
  },
  {
   "cell_type": "markdown",
   "metadata": {},
   "source": [
    "### 清除离群点"
   ]
  },
  {
   "cell_type": "code",
   "execution_count": 18,
   "metadata": {},
   "outputs": [
    {
     "data": {
      "text/html": [
       "<ol class=list-inline>\n",
       "\t<li>32561</li>\n",
       "\t<li>15</li>\n",
       "</ol>\n"
      ],
      "text/latex": [
       "\\begin{enumerate*}\n",
       "\\item 32561\n",
       "\\item 15\n",
       "\\end{enumerate*}\n"
      ],
      "text/markdown": [
       "1. 32561\n",
       "2. 15\n",
       "\n",
       "\n"
      ],
      "text/plain": [
       "[1] 32561    15"
      ]
     },
     "metadata": {},
     "output_type": "display_data"
    }
   ],
   "source": [
    "df %>%dim"
   ]
  },
  {
   "cell_type": "code",
   "execution_count": 21,
   "metadata": {},
   "outputs": [
    {
     "data": {
      "text/html": [
       "<ol class=list-inline>\n",
       "\t<li>32561</li>\n",
       "\t<li>15</li>\n",
       "</ol>\n"
      ],
      "text/latex": [
       "\\begin{enumerate*}\n",
       "\\item 32561\n",
       "\\item 15\n",
       "\\end{enumerate*}\n"
      ],
      "text/markdown": [
       "1. 32561\n",
       "2. 15\n",
       "\n",
       "\n"
      ],
      "text/plain": [
       "[1] 32561    15"
      ]
     },
     "metadata": {},
     "output_type": "display_data"
    }
   ],
   "source": [
    "df %>% pull(hr_per_week) %>% sd -> hr_sd\n",
    "df %>% pull(hr_per_week) %>% median -> hr_median\n",
    "\n",
    "df %>%\n",
    " filter(hr_per_week <= (hr_median + 3*hr_median) | \n",
    "        hr_per_week >= (hr_median - 3*hr_median))  -> df2\n",
    "\n",
    "dim(df2)"
   ]
  },
  {
   "cell_type": "markdown",
   "metadata": {},
   "source": [
    "上面的操作本质是筛选在上下界之间的数据点。"
   ]
  },
  {
   "cell_type": "markdown",
   "metadata": {},
   "source": [
    "## 分析"
   ]
  },
  {
   "cell_type": "markdown",
   "metadata": {},
   "source": [
    "在清楚离群点的时候，两个语言用的函数和思路不一样，需要体会一下。值得注意的是，使用dplyr管道的时候要随时注意数据集的改变，因此对中位数和标准差的计算需要在外部进行，然后在最后的函数中直接以常数的形式被利用。"
   ]
  },
  {
   "cell_type": "code",
   "execution_count": null,
   "metadata": {},
   "outputs": [],
   "source": []
  },
  {
   "cell_type": "code",
   "execution_count": null,
   "metadata": {},
   "outputs": [],
   "source": []
  },
  {
   "cell_type": "code",
   "execution_count": null,
   "metadata": {},
   "outputs": [],
   "source": []
  }
 ],
 "metadata": {
  "kernelspec": {
   "display_name": "R",
   "language": "R",
   "name": "ir"
  },
  "language_info": {
   "codemirror_mode": "r",
   "file_extension": ".r",
   "mimetype": "text/x-r-source",
   "name": "R",
   "pygments_lexer": "r",
   "version": "3.5.1"
  }
 },
 "nbformat": 4,
 "nbformat_minor": 2
}
